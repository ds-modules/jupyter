{
 "cells": [
  {
   "cell_type": "markdown",
   "metadata": {
    "#student": false
   },
   "source": [
    "# Biogeography Notebook 1\n",
    "\n",
    "The goal of this notebook is to access and integrate diverse data sets to visualize correlations and discover patterns to address questions of species’ responses to environmental change. We will use programmatic tools to show how to use Berkeley resources such as the biodiversity data from biocollections and online databases, field stations, climate models, and other environmental data. If you have any questions getting the Jupyter notebook to run, try dropping into [data peer consulting](https://data.berkeley.edu/education/data-peer-consulting).\n",
    "\n",
    "Before we begin analyzing and visualizing biodiversity data, this introductory notebook will help familiarize you with the basics of programming in Python.\n",
    "\n",
    "## Table of Contents\n",
    "\n",
    "Please complete sections 0 and 1 before coming to class.\n",
    "\n",
    "0 - [Jupyter Notebooks](#jupyter)\n",
    "    \n",
    "1 - [Python Basics](#python basics)\n",
    "\n",
    "3 - [GBIF API](#gbif)\n"
   ]
  },
  {
   "cell_type": "markdown",
   "metadata": {
    "#student": false
   },
   "source": [
    "# Part 0: Our Computing Environment, Jupyter notebooks  <a id='jupyter'></a>\n",
    "This webpage is called a Jupyter notebook. A notebook is a place to write programs and view their results. \n",
    "\n",
    "### Text cells\n",
    "In a notebook, each rectangle containing text or code is called a *cell*.\n",
    "\n",
    "Text cells (like this one) can be edited by double-clicking on them. They're written in a simple format called [Markdown](http://daringfireball.net/projects/markdown/syntax) to add formatting and section headings.  You don't need to learn Markdown, but you might want to.\n",
    "\n",
    "After you edit a text cell, click the \"run cell\" button at the top that looks like ▶| to confirm any changes. (Try not to delete the instructions of the lab.)"
   ]
  },
  {
   "cell_type": "markdown",
   "metadata": {
    "#student": false
   },
   "source": [
    "### Code cells\n",
    "Other cells contain code in the Python 3 language. Running a code cell will execute all of the code it contains.\n",
    "\n",
    "To run the code in a code cell, first click on that cell to activate it.  It'll be highlighted with a little green or blue rectangle.  Next, either press ▶| or hold down the `shift` key and press `return` or `enter`.\n",
    "\n",
    "Try running this cell:"
   ]
  },
  {
   "cell_type": "code",
   "execution_count": 1,
   "metadata": {
    "#student": false
   },
   "outputs": [
    {
     "name": "stdout",
     "output_type": "stream",
     "text": [
      "Hello, World!\n"
     ]
    }
   ],
   "source": [
    "print(\"Hello, World!\")"
   ]
  },
  {
   "cell_type": "markdown",
   "metadata": {
    "#student": false
   },
   "source": [
    "And this one:"
   ]
  },
  {
   "cell_type": "code",
   "execution_count": 2,
   "metadata": {
    "#student": false
   },
   "outputs": [
    {
     "name": "stdout",
     "output_type": "stream",
     "text": [
      "👋, 🌏!\n"
     ]
    }
   ],
   "source": [
    "print(\"\\N{WAVING HAND SIGN}, \\N{EARTH GLOBE ASIA-AUSTRALIA}!\")"
   ]
  },
  {
   "cell_type": "markdown",
   "metadata": {
    "#student": false
   },
   "source": [
    "In order to finish the setup for this notebook, run the following cell:"
   ]
  },
  {
   "cell_type": "code",
   "execution_count": 3,
   "metadata": {
    "#student": false,
    "collapsed": true
   },
   "outputs": [],
   "source": [
    "%%capture\n",
    "!pip install --no-cache-dir shapely\n",
    "!pip install -U folium\n",
    "\n",
    "%matplotlib inline\n",
    "import os\n",
    "import time\n",
    "import folium\n",
    "from datetime import datetime\n",
    "from shapely.geometry import Point, mapping\n",
    "from shapely.geometry.polygon import Polygon\n",
    "import matplotlib as mpl\n",
    "from matplotlib.collections import PatchCollection\n",
    "import matplotlib.pyplot as plt\n",
    "import numpy as np\n",
    "import pandas as pd\n",
    "import requests\n",
    "from datascience import *\n",
    "from shapely import geometry as sg, wkt\n",
    "from scripts.espm_module import *\n",
    "import json\n",
    "import random\n",
    "from IPython.core.display import display, HTML\n",
    "import ipywidgets as widgets\n",
    "plt.style.use('seaborn')"
   ]
  },
  {
   "cell_type": "markdown",
   "metadata": {
    "#student": false
   },
   "source": [
    "# Part 1: Python basics <a id='python basics'></a>\n",
    "Before getting into the more high level analyses we will do on the GBIF and Cal-Adapt data, we need to cover a few of the foundational elements of programming in Python.\n",
    "\n",
    "#### A. Expressions\n",
    "The departure point for all programming is the concept of the __expression__. An expression is a combination of variables, operators, and other Python elements that the language interprets and acts upon. Expressions act as a set of instructions to be fed through the interpreter, with the goal of generating specific outcomes. See below for some examples of basic expressions. Keep in mind that most of these just map to your understanding of mathematical expressions:"
   ]
  },
  {
   "cell_type": "code",
   "execution_count": 4,
   "metadata": {
    "#student": false
   },
   "outputs": [
    {
     "data": {
      "text/plain": [
       "10"
      ]
     },
     "execution_count": 4,
     "metadata": {},
     "output_type": "execute_result"
    }
   ],
   "source": [
    "2 + 2\n",
    "\n",
    "'me' + ' and I'\n",
    "\n",
    "12 ** 2\n",
    "\n",
    "6 + 4"
   ]
  },
  {
   "cell_type": "markdown",
   "metadata": {
    "#student": false
   },
   "source": [
    "You will notice that only the last line in a cell gets printed out. If you want to see the values of previous expressions, you need to call the `print` function on that expression. Functions use parenthesis around their parameters, just like in math!"
   ]
  },
  {
   "cell_type": "code",
   "execution_count": 5,
   "metadata": {
    "#student": false
   },
   "outputs": [
    {
     "name": "stdout",
     "output_type": "stream",
     "text": [
      "4\n",
      "you and I\n",
      "144\n",
      "10\n"
     ]
    }
   ],
   "source": [
    "print(2 + 2)\n",
    "\n",
    "print('you' + ' and I')\n",
    "\n",
    "print(12 ** 2)\n",
    "\n",
    "print(6 + 4)"
   ]
  },
  {
   "cell_type": "markdown",
   "metadata": {
    "#student": false
   },
   "source": [
    "#### B. Variables\n",
    "In the example below, `a` and `b` are Python objects known as __variables__. We are giving an object (in this case, an `integer` and a `float`, two Python data types) a name that we can store for later use. To use that value, we can simply type the name that we stored the value as. Variables are stored within the notebook's environment, meaning stored variable values carry over from cell to cell."
   ]
  },
  {
   "cell_type": "code",
   "execution_count": 6,
   "metadata": {
    "#student": false,
    "collapsed": true
   },
   "outputs": [],
   "source": [
    "a = 4\n",
    "b = 10/5"
   ]
  },
  {
   "cell_type": "markdown",
   "metadata": {
    "#student": false
   },
   "source": [
    "Notice that when you create a variable, unlike what you previously saw with the expressions, it does not print anything out.\n",
    "\n",
    "We can continue to perform mathematical operations on these variables, which are now placeholders for what we've assigned:"
   ]
  },
  {
   "cell_type": "code",
   "execution_count": 7,
   "metadata": {
    "#student": false
   },
   "outputs": [
    {
     "name": "stdout",
     "output_type": "stream",
     "text": [
      "6.0\n"
     ]
    }
   ],
   "source": [
    "print(a + b)"
   ]
  },
  {
   "cell_type": "markdown",
   "metadata": {
    "#student": false
   },
   "source": [
    "#### C. Lists\n",
    "The following few cells will introduce the concept of __lists__.\n",
    "\n",
    "A list is an ordered collection of objects. They allow us to store and access groups of variables and other objects for easy access and analysis. Check out this [documentation](https://www.tutorialspoint.com/python/python_lists.htm) for an in-depth look at the capabilities of lists.\n",
    "\n",
    "To initialize a list, you use brackets. Putting objects separated by commas in between the brackets will add them to the list. "
   ]
  },
  {
   "cell_type": "code",
   "execution_count": 8,
   "metadata": {
    "#student": false
   },
   "outputs": [
    {
     "name": "stdout",
     "output_type": "stream",
     "text": [
      "[]\n",
      "[1, 3, 6, 'lists', 'arefun', 4]\n"
     ]
    }
   ],
   "source": [
    "# an empty list\n",
    "lst = []\n",
    "print(lst)\n",
    "\n",
    "# reassigning our empty list to a new list\n",
    "lst = [1, 3, 6, 'lists', 'are' 'fun', 4]\n",
    "print(lst)"
   ]
  },
  {
   "cell_type": "markdown",
   "metadata": {
    "#student": false
   },
   "source": [
    "To access a value in the list, put the index of the item you wish to access in brackets following the variable that stores the list. Lists in Python are zero-indexed, so the indicies for `lst` are 0, 1, 2, 3, 4, 5, and 6."
   ]
  },
  {
   "cell_type": "code",
   "execution_count": 9,
   "metadata": {
    "#student": false
   },
   "outputs": [
    {
     "name": "stdout",
     "output_type": "stream",
     "text": [
      "6\n"
     ]
    }
   ],
   "source": [
    "# Elements are selected like this:\n",
    "example = lst[2]\n",
    "\n",
    "# The above line selects the 3rd element of lst (list indices are 0-offset) and sets it to a variable named example.\n",
    "print(example)"
   ]
  },
  {
   "cell_type": "markdown",
   "metadata": {
    "#student": false
   },
   "source": [
    "#### D. Dictionaries\n",
    "\n",
    "Dictionaries are `key`-`value` pairs. Just like a word dictinary, you have a key that will index a specific definition."
   ]
  },
  {
   "cell_type": "code",
   "execution_count": 10,
   "metadata": {
    "#student": false,
    "collapsed": true
   },
   "outputs": [],
   "source": [
    "my_dict = {'python': 'a large heavy-bodied nonvenomous constrictor snake occurring throughout the Old World tropics.'}"
   ]
  },
  {
   "cell_type": "markdown",
   "metadata": {
    "#student": false
   },
   "source": [
    "We can get a `value` back out by indexing the `key`:"
   ]
  },
  {
   "cell_type": "code",
   "execution_count": 11,
   "metadata": {
    "#student": false
   },
   "outputs": [
    {
     "data": {
      "text/plain": [
       "'a large heavy-bodied nonvenomous constrictor snake occurring throughout the Old World tropics.'"
      ]
     },
     "execution_count": 11,
     "metadata": {},
     "output_type": "execute_result"
    }
   ],
   "source": [
    "my_dict['python']"
   ]
  },
  {
   "cell_type": "markdown",
   "metadata": {
    "#student": false
   },
   "source": [
    "But like real dictionaries, there can be more than one definition. You can keep a `list`, or even another dictionary within a specific `key`:"
   ]
  },
  {
   "cell_type": "code",
   "execution_count": 12,
   "metadata": {
    "#student": false,
    "collapsed": true
   },
   "outputs": [],
   "source": [
    "my_dict = {'python': ['a large heavy-bodied nonvenomous constrictor snake occurring throughout the Old World tropics.',\n",
    "                      'a high-level general-purpose programming language.']}"
   ]
  },
  {
   "cell_type": "markdown",
   "metadata": {
    "#student": false
   },
   "source": [
    "We can index the `list` after the `key`:"
   ]
  },
  {
   "cell_type": "code",
   "execution_count": 13,
   "metadata": {
    "#student": false
   },
   "outputs": [
    {
     "data": {
      "text/plain": [
       "'a large heavy-bodied nonvenomous constrictor snake occurring throughout the Old World tropics.'"
      ]
     },
     "execution_count": 13,
     "metadata": {},
     "output_type": "execute_result"
    }
   ],
   "source": [
    "my_dict['python'][0]"
   ]
  },
  {
   "cell_type": "code",
   "execution_count": 14,
   "metadata": {
    "#student": false
   },
   "outputs": [
    {
     "data": {
      "text/plain": [
       "'a high-level general-purpose programming language.'"
      ]
     },
     "execution_count": 14,
     "metadata": {},
     "output_type": "execute_result"
    }
   ],
   "source": [
    "my_dict['python'][1]"
   ]
  },
  {
   "cell_type": "markdown",
   "metadata": {
    "#student": false
   },
   "source": [
    "---\n",
    "\n",
    "# Part 2: GBIF API<a id='gbif'></a>\n",
    "\n",
    "Click on the [link](http://www.gbif.org/) to the GBIF website to discover what GBIF can do!\n",
    "\n",
    "<div class=\"alert alert-block alert-warning\">\n",
    "**QUESTION 1:** What does GBIF stand for and who is it coordinated by?\n",
    "</div>"
   ]
  },
  {
   "cell_type": "markdown",
   "metadata": {
    "#student": true
   },
   "source": [
    "test response"
   ]
  },
  {
   "cell_type": "markdown",
   "metadata": {
    "#student": false
   },
   "source": [
    "The Global Biodiversity Information Facility has created an API that we can use to get data about different species at the [GBIF Web API](http://www.gbif.org/developer/summary).\n",
    "\n",
    "You can think of a Web API call as a fancy URL. What do you think the end of this URL means?\n",
    "\n",
    "http://api.gbif.org/v1/occurrence/search?year=1800,1899\n",
    "\n",
    "If you're guessing that it limits the search to the years 1800-1899, you're right! Go ahead and click the URL above. You should see something like this:\n",
    "\n",
    "```\n",
    "{\"offset\":0,\"limit\":20,\"endOfRecords\":false,\"count\":5711947,\"results\":[{\"key\":14339704,\"datasetKey\":\"857aa892-f762-11e1-a439-00145eb45e9a\",\"publishingOrgKey\":\"6bcc0290-6e76-11db-bcd5-b8a03c50a862\",\"publishingCountry\":\"FR\",\"protocol\":\"BIOCASE\",\"lastCrawled\":\"2013-09-07T07:06:34.000+0000\",\"crawlId\":1,\"extensions\":{},\"basisOfRecord\":\"OBSERVATION\",\"taxonKey\":2809968,\"kingdomKey\":6,\"phylumKey\":7707728,\"classKey\":196,\"orderKey\":1169,\"familyKey\":7689,\"genusKey\":2849312,\"speciesKey\":2809968,\"scientificName\":\"Orchis militaris L.\",\"kingdom\":\"Plantae\",\"phylum\":\"Tracheophyta\",\"order\":\"Asparagales\",\"family\":\"Orchidaceae\",\"genus\":\"Orchis\",\"species\":\"Orchis \n",
    "```\n",
    "\n",
    "It might look like a mess, but it's not! This is actually very structured data, and can easily be put into a table like format, though often programmers don't do this because it's just as easy to keep it as is.\n",
    "\n",
    "You might be able to pick out the curly braces `{` and think this it's a dictionary. You'd be right, except in this format we call it [JSON](https://en.wikipedia.org/wiki/JSON).\n",
    "\n",
    "---\n",
    "\n",
    "## *Argia arioides*\n",
    "\n",
    "![argia arioides](https://upload.wikimedia.org/wikipedia/commons/thumb/b/bd/Argia_agrioides-Male-1.jpg/220px-Argia_agrioides-Male-1.jpg)\n",
    "\n",
    "When performing data analysis, it is always important to define a question that you seek the answer to. *The goal of finding the answer to this question will ultimately drive the queries and analysis styles you choose to use/write.*\n",
    "\n",
    "For this example, we are going to ask: **where have [*Argia agrioides*](https://www.google.com/search?q=Argia+agrioides&rlz=1C1CHBF_enUS734US734&source=lnms&tbm=isch&sa=X&ved=0ahUKEwji9t29kNTWAhVBymMKHWJ-ANcQ_AUICygC&biw=1536&bih=694) (the California Dancer dragonfly) been documented? Are there records at any of our field stations?**\n",
    "\n",
    "The code to ask the API has already been written for us! This is often the case with programming, someone has already written the code, so we don't have to. We'll just set up the `GBIFRequest` object and assign that to the variable `req`, short for \"request\":"
   ]
  },
  {
   "cell_type": "code",
   "execution_count": 15,
   "metadata": {
    "#student": false,
    "collapsed": true
   },
   "outputs": [],
   "source": [
    "req = GBIFRequest()  # creating a request to the API"
   ]
  },
  {
   "cell_type": "markdown",
   "metadata": {
    "#student": false
   },
   "source": [
    "Great, so how do we make searches? We can use a Python `dictionary` to create our query parameters. We'll ask for the `scientificName` of the California Dancer (*Argia arioides*):"
   ]
  },
  {
   "cell_type": "code",
   "execution_count": 16,
   "metadata": {
    "#student": false,
    "collapsed": true
   },
   "outputs": [],
   "source": [
    "params = {'scientificName': 'Argia agrioides'}  # setting our parameters (the specific species we want)"
   ]
  },
  {
   "cell_type": "markdown",
   "metadata": {
    "#student": false
   },
   "source": [
    "Now that we have the parameters, we can feed this to our `req` variable to get back all the pages of data. We'll then make sure that each record has a `decimalLatitude`, otherwise we'll thow it out for now. Lastly, we'll print out the first five records:"
   ]
  },
  {
   "cell_type": "code",
   "execution_count": 17,
   "metadata": {
    "#student": false,
    "scrolled": true
   },
   "outputs": [
    {
     "data": {
      "text/plain": [
       "[{'acceptedScientificName': 'Argia agrioides Calvert, 1895',\n",
       "  'acceptedTaxonKey': 5051459,\n",
       "  'basisOfRecord': 'HUMAN_OBSERVATION',\n",
       "  'catalogNumber': '20373409',\n",
       "  'class': 'Insecta',\n",
       "  'classKey': 216,\n",
       "  'collectionCode': 'Observations',\n",
       "  'coordinateUncertaintyInMeters': 122.0,\n",
       "  'country': 'Mexico',\n",
       "  'countryCode': 'MX',\n",
       "  'crawlId': 183,\n",
       "  'datasetKey': '50c9509d-22c7-4a22-a47d-8c48425ef4a7',\n",
       "  'datasetName': 'iNaturalist research-grade observations',\n",
       "  'dateIdentified': '2019-02-15T23:07:23',\n",
       "  'day': 11,\n",
       "  'decimalLatitude': 23.05612,\n",
       "  'decimalLongitude': -109.684839,\n",
       "  'eventDate': '2019-02-11T15:22:00',\n",
       "  'eventTime': '20:22:00Z',\n",
       "  'extensions': {},\n",
       "  'facts': [],\n",
       "  'family': 'Coenagrionidae',\n",
       "  'familyKey': 8577,\n",
       "  'gbifID': '2005347832',\n",
       "  'genericName': 'Argia',\n",
       "  'genus': 'Argia',\n",
       "  'genusKey': 1422607,\n",
       "  'geodeticDatum': 'WGS84',\n",
       "  'http://unknown.org/nick': 'rileywalsh',\n",
       "  'http://unknown.org/occurrenceDetails': 'https://www.inaturalist.org/observations/20373409',\n",
       "  'identificationID': '45333596',\n",
       "  'identifier': '20373409',\n",
       "  'identifiers': [],\n",
       "  'installationKey': '997448a8-f762-11e1-a439-00145eb45e9a',\n",
       "  'institutionCode': 'iNaturalist',\n",
       "  'issues': ['COORDINATE_ROUNDED', 'GEODETIC_DATUM_ASSUMED_WGS84'],\n",
       "  'key': 2005347832,\n",
       "  'kingdom': 'Animalia',\n",
       "  'kingdomKey': 1,\n",
       "  'lastCrawled': '2019-09-09T10:08:01.155+0000',\n",
       "  'lastInterpreted': '2019-08-27T23:42:01.613+0000',\n",
       "  'lastParsed': '2019-08-27T23:40:20.753+0000',\n",
       "  'license': 'http://creativecommons.org/licenses/by-nc/4.0/legalcode',\n",
       "  'media': [{'created': '2019-02-11T23:22:19.000+0000',\n",
       "    'creator': 'Riley Walsh',\n",
       "    'format': 'image/jpeg',\n",
       "    'identifier': 'https://static.inaturalist.org/photos/31461399/original.jpg?1550271698',\n",
       "    'license': 'http://creativecommons.org/licenses/by-nc/4.0/',\n",
       "    'publisher': 'iNaturalist',\n",
       "    'references': 'https://www.inaturalist.org/photos/31461399',\n",
       "    'rightsHolder': 'Riley Walsh',\n",
       "    'type': 'StillImage'},\n",
       "   {'created': '2019-02-11T23:23:50.000+0000',\n",
       "    'creator': 'Riley Walsh',\n",
       "    'format': 'image/jpeg',\n",
       "    'identifier': 'https://static.inaturalist.org/photos/31461492/original.jpg?1550271864',\n",
       "    'license': 'http://creativecommons.org/licenses/by-nc/4.0/',\n",
       "    'publisher': 'iNaturalist',\n",
       "    'references': 'https://www.inaturalist.org/photos/31461492',\n",
       "    'rightsHolder': 'Riley Walsh',\n",
       "    'type': 'StillImage'},\n",
       "   {'created': '2019-02-11T23:24:36.000+0000',\n",
       "    'creator': 'Riley Walsh',\n",
       "    'format': 'image/jpeg',\n",
       "    'identifier': 'https://static.inaturalist.org/photos/31461493/original.jpg?1550271867',\n",
       "    'license': 'http://creativecommons.org/licenses/by-nc/4.0/',\n",
       "    'publisher': 'iNaturalist',\n",
       "    'references': 'https://www.inaturalist.org/photos/31461493',\n",
       "    'rightsHolder': 'Riley Walsh',\n",
       "    'type': 'StillImage'},\n",
       "   {'created': '2019-02-11T23:24:02.000+0000',\n",
       "    'creator': 'Riley Walsh',\n",
       "    'format': 'image/jpeg',\n",
       "    'identifier': 'https://static.inaturalist.org/photos/31461497/original.jpg?1550271870',\n",
       "    'license': 'http://creativecommons.org/licenses/by-nc/4.0/',\n",
       "    'publisher': 'iNaturalist',\n",
       "    'references': 'https://www.inaturalist.org/photos/31461497',\n",
       "    'rightsHolder': 'Riley Walsh',\n",
       "    'type': 'StillImage'}],\n",
       "  'modified': '2019-02-16T00:32:41.000+0000',\n",
       "  'month': 2,\n",
       "  'networkKeys': [],\n",
       "  'occurrenceID': 'https://www.inaturalist.org/observations/20373409',\n",
       "  'order': 'Odonata',\n",
       "  'orderKey': 789,\n",
       "  'phylum': 'Arthropoda',\n",
       "  'phylumKey': 54,\n",
       "  'protocol': 'DWC_ARCHIVE',\n",
       "  'publishingCountry': 'US',\n",
       "  'publishingOrgKey': '28eb1a3f-1c15-4a95-931a-4af90ecb574d',\n",
       "  'recordedBy': 'Riley Walsh',\n",
       "  'references': 'https://www.inaturalist.org/observations/20373409',\n",
       "  'relations': [],\n",
       "  'rights': '© Riley Walsh some rights reserved',\n",
       "  'rightsHolder': 'Riley Walsh',\n",
       "  'scientificName': 'Argia agrioides Calvert, 1895',\n",
       "  'species': 'Argia agrioides',\n",
       "  'speciesKey': 5051459,\n",
       "  'specificEpithet': 'agrioides',\n",
       "  'stateProvince': 'Baja California Sur',\n",
       "  'taxonID': '51220',\n",
       "  'taxonKey': 5051459,\n",
       "  'taxonRank': 'SPECIES',\n",
       "  'taxonomicStatus': 'ACCEPTED',\n",
       "  'verbatimEventDate': '2019/02/11 3:22 PM EST',\n",
       "  'verbatimLocality': 'Los Cabos, Baja California Sur, Mexico',\n",
       "  'year': 2019},\n",
       " {'acceptedScientificName': 'Argia agrioides Calvert, 1895',\n",
       "  'acceptedTaxonKey': 5051459,\n",
       "  'basisOfRecord': 'HUMAN_OBSERVATION',\n",
       "  'catalogNumber': '20393774',\n",
       "  'class': 'Insecta',\n",
       "  'classKey': 216,\n",
       "  'collectionCode': 'Observations',\n",
       "  'coordinateUncertaintyInMeters': 161.0,\n",
       "  'country': 'Mexico',\n",
       "  'countryCode': 'MX',\n",
       "  'crawlId': 183,\n",
       "  'datasetKey': '50c9509d-22c7-4a22-a47d-8c48425ef4a7',\n",
       "  'datasetName': 'iNaturalist research-grade observations',\n",
       "  'dateIdentified': '2019-02-16T20:58:06',\n",
       "  'day': 15,\n",
       "  'decimalLatitude': 23.471412,\n",
       "  'decimalLongitude': -109.807965,\n",
       "  'eventDate': '2019-02-15T09:38:00',\n",
       "  'eventTime': '16:38:00Z',\n",
       "  'extensions': {},\n",
       "  'facts': [],\n",
       "  'family': 'Coenagrionidae',\n",
       "  'familyKey': 8577,\n",
       "  'gbifID': '2242748091',\n",
       "  'genericName': 'Argia',\n",
       "  'genus': 'Argia',\n",
       "  'genusKey': 1422607,\n",
       "  'geodeticDatum': 'WGS84',\n",
       "  'http://unknown.org/nick': 'blevine',\n",
       "  'http://unknown.org/occurrenceDetails': 'https://www.inaturalist.org/observations/20393774',\n",
       "  'identificationID': '45399264',\n",
       "  'identifier': '20393774',\n",
       "  'identifiers': [],\n",
       "  'installationKey': '997448a8-f762-11e1-a439-00145eb45e9a',\n",
       "  'institutionCode': 'iNaturalist',\n",
       "  'issues': ['COORDINATE_ROUNDED', 'GEODETIC_DATUM_ASSUMED_WGS84'],\n",
       "  'key': 2242748091,\n",
       "  'kingdom': 'Animalia',\n",
       "  'kingdomKey': 1,\n",
       "  'lastCrawled': '2019-09-09T10:08:03.008+0000',\n",
       "  'lastInterpreted': '2019-08-27T23:42:06.505+0000',\n",
       "  'lastParsed': '2019-08-27T23:40:24.005+0000',\n",
       "  'license': 'http://creativecommons.org/licenses/by-nc/4.0/legalcode',\n",
       "  'modified': '2019-07-21T23:23:04.000+0000',\n",
       "  'month': 2,\n",
       "  'networkKeys': [],\n",
       "  'occurrenceID': 'https://www.inaturalist.org/observations/20393774',\n",
       "  'order': 'Odonata',\n",
       "  'orderKey': 789,\n",
       "  'phylum': 'Arthropoda',\n",
       "  'phylumKey': 54,\n",
       "  'protocol': 'DWC_ARCHIVE',\n",
       "  'publishingCountry': 'US',\n",
       "  'publishingOrgKey': '28eb1a3f-1c15-4a95-931a-4af90ecb574d',\n",
       "  'recordedBy': 'Bill Levine',\n",
       "  'references': 'https://www.inaturalist.org/observations/20393774',\n",
       "  'relations': [],\n",
       "  'rights': '© Bill Levine some rights reserved',\n",
       "  'rightsHolder': 'Bill Levine',\n",
       "  'scientificName': 'Argia agrioides Calvert, 1895',\n",
       "  'species': 'Argia agrioides',\n",
       "  'speciesKey': 5051459,\n",
       "  'specificEpithet': 'agrioides',\n",
       "  'stateProvince': 'Baja California Sur',\n",
       "  'taxonID': '51220',\n",
       "  'taxonKey': 5051459,\n",
       "  'taxonRank': 'SPECIES',\n",
       "  'taxonomicStatus': 'ACCEPTED',\n",
       "  'verbatimEventDate': '2019/02/15 9:38 AM MST',\n",
       "  'verbatimLocality': 'Santa Rita Hot Springs, Baja California Sur, Mexico',\n",
       "  'year': 2019},\n",
       " {'acceptedScientificName': 'Argia agrioides Calvert, 1895',\n",
       "  'acceptedTaxonKey': 5051459,\n",
       "  'basisOfRecord': 'HUMAN_OBSERVATION',\n",
       "  'catalogNumber': '22377619',\n",
       "  'class': 'Insecta',\n",
       "  'classKey': 216,\n",
       "  'collectionCode': 'Observations',\n",
       "  'coordinateUncertaintyInMeters': 15.0,\n",
       "  'country': 'Mexico',\n",
       "  'countryCode': 'MX',\n",
       "  'crawlId': 183,\n",
       "  'datasetKey': '50c9509d-22c7-4a22-a47d-8c48425ef4a7',\n",
       "  'datasetName': 'iNaturalist research-grade observations',\n",
       "  'dateIdentified': '2019-04-12T18:04:30',\n",
       "  'day': 11,\n",
       "  'decimalLatitude': 23.471531,\n",
       "  'decimalLongitude': -109.808546,\n",
       "  'eventDate': '2019-04-11T10:56:00',\n",
       "  'eventTime': '16:56:00Z',\n",
       "  'extensions': {},\n",
       "  'facts': [],\n",
       "  'family': 'Coenagrionidae',\n",
       "  'familyKey': 8577,\n",
       "  'gbifID': '2242754197',\n",
       "  'genericName': 'Argia',\n",
       "  'genus': 'Argia',\n",
       "  'genusKey': 1422607,\n",
       "  'geodeticDatum': 'WGS84',\n",
       "  'http://unknown.org/nick': 'blevine',\n",
       "  'http://unknown.org/occurrenceDetails': 'https://www.inaturalist.org/observations/22377619',\n",
       "  'identificationID': '49916431',\n",
       "  'identifier': '22377619',\n",
       "  'identifiers': [],\n",
       "  'installationKey': '997448a8-f762-11e1-a439-00145eb45e9a',\n",
       "  'institutionCode': 'iNaturalist',\n",
       "  'issues': ['COORDINATE_ROUNDED', 'GEODETIC_DATUM_ASSUMED_WGS84'],\n",
       "  'key': 2242754197,\n",
       "  'kingdom': 'Animalia',\n",
       "  'kingdomKey': 1,\n",
       "  'lastCrawled': '2019-09-09T10:10:54.101+0000',\n",
       "  'lastInterpreted': '2019-08-27T23:50:46.025+0000',\n",
       "  'lastParsed': '2019-08-27T23:46:18.039+0000',\n",
       "  'license': 'http://creativecommons.org/licenses/by-nc/4.0/legalcode',\n",
       "  'modified': '2019-04-12T19:29:31.000+0000',\n",
       "  'month': 4,\n",
       "  'networkKeys': [],\n",
       "  'occurrenceID': 'https://www.inaturalist.org/observations/22377619',\n",
       "  'order': 'Odonata',\n",
       "  'orderKey': 789,\n",
       "  'phylum': 'Arthropoda',\n",
       "  'phylumKey': 54,\n",
       "  'protocol': 'DWC_ARCHIVE',\n",
       "  'publishingCountry': 'US',\n",
       "  'publishingOrgKey': '28eb1a3f-1c15-4a95-931a-4af90ecb574d',\n",
       "  'recordedBy': 'Bill Levine',\n",
       "  'references': 'https://www.inaturalist.org/observations/22377619',\n",
       "  'relations': [],\n",
       "  'rights': '© Bill Levine some rights reserved',\n",
       "  'rightsHolder': 'Bill Levine',\n",
       "  'scientificName': 'Argia agrioides Calvert, 1895',\n",
       "  'species': 'Argia agrioides',\n",
       "  'speciesKey': 5051459,\n",
       "  'specificEpithet': 'agrioides',\n",
       "  'stateProvince': 'Baja California Sur',\n",
       "  'taxonID': '51220',\n",
       "  'taxonKey': 5051459,\n",
       "  'taxonRank': 'SPECIES',\n",
       "  'taxonomicStatus': 'ACCEPTED',\n",
       "  'verbatimEventDate': '2019/04/11 10:56 AM MDT',\n",
       "  'verbatimLocality': 'Los Cabos, Baja California Sur, Mexico',\n",
       "  'year': 2019},\n",
       " {'acceptedScientificName': 'Argia agrioides Calvert, 1895',\n",
       "  'acceptedTaxonKey': 5051459,\n",
       "  'basisOfRecord': 'HUMAN_OBSERVATION',\n",
       "  'catalogNumber': '25338726',\n",
       "  'class': 'Insecta',\n",
       "  'classKey': 216,\n",
       "  'collectionCode': 'Observations',\n",
       "  'coordinateUncertaintyInMeters': 50.0,\n",
       "  'country': 'United States of America',\n",
       "  'countryCode': 'US',\n",
       "  'crawlId': 183,\n",
       "  'datasetKey': '50c9509d-22c7-4a22-a47d-8c48425ef4a7',\n",
       "  'datasetName': 'iNaturalist research-grade observations',\n",
       "  'dateIdentified': '2019-05-18T20:20:35',\n",
       "  'day': 17,\n",
       "  'decimalLatitude': 33.918933,\n",
       "  'decimalLongitude': -112.678956,\n",
       "  'eventDate': '2019-05-17T13:07:00',\n",
       "  'eventTime': '20:07:00Z',\n",
       "  'extensions': {},\n",
       "  'facts': [],\n",
       "  'family': 'Coenagrionidae',\n",
       "  'familyKey': 8577,\n",
       "  'gbifID': '2294416884',\n",
       "  'genericName': 'Argia',\n",
       "  'genus': 'Argia',\n",
       "  'genusKey': 1422607,\n",
       "  'geodeticDatum': 'WGS84',\n",
       "  'http://unknown.org/nick': 'eric_hough',\n",
       "  'http://unknown.org/occurrenceDetails': 'https://www.inaturalist.org/observations/25338726',\n",
       "  'identificationID': '55516160',\n",
       "  'identifier': '25338726',\n",
       "  'identifiers': [],\n",
       "  'installationKey': '997448a8-f762-11e1-a439-00145eb45e9a',\n",
       "  'institutionCode': 'iNaturalist',\n",
       "  'issues': ['COORDINATE_ROUNDED', 'GEODETIC_DATUM_ASSUMED_WGS84'],\n",
       "  'key': 2294416884,\n",
       "  'kingdom': 'Animalia',\n",
       "  'kingdomKey': 1,\n",
       "  'lastCrawled': '2019-09-09T10:14:38.793+0000',\n",
       "  'lastInterpreted': '2019-08-28T00:20:55.715+0000',\n",
       "  'lastParsed': '2019-08-28T00:16:16.196+0000',\n",
       "  'license': 'http://creativecommons.org/licenses/by-nc/4.0/legalcode',\n",
       "  'media': [{'created': '2019-05-17T20:07:30.000+0000',\n",
       "    'creator': 'Eric Hough',\n",
       "    'format': 'image/jpeg',\n",
       "    'identifier': 'https://static.inaturalist.org/photos/39232310/original.jpg?1558210803',\n",
       "    'license': 'http://creativecommons.org/licenses/by-nc/4.0/',\n",
       "    'publisher': 'iNaturalist',\n",
       "    'references': 'https://www.inaturalist.org/photos/39232310',\n",
       "    'rightsHolder': 'Eric Hough',\n",
       "    'type': 'StillImage'}],\n",
       "  'modified': '2019-07-18T18:13:59.000+0000',\n",
       "  'month': 5,\n",
       "  'networkKeys': [],\n",
       "  'occurrenceID': 'https://www.inaturalist.org/observations/25338726',\n",
       "  'order': 'Odonata',\n",
       "  'orderKey': 789,\n",
       "  'phylum': 'Arthropoda',\n",
       "  'phylumKey': 54,\n",
       "  'protocol': 'DWC_ARCHIVE',\n",
       "  'publishingCountry': 'US',\n",
       "  'publishingOrgKey': '28eb1a3f-1c15-4a95-931a-4af90ecb574d',\n",
       "  'recordedBy': 'Eric Hough',\n",
       "  'references': 'https://www.inaturalist.org/observations/25338726',\n",
       "  'relations': [],\n",
       "  'rights': '© Eric Hough some rights reserved',\n",
       "  'rightsHolder': 'Eric Hough',\n",
       "  'scientificName': 'Argia agrioides Calvert, 1895',\n",
       "  'species': 'Argia agrioides',\n",
       "  'speciesKey': 5051459,\n",
       "  'specificEpithet': 'agrioides',\n",
       "  'stateProvince': 'Arizona',\n",
       "  'taxonID': '51220',\n",
       "  'taxonKey': 5051459,\n",
       "  'taxonRank': 'SPECIES',\n",
       "  'taxonomicStatus': 'ACCEPTED',\n",
       "  'verbatimEventDate': '2019/05/17 1:07 PM MST',\n",
       "  'verbatimLocality': 'Hassayampa River Preserve, Wickenburg, Maricopa County, AZ, USA',\n",
       "  'year': 2019},\n",
       " {'acceptedScientificName': 'Argia agrioides Calvert, 1895',\n",
       "  'acceptedTaxonKey': 5051459,\n",
       "  'basisOfRecord': 'HUMAN_OBSERVATION',\n",
       "  'catalogNumber': '25235332',\n",
       "  'class': 'Insecta',\n",
       "  'classKey': 216,\n",
       "  'collectionCode': 'Observations',\n",
       "  'coordinateUncertaintyInMeters': 15.0,\n",
       "  'country': 'United States of America',\n",
       "  'countryCode': 'US',\n",
       "  'crawlId': 183,\n",
       "  'datasetKey': '50c9509d-22c7-4a22-a47d-8c48425ef4a7',\n",
       "  'datasetName': 'iNaturalist research-grade observations',\n",
       "  'dateIdentified': '2019-05-16T21:55:46',\n",
       "  'day': 15,\n",
       "  'decimalLatitude': 33.452334,\n",
       "  'decimalLongitude': -116.961915,\n",
       "  'eventDate': '2019-05-15T14:53:00',\n",
       "  'eventTime': '21:53:00Z',\n",
       "  'extensions': {},\n",
       "  'facts': [],\n",
       "  'family': 'Coenagrionidae',\n",
       "  'familyKey': 8577,\n",
       "  'gbifID': '2244223827',\n",
       "  'genericName': 'Argia',\n",
       "  'genus': 'Argia',\n",
       "  'genusKey': 1422607,\n",
       "  'geodeticDatum': 'WGS84',\n",
       "  'http://unknown.org/nick': 'bdog',\n",
       "  'http://unknown.org/occurrenceDetails': 'https://www.inaturalist.org/observations/25235332',\n",
       "  'identificationID': '55307434',\n",
       "  'identifier': '25235332',\n",
       "  'identifiers': [],\n",
       "  'installationKey': '997448a8-f762-11e1-a439-00145eb45e9a',\n",
       "  'institutionCode': 'iNaturalist',\n",
       "  'issues': ['COORDINATE_ROUNDED', 'GEODETIC_DATUM_ASSUMED_WGS84'],\n",
       "  'key': 2244223827,\n",
       "  'kingdom': 'Animalia',\n",
       "  'kingdomKey': 1,\n",
       "  'lastCrawled': '2019-09-09T10:14:31.389+0000',\n",
       "  'lastInterpreted': '2019-09-09T10:14:31.451+0000',\n",
       "  'lastParsed': '2019-09-09T10:14:31.411+0000',\n",
       "  'license': 'http://creativecommons.org/licenses/by-nc/4.0/legalcode',\n",
       "  'media': [{'created': '2019-05-16T09:21:39.000+0000',\n",
       "    'creator': 'bdog',\n",
       "    'format': 'image/jpeg',\n",
       "    'identifier': 'https://static.inaturalist.org/photos/39065554/original.jpeg?1558043668',\n",
       "    'license': 'http://creativecommons.org/licenses/by-nc/4.0/',\n",
       "    'publisher': 'iNaturalist',\n",
       "    'references': 'https://www.inaturalist.org/photos/39065554',\n",
       "    'rightsHolder': 'bdog',\n",
       "    'type': 'StillImage'}],\n",
       "  'modified': '2019-08-30T06:47:20.000+0000',\n",
       "  'month': 5,\n",
       "  'networkKeys': [],\n",
       "  'occurrenceID': 'https://www.inaturalist.org/observations/25235332',\n",
       "  'order': 'Odonata',\n",
       "  'orderKey': 789,\n",
       "  'phylum': 'Arthropoda',\n",
       "  'phylumKey': 54,\n",
       "  'protocol': 'DWC_ARCHIVE',\n",
       "  'publishingCountry': 'US',\n",
       "  'publishingOrgKey': '28eb1a3f-1c15-4a95-931a-4af90ecb574d',\n",
       "  'recordedBy': 'bdog',\n",
       "  'references': 'https://www.inaturalist.org/observations/25235332',\n",
       "  'relations': [],\n",
       "  'rights': '© bdog some rights reserved',\n",
       "  'rightsHolder': 'bdog',\n",
       "  'scientificName': 'Argia agrioides Calvert, 1895',\n",
       "  'species': 'Argia agrioides',\n",
       "  'speciesKey': 5051459,\n",
       "  'specificEpithet': 'agrioides',\n",
       "  'stateProvince': 'California',\n",
       "  'taxonID': '51220',\n",
       "  'taxonKey': 5051459,\n",
       "  'taxonRank': 'SPECIES',\n",
       "  'taxonomicStatus': 'ACCEPTED',\n",
       "  'verbatimEventDate': '2019/05/15 2:53 PM -0700',\n",
       "  'verbatimLocality': 'Riverside County, CA, USA',\n",
       "  'year': 2019}]"
      ]
     },
     "execution_count": 17,
     "metadata": {},
     "output_type": "execute_result"
    }
   ],
   "source": [
    "params = {'scientificName': 'Argia agrioides'}  # setting our parameters (the specific species we want)\n",
    "pages = req.get_pages(params)  # using those parameters to complete the request\n",
    "records = [rec for page in pages for rec in page['results'] if rec.get('decimalLatitude')]  # sift out valid records\n",
    "records[:5]  # print first 5 records"
   ]
  },
  {
   "cell_type": "markdown",
   "metadata": {
    "#student": false
   },
   "source": [
    "<div class=\"alert alert-block alert-warning\">\n",
    "**QUESTION 2:** Why might it be useful to know the documented occurences of a species? Name one organization which would find this information useful.\n",
    "</div>"
   ]
  },
  {
   "cell_type": "markdown",
   "metadata": {
    "#student": true
   },
   "source": [
    "test response"
   ]
  },
  {
   "cell_type": "markdown",
   "metadata": {
    "#student": false
   },
   "source": [
    "<div class=\"alert alert-block alert-warning\">\n",
    "**QUESTION 3:** What is the *geographic range* of an organism\n",
    "</div>"
   ]
  },
  {
   "cell_type": "markdown",
   "metadata": {
    "#student": true
   },
   "source": [
    "test response"
   ]
  },
  {
   "cell_type": "markdown",
   "metadata": {
    "#student": false
   },
   "source": [
    "<div class=\"alert alert-block alert-warning\">\n",
    "**QUESTION 4:** How do museum records help us to understand how populations are changing?\n",
    "</div>"
   ]
  },
  {
   "cell_type": "markdown",
   "metadata": {
    "#student": true
   },
   "source": [
    "test response"
   ]
  },
  {
   "cell_type": "markdown",
   "metadata": {
    "#student": false
   },
   "source": [
    "### DataFrames\n",
    "\n",
    "JSON is great, but it might be conceptually easier to make this a table. We'll use the popular [`pandas`](http://pandas.pydata.org/) Python library. In `pandas`, a DataFrame is a table that has several convenient features. For example, we can access the columns of the table like we would `dict`ionaries, and we can also treat the columns and rows themselves as Python `list`s."
   ]
  },
  {
   "cell_type": "code",
   "execution_count": 18,
   "metadata": {
    "#student": false
   },
   "outputs": [
    {
     "data": {
      "text/html": [
       "<div>\n",
       "<style scoped>\n",
       "    .dataframe tbody tr th:only-of-type {\n",
       "        vertical-align: middle;\n",
       "    }\n",
       "\n",
       "    .dataframe tbody tr th {\n",
       "        vertical-align: top;\n",
       "    }\n",
       "\n",
       "    .dataframe thead th {\n",
       "        text-align: right;\n",
       "    }\n",
       "</style>\n",
       "<table border=\"1\" class=\"dataframe\">\n",
       "  <thead>\n",
       "    <tr style=\"text-align: right;\">\n",
       "      <th></th>\n",
       "      <th>acceptedNameUsage</th>\n",
       "      <th>acceptedScientificName</th>\n",
       "      <th>acceptedTaxonKey</th>\n",
       "      <th>accessRights</th>\n",
       "      <th>associatedReferences</th>\n",
       "      <th>basisOfRecord</th>\n",
       "      <th>bibliographicCitation</th>\n",
       "      <th>catalogNumber</th>\n",
       "      <th>class</th>\n",
       "      <th>classKey</th>\n",
       "      <th>...</th>\n",
       "      <th>taxonKey</th>\n",
       "      <th>taxonRank</th>\n",
       "      <th>taxonRemarks</th>\n",
       "      <th>taxonomicStatus</th>\n",
       "      <th>type</th>\n",
       "      <th>verbatimElevation</th>\n",
       "      <th>verbatimEventDate</th>\n",
       "      <th>verbatimLocality</th>\n",
       "      <th>vernacularName</th>\n",
       "      <th>year</th>\n",
       "    </tr>\n",
       "  </thead>\n",
       "  <tbody>\n",
       "    <tr>\n",
       "      <th>0</th>\n",
       "      <td>NaN</td>\n",
       "      <td>Argia agrioides Calvert, 1895</td>\n",
       "      <td>5051459</td>\n",
       "      <td>NaN</td>\n",
       "      <td>NaN</td>\n",
       "      <td>HUMAN_OBSERVATION</td>\n",
       "      <td>NaN</td>\n",
       "      <td>20373409</td>\n",
       "      <td>Insecta</td>\n",
       "      <td>216</td>\n",
       "      <td>...</td>\n",
       "      <td>5051459</td>\n",
       "      <td>SPECIES</td>\n",
       "      <td>NaN</td>\n",
       "      <td>ACCEPTED</td>\n",
       "      <td>NaN</td>\n",
       "      <td>NaN</td>\n",
       "      <td>2019/02/11 3:22 PM EST</td>\n",
       "      <td>Los Cabos, Baja California Sur, Mexico</td>\n",
       "      <td>NaN</td>\n",
       "      <td>2019.0</td>\n",
       "    </tr>\n",
       "    <tr>\n",
       "      <th>1</th>\n",
       "      <td>NaN</td>\n",
       "      <td>Argia agrioides Calvert, 1895</td>\n",
       "      <td>5051459</td>\n",
       "      <td>NaN</td>\n",
       "      <td>NaN</td>\n",
       "      <td>HUMAN_OBSERVATION</td>\n",
       "      <td>NaN</td>\n",
       "      <td>20393774</td>\n",
       "      <td>Insecta</td>\n",
       "      <td>216</td>\n",
       "      <td>...</td>\n",
       "      <td>5051459</td>\n",
       "      <td>SPECIES</td>\n",
       "      <td>NaN</td>\n",
       "      <td>ACCEPTED</td>\n",
       "      <td>NaN</td>\n",
       "      <td>NaN</td>\n",
       "      <td>2019/02/15 9:38 AM MST</td>\n",
       "      <td>Santa Rita Hot Springs, Baja California Sur, M...</td>\n",
       "      <td>NaN</td>\n",
       "      <td>2019.0</td>\n",
       "    </tr>\n",
       "    <tr>\n",
       "      <th>2</th>\n",
       "      <td>NaN</td>\n",
       "      <td>Argia agrioides Calvert, 1895</td>\n",
       "      <td>5051459</td>\n",
       "      <td>NaN</td>\n",
       "      <td>NaN</td>\n",
       "      <td>HUMAN_OBSERVATION</td>\n",
       "      <td>NaN</td>\n",
       "      <td>22377619</td>\n",
       "      <td>Insecta</td>\n",
       "      <td>216</td>\n",
       "      <td>...</td>\n",
       "      <td>5051459</td>\n",
       "      <td>SPECIES</td>\n",
       "      <td>NaN</td>\n",
       "      <td>ACCEPTED</td>\n",
       "      <td>NaN</td>\n",
       "      <td>NaN</td>\n",
       "      <td>2019/04/11 10:56 AM MDT</td>\n",
       "      <td>Los Cabos, Baja California Sur, Mexico</td>\n",
       "      <td>NaN</td>\n",
       "      <td>2019.0</td>\n",
       "    </tr>\n",
       "    <tr>\n",
       "      <th>3</th>\n",
       "      <td>NaN</td>\n",
       "      <td>Argia agrioides Calvert, 1895</td>\n",
       "      <td>5051459</td>\n",
       "      <td>NaN</td>\n",
       "      <td>NaN</td>\n",
       "      <td>HUMAN_OBSERVATION</td>\n",
       "      <td>NaN</td>\n",
       "      <td>25338726</td>\n",
       "      <td>Insecta</td>\n",
       "      <td>216</td>\n",
       "      <td>...</td>\n",
       "      <td>5051459</td>\n",
       "      <td>SPECIES</td>\n",
       "      <td>NaN</td>\n",
       "      <td>ACCEPTED</td>\n",
       "      <td>NaN</td>\n",
       "      <td>NaN</td>\n",
       "      <td>2019/05/17 1:07 PM MST</td>\n",
       "      <td>Hassayampa River Preserve, Wickenburg, Maricop...</td>\n",
       "      <td>NaN</td>\n",
       "      <td>2019.0</td>\n",
       "    </tr>\n",
       "    <tr>\n",
       "      <th>4</th>\n",
       "      <td>NaN</td>\n",
       "      <td>Argia agrioides Calvert, 1895</td>\n",
       "      <td>5051459</td>\n",
       "      <td>NaN</td>\n",
       "      <td>NaN</td>\n",
       "      <td>HUMAN_OBSERVATION</td>\n",
       "      <td>NaN</td>\n",
       "      <td>25235332</td>\n",
       "      <td>Insecta</td>\n",
       "      <td>216</td>\n",
       "      <td>...</td>\n",
       "      <td>5051459</td>\n",
       "      <td>SPECIES</td>\n",
       "      <td>NaN</td>\n",
       "      <td>ACCEPTED</td>\n",
       "      <td>NaN</td>\n",
       "      <td>NaN</td>\n",
       "      <td>2019/05/15 2:53 PM -0700</td>\n",
       "      <td>Riverside County, CA, USA</td>\n",
       "      <td>NaN</td>\n",
       "      <td>2019.0</td>\n",
       "    </tr>\n",
       "  </tbody>\n",
       "</table>\n",
       "<p>5 rows × 115 columns</p>\n",
       "</div>"
      ],
      "text/plain": [
       "  acceptedNameUsage         acceptedScientificName  acceptedTaxonKey  \\\n",
       "0               NaN  Argia agrioides Calvert, 1895           5051459   \n",
       "1               NaN  Argia agrioides Calvert, 1895           5051459   \n",
       "2               NaN  Argia agrioides Calvert, 1895           5051459   \n",
       "3               NaN  Argia agrioides Calvert, 1895           5051459   \n",
       "4               NaN  Argia agrioides Calvert, 1895           5051459   \n",
       "\n",
       "  accessRights associatedReferences      basisOfRecord bibliographicCitation  \\\n",
       "0          NaN                  NaN  HUMAN_OBSERVATION                   NaN   \n",
       "1          NaN                  NaN  HUMAN_OBSERVATION                   NaN   \n",
       "2          NaN                  NaN  HUMAN_OBSERVATION                   NaN   \n",
       "3          NaN                  NaN  HUMAN_OBSERVATION                   NaN   \n",
       "4          NaN                  NaN  HUMAN_OBSERVATION                   NaN   \n",
       "\n",
       "  catalogNumber    class  classKey  ... taxonKey taxonRank taxonRemarks  \\\n",
       "0      20373409  Insecta       216  ...  5051459   SPECIES          NaN   \n",
       "1      20393774  Insecta       216  ...  5051459   SPECIES          NaN   \n",
       "2      22377619  Insecta       216  ...  5051459   SPECIES          NaN   \n",
       "3      25338726  Insecta       216  ...  5051459   SPECIES          NaN   \n",
       "4      25235332  Insecta       216  ...  5051459   SPECIES          NaN   \n",
       "\n",
       "   taxonomicStatus type verbatimElevation         verbatimEventDate  \\\n",
       "0         ACCEPTED  NaN               NaN    2019/02/11 3:22 PM EST   \n",
       "1         ACCEPTED  NaN               NaN    2019/02/15 9:38 AM MST   \n",
       "2         ACCEPTED  NaN               NaN   2019/04/11 10:56 AM MDT   \n",
       "3         ACCEPTED  NaN               NaN    2019/05/17 1:07 PM MST   \n",
       "4         ACCEPTED  NaN               NaN  2019/05/15 2:53 PM -0700   \n",
       "\n",
       "                                    verbatimLocality vernacularName    year  \n",
       "0             Los Cabos, Baja California Sur, Mexico            NaN  2019.0  \n",
       "1  Santa Rita Hot Springs, Baja California Sur, M...            NaN  2019.0  \n",
       "2             Los Cabos, Baja California Sur, Mexico            NaN  2019.0  \n",
       "3  Hassayampa River Preserve, Wickenburg, Maricop...            NaN  2019.0  \n",
       "4                          Riverside County, CA, USA            NaN  2019.0  \n",
       "\n",
       "[5 rows x 115 columns]"
      ]
     },
     "execution_count": 18,
     "metadata": {},
     "output_type": "execute_result"
    }
   ],
   "source": [
    "records_df = pd.read_json(json.dumps(records))  # converts the JSON above to a dataframe\n",
    "records_df.head()  # prints the first five rows of the dataframe"
   ]
  },
  {
   "cell_type": "markdown",
   "metadata": {
    "#student": false
   },
   "source": [
    "Since each column (or row) above can be thought of as a `list`, that means we can use list functions to interact with them! One such function is the `len` function to get the number of elements in a `list`:"
   ]
  },
  {
   "cell_type": "code",
   "execution_count": 19,
   "metadata": {
    "#student": false
   },
   "outputs": [
    {
     "data": {
      "text/plain": [
       "(115, 301)"
      ]
     },
     "execution_count": 19,
     "metadata": {},
     "output_type": "execute_result"
    }
   ],
   "source": [
    "len(records_df.columns), len(records_df)"
   ]
  },
  {
   "cell_type": "markdown",
   "metadata": {
    "#student": false
   },
   "source": [
    "So we have 115 columns and 301 rows! That's a lot of information. What variables do we have in the columns?"
   ]
  },
  {
   "cell_type": "code",
   "execution_count": 20,
   "metadata": {
    "#student": false
   },
   "outputs": [
    {
     "data": {
      "text/plain": [
       "Index(['acceptedNameUsage', 'acceptedScientificName', 'acceptedTaxonKey',\n",
       "       'accessRights', 'associatedReferences', 'basisOfRecord',\n",
       "       'bibliographicCitation', 'catalogNumber', 'class', 'classKey',\n",
       "       ...\n",
       "       'taxonKey', 'taxonRank', 'taxonRemarks', 'taxonomicStatus', 'type',\n",
       "       'verbatimElevation', 'verbatimEventDate', 'verbatimLocality',\n",
       "       'vernacularName', 'year'],\n",
       "      dtype='object', length=115)"
      ]
     },
     "execution_count": 20,
     "metadata": {},
     "output_type": "execute_result"
    }
   ],
   "source": [
    "records_df.columns"
   ]
  },
  {
   "cell_type": "markdown",
   "metadata": {
    "#student": false
   },
   "source": [
    "We can use two methods from `pandas` to do a lot more. The `value_counts()` method will tabulate the frequency of the row value in a column, and the `plot.barh()` will plot us a horizontal bar chart:"
   ]
  },
  {
   "cell_type": "code",
   "execution_count": 21,
   "metadata": {
    "#student": false
   },
   "outputs": [
    {
     "data": {
      "text/plain": [
       "United States of America    251\n",
       "Mexico                       50\n",
       "Name: country, dtype: int64"
      ]
     },
     "execution_count": 21,
     "metadata": {},
     "output_type": "execute_result"
    }
   ],
   "source": [
    "records_df['country'].value_counts()"
   ]
  },
  {
   "cell_type": "code",
   "execution_count": 22,
   "metadata": {
    "#student": false,
    "collapsed": true
   },
   "outputs": [],
   "source": [
    "records_df['country'].value_counts().plot.barh();"
   ]
  },
  {
   "cell_type": "code",
   "execution_count": 23,
   "metadata": {
    "#student": false,
    "collapsed": true
   },
   "outputs": [],
   "source": [
    "records_df['county'].value_counts().plot.barh();"
   ]
  },
  {
   "cell_type": "markdown",
   "metadata": {
    "#student": false
   },
   "source": [
    "<div class=\"alert alert-block alert-warning\">\n",
    "**QUESTION 5:** How many counties have only one record of *Argia agrioides*? \n",
    "</div>"
   ]
  },
  {
   "cell_type": "markdown",
   "metadata": {
    "#student": true
   },
   "source": [
    "test response"
   ]
  },
  {
   "cell_type": "markdown",
   "metadata": {
    "#student": false
   },
   "source": [
    "<div class=\"alert alert-block alert-warning\">\n",
    "**QUESTION 6:** Stanislaus County has the highest record of *Argia agrioides*. Other than high abundance in this county, why else might there be a high number of records here?\n",
    "</div>"
   ]
  },
  {
   "cell_type": "markdown",
   "metadata": {
    "#student": true
   },
   "source": [
    "test response"
   ]
  },
  {
   "cell_type": "code",
   "execution_count": 24,
   "metadata": {
    "#student": false,
    "collapsed": true
   },
   "outputs": [],
   "source": [
    "records_df['basisOfRecord'].value_counts().plot.barh();"
   ]
  },
  {
   "cell_type": "markdown",
   "metadata": {
    "#student": false
   },
   "source": [
    "<div class=\"alert alert-block alert-warning\">\n",
    "**QUESTION 7:** What are some cautions that should be taken when including human observations? What are the benefits? \n",
    "</div>"
   ]
  },
  {
   "cell_type": "markdown",
   "metadata": {
    "#student": true
   },
   "source": [
    "test response"
   ]
  },
  {
   "cell_type": "code",
   "execution_count": 25,
   "metadata": {
    "#student": false,
    "collapsed": true
   },
   "outputs": [],
   "source": [
    "records_df['collectionCode'].value_counts().plot.barh();"
   ]
  },
  {
   "cell_type": "markdown",
   "metadata": {
    "#student": false
   },
   "source": [
    "<div class=\"alert alert-block alert-warning\">\n",
    "**QUESTION 8:** Each museum has a unique institution code (called a collection code). How many records belong to the Essig Museum of Entomology Collection?\n",
    "</div>"
   ]
  },
  {
   "cell_type": "markdown",
   "metadata": {
    "#student": true
   },
   "source": [
    "test response"
   ]
  },
  {
   "cell_type": "markdown",
   "metadata": {
    "#student": false
   },
   "source": [
    "The `groupby()` method allows us to count based one column based on another, and then color the bar chart differently depending on a variable of our choice:"
   ]
  },
  {
   "cell_type": "code",
   "execution_count": 26,
   "metadata": {
    "#student": false,
    "collapsed": true
   },
   "outputs": [],
   "source": [
    "records_df.groupby([\"collectionCode\", \"basisOfRecord\"])['basisOfRecord'].count();"
   ]
  },
  {
   "cell_type": "code",
   "execution_count": 27,
   "metadata": {
    "#student": false,
    "collapsed": true
   },
   "outputs": [],
   "source": [
    "records_df.groupby([\"collectionCode\", \"basisOfRecord\"])['basisOfRecord'].count().unstack().plot.barh(stacked=True);"
   ]
  },
  {
   "cell_type": "markdown",
   "metadata": {
    "#student": false
   },
   "source": [
    "And we can use `plot.hist()` to make a histogram:"
   ]
  },
  {
   "cell_type": "code",
   "execution_count": 28,
   "metadata": {
    "#student": false,
    "collapsed": true
   },
   "outputs": [],
   "source": [
    "records_df['elevation'].plot.hist();"
   ]
  },
  {
   "cell_type": "markdown",
   "metadata": {
    "#student": false
   },
   "source": [
    "<div class=\"alert alert-block alert-warning\">\n",
    "**QUESTION 9:** What does plotting the elevation indicate about the distribution of *Argia agrioides*? Can you infer anything about the biology of the organism from this information?\n",
    "</div>"
   ]
  },
  {
   "cell_type": "markdown",
   "metadata": {
    "#student": true
   },
   "source": [
    "test response"
   ]
  },
  {
   "cell_type": "markdown",
   "metadata": {
    "#student": false
   },
   "source": [
    "---\n",
    "\n",
    "<div class=\"alert alert-block alert-info\">\n",
    "**EXERCISE**: Edit the code below to search for a different species you're interested in, then use  the graphing cells below to explore your data!\n",
    "</div>"
   ]
  },
  {
   "cell_type": "code",
   "execution_count": 29,
   "metadata": {
    "#student": false
   },
   "outputs": [
    {
     "data": {
      "text/html": [
       "<div>\n",
       "<style scoped>\n",
       "    .dataframe tbody tr th:only-of-type {\n",
       "        vertical-align: middle;\n",
       "    }\n",
       "\n",
       "    .dataframe tbody tr th {\n",
       "        vertical-align: top;\n",
       "    }\n",
       "\n",
       "    .dataframe thead th {\n",
       "        text-align: right;\n",
       "    }\n",
       "</style>\n",
       "<table border=\"1\" class=\"dataframe\">\n",
       "  <thead>\n",
       "    <tr style=\"text-align: right;\">\n",
       "      <th></th>\n",
       "      <th>acceptedScientificName</th>\n",
       "      <th>acceptedTaxonKey</th>\n",
       "      <th>accessRights</th>\n",
       "      <th>associatedSequences</th>\n",
       "      <th>basisOfRecord</th>\n",
       "      <th>catalogNumber</th>\n",
       "      <th>class</th>\n",
       "      <th>classKey</th>\n",
       "      <th>collectionCode</th>\n",
       "      <th>collectionID</th>\n",
       "      <th>...</th>\n",
       "      <th>taxonRank</th>\n",
       "      <th>taxonRemarks</th>\n",
       "      <th>taxonomicStatus</th>\n",
       "      <th>type</th>\n",
       "      <th>verbatimCoordinateSystem</th>\n",
       "      <th>verbatimElevation</th>\n",
       "      <th>verbatimEventDate</th>\n",
       "      <th>verbatimLocality</th>\n",
       "      <th>vernacularName</th>\n",
       "      <th>year</th>\n",
       "    </tr>\n",
       "  </thead>\n",
       "  <tbody>\n",
       "    <tr>\n",
       "      <th>0</th>\n",
       "      <td>Tetragnatha versicolor Walckenaer, 1841</td>\n",
       "      <td>2151836</td>\n",
       "      <td>NaN</td>\n",
       "      <td>NaN</td>\n",
       "      <td>HUMAN_OBSERVATION</td>\n",
       "      <td>11391845</td>\n",
       "      <td>Arachnida</td>\n",
       "      <td>367</td>\n",
       "      <td>Observations</td>\n",
       "      <td>NaN</td>\n",
       "      <td>...</td>\n",
       "      <td>SPECIES</td>\n",
       "      <td>NaN</td>\n",
       "      <td>ACCEPTED</td>\n",
       "      <td>NaN</td>\n",
       "      <td>NaN</td>\n",
       "      <td>NaN</td>\n",
       "      <td>2018-03-28 1:45:25 p. m. GMT-06:00</td>\n",
       "      <td>Ribera 3438, Riberas del Río, 67160 Guadalupe,...</td>\n",
       "      <td>NaN</td>\n",
       "      <td>2018</td>\n",
       "    </tr>\n",
       "    <tr>\n",
       "      <th>1</th>\n",
       "      <td>Tetragnatha versicolor Walckenaer, 1841</td>\n",
       "      <td>2151836</td>\n",
       "      <td>https://www.fieldmuseum.org/about/copyright-in...</td>\n",
       "      <td>NaN</td>\n",
       "      <td>PRESERVED_SPECIMEN</td>\n",
       "      <td>FMNHINS 0002 993 747</td>\n",
       "      <td>Arachnida</td>\n",
       "      <td>367</td>\n",
       "      <td>Insects</td>\n",
       "      <td>Insects</td>\n",
       "      <td>...</td>\n",
       "      <td>SPECIES</td>\n",
       "      <td>NaN</td>\n",
       "      <td>ACCEPTED</td>\n",
       "      <td>PhysicalObject</td>\n",
       "      <td>NaN</td>\n",
       "      <td>NaN</td>\n",
       "      <td>NaN</td>\n",
       "      <td>NaN</td>\n",
       "      <td>NaN</td>\n",
       "      <td>2017</td>\n",
       "    </tr>\n",
       "    <tr>\n",
       "      <th>2</th>\n",
       "      <td>Tetragnatha versicolor Walckenaer, 1841</td>\n",
       "      <td>2151836</td>\n",
       "      <td>https://www.fieldmuseum.org/about/copyright-in...</td>\n",
       "      <td>NaN</td>\n",
       "      <td>PRESERVED_SPECIMEN</td>\n",
       "      <td>FMNHINS 0002 993 724</td>\n",
       "      <td>Arachnida</td>\n",
       "      <td>367</td>\n",
       "      <td>Insects</td>\n",
       "      <td>Insects</td>\n",
       "      <td>...</td>\n",
       "      <td>SPECIES</td>\n",
       "      <td>NaN</td>\n",
       "      <td>ACCEPTED</td>\n",
       "      <td>PhysicalObject</td>\n",
       "      <td>NaN</td>\n",
       "      <td>NaN</td>\n",
       "      <td>NaN</td>\n",
       "      <td>NaN</td>\n",
       "      <td>NaN</td>\n",
       "      <td>2017</td>\n",
       "    </tr>\n",
       "    <tr>\n",
       "      <th>3</th>\n",
       "      <td>Tetragnatha versicolor Walckenaer, 1841</td>\n",
       "      <td>2151836</td>\n",
       "      <td>http://vertnet.org/resources/norms.html</td>\n",
       "      <td>NaN</td>\n",
       "      <td>PRESERVED_SPECIMEN</td>\n",
       "      <td>UAM:Ento:355974</td>\n",
       "      <td>Arachnida</td>\n",
       "      <td>367</td>\n",
       "      <td>Insect specimens</td>\n",
       "      <td>4</td>\n",
       "      <td>...</td>\n",
       "      <td>SPECIES</td>\n",
       "      <td>NaN</td>\n",
       "      <td>ACCEPTED</td>\n",
       "      <td>PhysicalObject</td>\n",
       "      <td>decimal degrees</td>\n",
       "      <td>NaN</td>\n",
       "      <td>5/13/16</td>\n",
       "      <td>USA: ALASKA: Chilkoot Trail</td>\n",
       "      <td>NaN</td>\n",
       "      <td>2016</td>\n",
       "    </tr>\n",
       "    <tr>\n",
       "      <th>4</th>\n",
       "      <td>Tetragnatha versicolor Walckenaer, 1841</td>\n",
       "      <td>2151836</td>\n",
       "      <td>http://vertnet.org/resources/norms.html</td>\n",
       "      <td>NaN</td>\n",
       "      <td>PRESERVED_SPECIMEN</td>\n",
       "      <td>UAM:Ento:356607</td>\n",
       "      <td>Arachnida</td>\n",
       "      <td>367</td>\n",
       "      <td>Insect specimens</td>\n",
       "      <td>4</td>\n",
       "      <td>...</td>\n",
       "      <td>SPECIES</td>\n",
       "      <td>NaN</td>\n",
       "      <td>ACCEPTED</td>\n",
       "      <td>PhysicalObject</td>\n",
       "      <td>deg. min. sec.</td>\n",
       "      <td>NaN</td>\n",
       "      <td>13 May 2016</td>\n",
       "      <td>USA: ALASKA: KLGO Skagway, Pullen Creek</td>\n",
       "      <td>NaN</td>\n",
       "      <td>2016</td>\n",
       "    </tr>\n",
       "  </tbody>\n",
       "</table>\n",
       "<p>5 rows × 128 columns</p>\n",
       "</div>"
      ],
      "text/plain": [
       "                    acceptedScientificName  acceptedTaxonKey  \\\n",
       "0  Tetragnatha versicolor Walckenaer, 1841           2151836   \n",
       "1  Tetragnatha versicolor Walckenaer, 1841           2151836   \n",
       "2  Tetragnatha versicolor Walckenaer, 1841           2151836   \n",
       "3  Tetragnatha versicolor Walckenaer, 1841           2151836   \n",
       "4  Tetragnatha versicolor Walckenaer, 1841           2151836   \n",
       "\n",
       "                                        accessRights associatedSequences  \\\n",
       "0                                                NaN                 NaN   \n",
       "1  https://www.fieldmuseum.org/about/copyright-in...                 NaN   \n",
       "2  https://www.fieldmuseum.org/about/copyright-in...                 NaN   \n",
       "3            http://vertnet.org/resources/norms.html                 NaN   \n",
       "4            http://vertnet.org/resources/norms.html                 NaN   \n",
       "\n",
       "        basisOfRecord         catalogNumber      class  classKey  \\\n",
       "0   HUMAN_OBSERVATION              11391845  Arachnida       367   \n",
       "1  PRESERVED_SPECIMEN  FMNHINS 0002 993 747  Arachnida       367   \n",
       "2  PRESERVED_SPECIMEN  FMNHINS 0002 993 724  Arachnida       367   \n",
       "3  PRESERVED_SPECIMEN       UAM:Ento:355974  Arachnida       367   \n",
       "4  PRESERVED_SPECIMEN       UAM:Ento:356607  Arachnida       367   \n",
       "\n",
       "     collectionCode collectionID  ... taxonRank  taxonRemarks taxonomicStatus  \\\n",
       "0      Observations          NaN  ...   SPECIES           NaN        ACCEPTED   \n",
       "1           Insects      Insects  ...   SPECIES           NaN        ACCEPTED   \n",
       "2           Insects      Insects  ...   SPECIES           NaN        ACCEPTED   \n",
       "3  Insect specimens            4  ...   SPECIES           NaN        ACCEPTED   \n",
       "4  Insect specimens            4  ...   SPECIES           NaN        ACCEPTED   \n",
       "\n",
       "             type verbatimCoordinateSystem  verbatimElevation  \\\n",
       "0             NaN                      NaN                NaN   \n",
       "1  PhysicalObject                      NaN                NaN   \n",
       "2  PhysicalObject                      NaN                NaN   \n",
       "3  PhysicalObject          decimal degrees                NaN   \n",
       "4  PhysicalObject           deg. min. sec.                NaN   \n",
       "\n",
       "                    verbatimEventDate  \\\n",
       "0  2018-03-28 1:45:25 p. m. GMT-06:00   \n",
       "1                                 NaN   \n",
       "2                                 NaN   \n",
       "3                             5/13/16   \n",
       "4                         13 May 2016   \n",
       "\n",
       "                                    verbatimLocality vernacularName  year  \n",
       "0  Ribera 3438, Riberas del Río, 67160 Guadalupe,...            NaN  2018  \n",
       "1                                                NaN            NaN  2017  \n",
       "2                                                NaN            NaN  2017  \n",
       "3                        USA: ALASKA: Chilkoot Trail            NaN  2016  \n",
       "4            USA: ALASKA: KLGO Skagway, Pullen Creek            NaN  2016  \n",
       "\n",
       "[5 rows x 128 columns]"
      ]
     },
     "execution_count": 29,
     "metadata": {},
     "output_type": "execute_result"
    }
   ],
   "source": [
    "my_req = GBIFRequest()  # creating a request to the API\n",
    "my_params = {'scientificName': 'Tetragnatha versicolor'}  # setting our parameters (the specific species we want)\n",
    "my_pages = my_req.get_pages(my_params)  # using those parameters to complete the request\n",
    "my_records = [rec for page in my_pages for rec in page['results'] if rec.get('decimalLatitude')]  # sift out valid records\n",
    "my_records_df = pd.read_json(json.dumps(my_records))  # make a dataframe\n",
    "my_records_df.head()  # print first 5 rows"
   ]
  },
  {
   "cell_type": "code",
   "execution_count": 30,
   "metadata": {
    "#student": false,
    "collapsed": true
   },
   "outputs": [],
   "source": [
    "my_records_df['year'].plot.hist();"
   ]
  },
  {
   "cell_type": "code",
   "execution_count": 31,
   "metadata": {
    "#student": false,
    "collapsed": true
   },
   "outputs": [],
   "source": [
    "my_records_df['county'].value_counts().plot.barh();"
   ]
  },
  {
   "cell_type": "markdown",
   "metadata": {
    "#student": false
   },
   "source": [
    "<div class=\"alert alert-block alert-warning\">\n",
    "**QUESTION 10:** What county has the highest number records?\n",
    "</div>"
   ]
  },
  {
   "cell_type": "markdown",
   "metadata": {
    "#student": true
   },
   "source": [
    "test response"
   ]
  },
  {
   "cell_type": "code",
   "execution_count": 32,
   "metadata": {
    "#student": false,
    "collapsed": true
   },
   "outputs": [],
   "source": [
    "my_records_df['elevation'].plot.hist();"
   ]
  },
  {
   "cell_type": "markdown",
   "metadata": {
    "#student": false
   },
   "source": [
    "<div class=\"alert alert-block alert-warning\">\n",
    "**QUESTION 11:** What is the elevation range of your organism?\n",
    "</div>"
   ]
  },
  {
   "cell_type": "markdown",
   "metadata": {
    "#student": true
   },
   "source": [
    "test response"
   ]
  },
  {
   "cell_type": "code",
   "execution_count": 33,
   "metadata": {
    "#student": false,
    "collapsed": true
   },
   "outputs": [],
   "source": [
    "my_records_df['basisOfRecord'].value_counts().plot.barh();"
   ]
  },
  {
   "cell_type": "markdown",
   "metadata": {
    "#student": false
   },
   "source": [
    "<div class=\"alert alert-block alert-warning\">\n",
    "**QUESTION 12:** Which has more: observations or preserved specimens? Why might this be?\n",
    "</div>"
   ]
  },
  {
   "cell_type": "markdown",
   "metadata": {
    "#student": true
   },
   "source": [
    "test response"
   ]
  },
  {
   "cell_type": "markdown",
   "metadata": {
    "#student": false
   },
   "source": [
    "---\n",
    "\n",
    "You are finished with this notebook! Please run the following cell to generate your submission file."
   ]
  },
  {
   "cell_type": "code",
   "execution_count": 35,
   "metadata": {
    "#student": false
   },
   "outputs": [
    {
     "name": "stdout",
     "output_type": "stream",
     "text": [
      "Processing biogeography_notebook1.ipynb\n",
      "Generated notebook and autograded\n",
      "Attempting to compile LaTeX\n"
     ]
    },
    {
     "ename": "PandocMissing",
     "evalue": "Pandoc wasn't found.\nPlease check that pandoc is installed:\nhttp://pandoc.org/installing.html",
     "output_type": "error",
     "traceback": [
      "\u001b[0;31m---------------------------------------------------------------------------\u001b[0m",
      "\u001b[0;31mPandocMissing\u001b[0m                             Traceback (most recent call last)",
      "\u001b[0;32m<ipython-input-35-ae7ae2076b34>\u001b[0m in \u001b[0;36m<module>\u001b[0;34m()\u001b[0m\n\u001b[1;32m      1\u001b[0m \u001b[0;32mimport\u001b[0m \u001b[0mgsExport\u001b[0m\u001b[0;34m\u001b[0m\u001b[0;34m\u001b[0m\u001b[0m\n\u001b[0;32m----> 2\u001b[0;31m \u001b[0mgsExport\u001b[0m\u001b[0;34m.\u001b[0m\u001b[0mgenerateSubmission\u001b[0m\u001b[0;34m(\u001b[0m\u001b[0;34m\"biogeography_notebook1.ipynb\"\u001b[0m\u001b[0;34m)\u001b[0m\u001b[0;34m\u001b[0m\u001b[0;34m\u001b[0m\u001b[0m\n\u001b[0m",
      "\u001b[0;32m/Users/monicawilkinson/anaconda3/lib/python3.6/site-packages/gsExport/exporter.py\u001b[0m in \u001b[0;36mgenerateSubmission\u001b[0;34m(fileName, **kwargs)\u001b[0m\n\u001b[1;32m     26\u001b[0m \u001b[0;34m\u001b[0m\u001b[0m\n\u001b[1;32m     27\u001b[0m \u001b[0;34m\u001b[0m\u001b[0m\n\u001b[0;32m---> 28\u001b[0;31m     \u001b[0;32mif\u001b[0m \u001b[0mexport_notebook\u001b[0m\u001b[0;34m(\u001b[0m\u001b[0mdiffed\u001b[0m\u001b[0;34m,\u001b[0m \u001b[0mfileName\u001b[0m\u001b[0;34m.\u001b[0m\u001b[0mreplace\u001b[0m\u001b[0;34m(\u001b[0m\u001b[0;34m'.ipynb'\u001b[0m\u001b[0;34m,\u001b[0m\u001b[0;34m'_submission'\u001b[0m\u001b[0;34m)\u001b[0m\u001b[0;34m,\u001b[0m \u001b[0;34m**\u001b[0m\u001b[0mkwargs\u001b[0m\u001b[0;34m)\u001b[0m \u001b[0;32mis\u001b[0m \u001b[0;32mnot\u001b[0m \u001b[0;32mNone\u001b[0m\u001b[0;34m:\u001b[0m\u001b[0;34m\u001b[0m\u001b[0;34m\u001b[0m\u001b[0m\n\u001b[0m\u001b[1;32m     29\u001b[0m         display(HTML(\n\u001b[1;32m     30\u001b[0m             \u001b[0;34m\"\"\"<h1><a href=\"%s\" download> Download this and submit to gradescope!</a></h1>\"\"\"\u001b[0m\u001b[0;34m%\u001b[0m\u001b[0;34m(\u001b[0m\u001b[0mfileName\u001b[0m\u001b[0;34m.\u001b[0m\u001b[0mreplace\u001b[0m\u001b[0;34m(\u001b[0m\u001b[0;34m'.ipynb'\u001b[0m\u001b[0;34m,\u001b[0m\u001b[0;34m'_submission.pdf'\u001b[0m\u001b[0;34m)\u001b[0m\u001b[0;34m)\u001b[0m\u001b[0;34m\u001b[0m\u001b[0;34m\u001b[0m\u001b[0m\n",
      "\u001b[0;32m/Users/monicawilkinson/anaconda3/lib/python3.6/site-packages/gsExport/utils.py\u001b[0m in \u001b[0;36mexport_notebook\u001b[0;34m(nb, name, templating, debug)\u001b[0m\n\u001b[1;32m     17\u001b[0m     \u001b[0mprint\u001b[0m\u001b[0;34m(\u001b[0m\u001b[0;34m\"Attempting to compile LaTeX\"\u001b[0m\u001b[0;34m)\u001b[0m\u001b[0;34m\u001b[0m\u001b[0;34m\u001b[0m\u001b[0m\n\u001b[1;32m     18\u001b[0m     \u001b[0;32mtry\u001b[0m\u001b[0;34m:\u001b[0m\u001b[0;34m\u001b[0m\u001b[0;34m\u001b[0m\u001b[0m\n\u001b[0;32m---> 19\u001b[0;31m         \u001b[0mpdf_output\u001b[0m \u001b[0;34m=\u001b[0m \u001b[0mpdf_exporter\u001b[0m\u001b[0;34m.\u001b[0m\u001b[0mfrom_notebook_node\u001b[0m\u001b[0;34m(\u001b[0m\u001b[0mnb\u001b[0m\u001b[0;34m)\u001b[0m\u001b[0;34m\u001b[0m\u001b[0;34m\u001b[0m\u001b[0m\n\u001b[0m\u001b[1;32m     20\u001b[0m         \u001b[0;32mwith\u001b[0m \u001b[0mopen\u001b[0m\u001b[0;34m(\u001b[0m\u001b[0;34m\"%s.pdf\"\u001b[0m\u001b[0;34m%\u001b[0m\u001b[0mname\u001b[0m\u001b[0;34m,\u001b[0m\u001b[0;34m\"wb\"\u001b[0m\u001b[0;34m)\u001b[0m \u001b[0;32mas\u001b[0m \u001b[0moutput_file\u001b[0m\u001b[0;34m:\u001b[0m\u001b[0;34m\u001b[0m\u001b[0;34m\u001b[0m\u001b[0m\n\u001b[1;32m     21\u001b[0m             \u001b[0moutput_file\u001b[0m\u001b[0;34m.\u001b[0m\u001b[0mwrite\u001b[0m\u001b[0;34m(\u001b[0m\u001b[0mpdf_output\u001b[0m\u001b[0;34m[\u001b[0m\u001b[0;36m0\u001b[0m\u001b[0;34m]\u001b[0m\u001b[0;34m)\u001b[0m\u001b[0;34m\u001b[0m\u001b[0;34m\u001b[0m\u001b[0m\n",
      "\u001b[0;32m/Users/monicawilkinson/anaconda3/lib/python3.6/site-packages/nbconvert/exporters/pdf.py\u001b[0m in \u001b[0;36mfrom_notebook_node\u001b[0;34m(self, nb, resources, **kw)\u001b[0m\n\u001b[1;32m    152\u001b[0m     \u001b[0;32mdef\u001b[0m \u001b[0mfrom_notebook_node\u001b[0m\u001b[0;34m(\u001b[0m\u001b[0mself\u001b[0m\u001b[0;34m,\u001b[0m \u001b[0mnb\u001b[0m\u001b[0;34m,\u001b[0m \u001b[0mresources\u001b[0m\u001b[0;34m=\u001b[0m\u001b[0;32mNone\u001b[0m\u001b[0;34m,\u001b[0m \u001b[0;34m**\u001b[0m\u001b[0mkw\u001b[0m\u001b[0;34m)\u001b[0m\u001b[0;34m:\u001b[0m\u001b[0;34m\u001b[0m\u001b[0;34m\u001b[0m\u001b[0m\n\u001b[1;32m    153\u001b[0m         latex, resources = super(PDFExporter, self).from_notebook_node(\n\u001b[0;32m--> 154\u001b[0;31m             \u001b[0mnb\u001b[0m\u001b[0;34m,\u001b[0m \u001b[0mresources\u001b[0m\u001b[0;34m=\u001b[0m\u001b[0mresources\u001b[0m\u001b[0;34m,\u001b[0m \u001b[0;34m**\u001b[0m\u001b[0mkw\u001b[0m\u001b[0;34m\u001b[0m\u001b[0;34m\u001b[0m\u001b[0m\n\u001b[0m\u001b[1;32m    155\u001b[0m         )\n\u001b[1;32m    156\u001b[0m         \u001b[0;31m# set texinputs directory, so that local files will be found\u001b[0m\u001b[0;34m\u001b[0m\u001b[0;34m\u001b[0m\u001b[0;34m\u001b[0m\u001b[0m\n",
      "\u001b[0;32m/Users/monicawilkinson/anaconda3/lib/python3.6/site-packages/nbconvert/exporters/latex.py\u001b[0m in \u001b[0;36mfrom_notebook_node\u001b[0;34m(self, nb, resources, **kw)\u001b[0m\n\u001b[1;32m     86\u001b[0m         self.register_filter('highlight_code',\n\u001b[1;32m     87\u001b[0m                              Highlight2Latex(pygments_lexer=lexer, parent=self))\n\u001b[0;32m---> 88\u001b[0;31m         \u001b[0;32mreturn\u001b[0m \u001b[0msuper\u001b[0m\u001b[0;34m(\u001b[0m\u001b[0mLatexExporter\u001b[0m\u001b[0;34m,\u001b[0m \u001b[0mself\u001b[0m\u001b[0;34m)\u001b[0m\u001b[0;34m.\u001b[0m\u001b[0mfrom_notebook_node\u001b[0m\u001b[0;34m(\u001b[0m\u001b[0mnb\u001b[0m\u001b[0;34m,\u001b[0m \u001b[0mresources\u001b[0m\u001b[0;34m,\u001b[0m \u001b[0;34m**\u001b[0m\u001b[0mkw\u001b[0m\u001b[0;34m)\u001b[0m\u001b[0;34m\u001b[0m\u001b[0;34m\u001b[0m\u001b[0m\n\u001b[0m\u001b[1;32m     89\u001b[0m \u001b[0;34m\u001b[0m\u001b[0m\n\u001b[1;32m     90\u001b[0m     \u001b[0;32mdef\u001b[0m \u001b[0m_create_environment\u001b[0m\u001b[0;34m(\u001b[0m\u001b[0mself\u001b[0m\u001b[0;34m)\u001b[0m\u001b[0;34m:\u001b[0m\u001b[0;34m\u001b[0m\u001b[0;34m\u001b[0m\u001b[0m\n",
      "\u001b[0;32m/Users/monicawilkinson/anaconda3/lib/python3.6/site-packages/nbconvert/exporters/templateexporter.py\u001b[0m in \u001b[0;36mfrom_notebook_node\u001b[0;34m(self, nb, resources, **kw)\u001b[0m\n\u001b[1;32m    203\u001b[0m         \u001b[0mresources\u001b[0m\u001b[0;34m.\u001b[0m\u001b[0msetdefault\u001b[0m\u001b[0;34m(\u001b[0m\u001b[0;34m'raw_mimetypes'\u001b[0m\u001b[0;34m,\u001b[0m \u001b[0mself\u001b[0m\u001b[0;34m.\u001b[0m\u001b[0mraw_mimetypes\u001b[0m\u001b[0;34m)\u001b[0m\u001b[0;34m\u001b[0m\u001b[0;34m\u001b[0m\u001b[0m\n\u001b[1;32m    204\u001b[0m \u001b[0;34m\u001b[0m\u001b[0m\n\u001b[0;32m--> 205\u001b[0;31m         \u001b[0moutput\u001b[0m \u001b[0;34m=\u001b[0m \u001b[0mself\u001b[0m\u001b[0;34m.\u001b[0m\u001b[0mtemplate\u001b[0m\u001b[0;34m.\u001b[0m\u001b[0mrender\u001b[0m\u001b[0;34m(\u001b[0m\u001b[0mnb\u001b[0m\u001b[0;34m=\u001b[0m\u001b[0mnb_copy\u001b[0m\u001b[0;34m,\u001b[0m \u001b[0mresources\u001b[0m\u001b[0;34m=\u001b[0m\u001b[0mresources\u001b[0m\u001b[0;34m)\u001b[0m\u001b[0;34m\u001b[0m\u001b[0;34m\u001b[0m\u001b[0m\n\u001b[0m\u001b[1;32m    206\u001b[0m         \u001b[0;32mreturn\u001b[0m \u001b[0moutput\u001b[0m\u001b[0;34m,\u001b[0m \u001b[0mresources\u001b[0m\u001b[0;34m\u001b[0m\u001b[0;34m\u001b[0m\u001b[0m\n\u001b[1;32m    207\u001b[0m \u001b[0;34m\u001b[0m\u001b[0m\n",
      "\u001b[0;32m/Users/monicawilkinson/anaconda3/lib/python3.6/site-packages/jinja2/asyncsupport.py\u001b[0m in \u001b[0;36mrender\u001b[0;34m(self, *args, **kwargs)\u001b[0m\n\u001b[1;32m     74\u001b[0m     \u001b[0;32mdef\u001b[0m \u001b[0mrender\u001b[0m\u001b[0;34m(\u001b[0m\u001b[0mself\u001b[0m\u001b[0;34m,\u001b[0m \u001b[0;34m*\u001b[0m\u001b[0margs\u001b[0m\u001b[0;34m,\u001b[0m \u001b[0;34m**\u001b[0m\u001b[0mkwargs\u001b[0m\u001b[0;34m)\u001b[0m\u001b[0;34m:\u001b[0m\u001b[0;34m\u001b[0m\u001b[0;34m\u001b[0m\u001b[0m\n\u001b[1;32m     75\u001b[0m         \u001b[0;32mif\u001b[0m \u001b[0;32mnot\u001b[0m \u001b[0mself\u001b[0m\u001b[0;34m.\u001b[0m\u001b[0menvironment\u001b[0m\u001b[0;34m.\u001b[0m\u001b[0mis_async\u001b[0m\u001b[0;34m:\u001b[0m\u001b[0;34m\u001b[0m\u001b[0;34m\u001b[0m\u001b[0m\n\u001b[0;32m---> 76\u001b[0;31m             \u001b[0;32mreturn\u001b[0m \u001b[0moriginal_render\u001b[0m\u001b[0;34m(\u001b[0m\u001b[0mself\u001b[0m\u001b[0;34m,\u001b[0m \u001b[0;34m*\u001b[0m\u001b[0margs\u001b[0m\u001b[0;34m,\u001b[0m \u001b[0;34m**\u001b[0m\u001b[0mkwargs\u001b[0m\u001b[0;34m)\u001b[0m\u001b[0;34m\u001b[0m\u001b[0;34m\u001b[0m\u001b[0m\n\u001b[0m\u001b[1;32m     77\u001b[0m         \u001b[0mloop\u001b[0m \u001b[0;34m=\u001b[0m \u001b[0masyncio\u001b[0m\u001b[0;34m.\u001b[0m\u001b[0mget_event_loop\u001b[0m\u001b[0;34m(\u001b[0m\u001b[0;34m)\u001b[0m\u001b[0;34m\u001b[0m\u001b[0;34m\u001b[0m\u001b[0m\n\u001b[1;32m     78\u001b[0m         \u001b[0;32mreturn\u001b[0m \u001b[0mloop\u001b[0m\u001b[0;34m.\u001b[0m\u001b[0mrun_until_complete\u001b[0m\u001b[0;34m(\u001b[0m\u001b[0mself\u001b[0m\u001b[0;34m.\u001b[0m\u001b[0mrender_async\u001b[0m\u001b[0;34m(\u001b[0m\u001b[0;34m*\u001b[0m\u001b[0margs\u001b[0m\u001b[0;34m,\u001b[0m \u001b[0;34m**\u001b[0m\u001b[0mkwargs\u001b[0m\u001b[0;34m)\u001b[0m\u001b[0;34m)\u001b[0m\u001b[0;34m\u001b[0m\u001b[0;34m\u001b[0m\u001b[0m\n",
      "\u001b[0;32m/Users/monicawilkinson/anaconda3/lib/python3.6/site-packages/jinja2/environment.py\u001b[0m in \u001b[0;36mrender\u001b[0;34m(self, *args, **kwargs)\u001b[0m\n\u001b[1;32m   1006\u001b[0m         \u001b[0;32mexcept\u001b[0m \u001b[0mException\u001b[0m\u001b[0;34m:\u001b[0m\u001b[0;34m\u001b[0m\u001b[0;34m\u001b[0m\u001b[0m\n\u001b[1;32m   1007\u001b[0m             \u001b[0mexc_info\u001b[0m \u001b[0;34m=\u001b[0m \u001b[0msys\u001b[0m\u001b[0;34m.\u001b[0m\u001b[0mexc_info\u001b[0m\u001b[0;34m(\u001b[0m\u001b[0;34m)\u001b[0m\u001b[0;34m\u001b[0m\u001b[0;34m\u001b[0m\u001b[0m\n\u001b[0;32m-> 1008\u001b[0;31m         \u001b[0;32mreturn\u001b[0m \u001b[0mself\u001b[0m\u001b[0;34m.\u001b[0m\u001b[0menvironment\u001b[0m\u001b[0;34m.\u001b[0m\u001b[0mhandle_exception\u001b[0m\u001b[0;34m(\u001b[0m\u001b[0mexc_info\u001b[0m\u001b[0;34m,\u001b[0m \u001b[0;32mTrue\u001b[0m\u001b[0;34m)\u001b[0m\u001b[0;34m\u001b[0m\u001b[0;34m\u001b[0m\u001b[0m\n\u001b[0m\u001b[1;32m   1009\u001b[0m \u001b[0;34m\u001b[0m\u001b[0m\n\u001b[1;32m   1010\u001b[0m     \u001b[0;32mdef\u001b[0m \u001b[0mrender_async\u001b[0m\u001b[0;34m(\u001b[0m\u001b[0mself\u001b[0m\u001b[0;34m,\u001b[0m \u001b[0;34m*\u001b[0m\u001b[0margs\u001b[0m\u001b[0;34m,\u001b[0m \u001b[0;34m**\u001b[0m\u001b[0mkwargs\u001b[0m\u001b[0;34m)\u001b[0m\u001b[0;34m:\u001b[0m\u001b[0;34m\u001b[0m\u001b[0;34m\u001b[0m\u001b[0m\n",
      "\u001b[0;32m/Users/monicawilkinson/anaconda3/lib/python3.6/site-packages/jinja2/environment.py\u001b[0m in \u001b[0;36mhandle_exception\u001b[0;34m(self, exc_info, rendered, source_hint)\u001b[0m\n\u001b[1;32m    778\u001b[0m             \u001b[0mself\u001b[0m\u001b[0;34m.\u001b[0m\u001b[0mexception_handler\u001b[0m\u001b[0;34m(\u001b[0m\u001b[0mtraceback\u001b[0m\u001b[0;34m)\u001b[0m\u001b[0;34m\u001b[0m\u001b[0;34m\u001b[0m\u001b[0m\n\u001b[1;32m    779\u001b[0m         \u001b[0mexc_type\u001b[0m\u001b[0;34m,\u001b[0m \u001b[0mexc_value\u001b[0m\u001b[0;34m,\u001b[0m \u001b[0mtb\u001b[0m \u001b[0;34m=\u001b[0m \u001b[0mtraceback\u001b[0m\u001b[0;34m.\u001b[0m\u001b[0mstandard_exc_info\u001b[0m\u001b[0;34m\u001b[0m\u001b[0;34m\u001b[0m\u001b[0m\n\u001b[0;32m--> 780\u001b[0;31m         \u001b[0mreraise\u001b[0m\u001b[0;34m(\u001b[0m\u001b[0mexc_type\u001b[0m\u001b[0;34m,\u001b[0m \u001b[0mexc_value\u001b[0m\u001b[0;34m,\u001b[0m \u001b[0mtb\u001b[0m\u001b[0;34m)\u001b[0m\u001b[0;34m\u001b[0m\u001b[0;34m\u001b[0m\u001b[0m\n\u001b[0m\u001b[1;32m    781\u001b[0m \u001b[0;34m\u001b[0m\u001b[0m\n\u001b[1;32m    782\u001b[0m     \u001b[0;32mdef\u001b[0m \u001b[0mjoin_path\u001b[0m\u001b[0;34m(\u001b[0m\u001b[0mself\u001b[0m\u001b[0;34m,\u001b[0m \u001b[0mtemplate\u001b[0m\u001b[0;34m,\u001b[0m \u001b[0mparent\u001b[0m\u001b[0;34m)\u001b[0m\u001b[0;34m:\u001b[0m\u001b[0;34m\u001b[0m\u001b[0;34m\u001b[0m\u001b[0m\n",
      "\u001b[0;32m/Users/monicawilkinson/anaconda3/lib/python3.6/site-packages/jinja2/_compat.py\u001b[0m in \u001b[0;36mreraise\u001b[0;34m(tp, value, tb)\u001b[0m\n\u001b[1;32m     35\u001b[0m     \u001b[0;32mdef\u001b[0m \u001b[0mreraise\u001b[0m\u001b[0;34m(\u001b[0m\u001b[0mtp\u001b[0m\u001b[0;34m,\u001b[0m \u001b[0mvalue\u001b[0m\u001b[0;34m,\u001b[0m \u001b[0mtb\u001b[0m\u001b[0;34m=\u001b[0m\u001b[0;32mNone\u001b[0m\u001b[0;34m)\u001b[0m\u001b[0;34m:\u001b[0m\u001b[0;34m\u001b[0m\u001b[0;34m\u001b[0m\u001b[0m\n\u001b[1;32m     36\u001b[0m         \u001b[0;32mif\u001b[0m \u001b[0mvalue\u001b[0m\u001b[0;34m.\u001b[0m\u001b[0m__traceback__\u001b[0m \u001b[0;32mis\u001b[0m \u001b[0;32mnot\u001b[0m \u001b[0mtb\u001b[0m\u001b[0;34m:\u001b[0m\u001b[0;34m\u001b[0m\u001b[0;34m\u001b[0m\u001b[0m\n\u001b[0;32m---> 37\u001b[0;31m             \u001b[0;32mraise\u001b[0m \u001b[0mvalue\u001b[0m\u001b[0;34m.\u001b[0m\u001b[0mwith_traceback\u001b[0m\u001b[0;34m(\u001b[0m\u001b[0mtb\u001b[0m\u001b[0;34m)\u001b[0m\u001b[0;34m\u001b[0m\u001b[0;34m\u001b[0m\u001b[0m\n\u001b[0m\u001b[1;32m     38\u001b[0m         \u001b[0;32mraise\u001b[0m \u001b[0mvalue\u001b[0m\u001b[0;34m\u001b[0m\u001b[0;34m\u001b[0m\u001b[0m\n\u001b[1;32m     39\u001b[0m \u001b[0;34m\u001b[0m\u001b[0m\n",
      "\u001b[0;32m/Users/monicawilkinson/Desktop/modules/fa19/IB-ESPM-105/test.tplx\u001b[0m in \u001b[0;36mtop-level template code\u001b[0;34m()\u001b[0m\n\u001b[1;32m      5\u001b[0m \u001b[0;34m\u001b[0m\u001b[0m\n\u001b[1;32m      6\u001b[0m \u001b[0;34m%\u001b[0m \u001b[0mInherit\u001b[0m \u001b[0;32mfrom\u001b[0m \u001b[0mthe\u001b[0m \u001b[0mspecified\u001b[0m \u001b[0mcell\u001b[0m \u001b[0mstyle\u001b[0m\u001b[0;34m.\u001b[0m\u001b[0;34m\u001b[0m\u001b[0;34m\u001b[0m\u001b[0m\n\u001b[0;32m----> 7\u001b[0;31m \u001b[0;34m(\u001b[0m\u001b[0;34m(\u001b[0m\u001b[0;34m*\u001b[0m \u001b[0mextends\u001b[0m \u001b[0mcell_style\u001b[0m \u001b[0;34m*\u001b[0m\u001b[0;34m)\u001b[0m\u001b[0;34m)\u001b[0m\u001b[0;34m\u001b[0m\u001b[0;34m\u001b[0m\u001b[0m\n\u001b[0m\u001b[1;32m      8\u001b[0m \u001b[0;34m\u001b[0m\u001b[0m\n\u001b[1;32m      9\u001b[0m \u001b[0;34m\u001b[0m\u001b[0m\n",
      "\u001b[0;32m/Users/monicawilkinson/anaconda3/lib/python3.6/site-packages/nbconvert/exporters/../templates/latex/style_ipython.tplx\u001b[0m in \u001b[0;36mtop-level template code\u001b[0;34m()\u001b[0m\n\u001b[1;32m     54\u001b[0m     \u001b[0;34m(\u001b[0m\u001b[0;34m(\u001b[0m\u001b[0;34m*\u001b[0m\u001b[0;34m-\u001b[0m \u001b[0mset\u001b[0m \u001b[0mindention\u001b[0m \u001b[0;34m=\u001b[0m  \u001b[0;34m\" \"\u001b[0m \u001b[0;34m*\u001b[0m \u001b[0;34m(\u001b[0m\u001b[0mexecution_count\u001b[0m \u001b[0;34m|\u001b[0m \u001b[0mlength\u001b[0m \u001b[0;34m+\u001b[0m \u001b[0;36m7\u001b[0m\u001b[0;34m)\u001b[0m \u001b[0;34m-\u001b[0m\u001b[0;34m*\u001b[0m\u001b[0;34m)\u001b[0m\u001b[0;34m)\u001b[0m\u001b[0;34m\u001b[0m\u001b[0;34m\u001b[0m\u001b[0m\n\u001b[1;32m     55\u001b[0m \u001b[0;31m\\\u001b[0m\u001b[0mbegin\u001b[0m\u001b[0;34m{\u001b[0m\u001b[0mVerbatim\u001b[0m\u001b[0;34m}\u001b[0m\u001b[0;34m[\u001b[0m\u001b[0mcommandchars\u001b[0m\u001b[0;34m=\u001b[0m\u001b[0;31m\\\u001b[0m\u001b[0;31m\\\u001b[0m\u001b[0;31m\\\u001b[0m\u001b[0;34m{\u001b[0m\u001b[0;31m\\\u001b[0m\u001b[0;34m}\u001b[0m\u001b[0;34m]\u001b[0m\u001b[0;34m\u001b[0m\u001b[0;34m\u001b[0m\u001b[0m\n\u001b[0;32m---> 56\u001b[0;31m \u001b[0;34m(\u001b[0m\u001b[0;34m(\u001b[0m\u001b[0;34m(\u001b[0m \u001b[0mtext\u001b[0m \u001b[0;34m|\u001b[0m \u001b[0madd_prompts\u001b[0m\u001b[0;34m(\u001b[0m\u001b[0mfirst\u001b[0m\u001b[0;34m=\u001b[0m\u001b[0;34m'{\\color{'\u001b[0m \u001b[0;34m~\u001b[0m \u001b[0mprompt_color\u001b[0m \u001b[0;34m~\u001b[0m \u001b[0;34m'}'\u001b[0m \u001b[0;34m~\u001b[0m \u001b[0mprompt\u001b[0m \u001b[0;34m~\u001b[0m \u001b[0;34m'[{\\\\color{'\u001b[0m \u001b[0;34m~\u001b[0m \u001b[0mprompt_color\u001b[0m \u001b[0;34m~\u001b[0m \u001b[0;34m'}'\u001b[0m \u001b[0;34m~\u001b[0m \u001b[0mexecution_count\u001b[0m \u001b[0;34m~\u001b[0m \u001b[0;34m'}]:} '\u001b[0m\u001b[0;34m,\u001b[0m \u001b[0mcont\u001b[0m\u001b[0;34m=\u001b[0m\u001b[0mindention\u001b[0m\u001b[0;34m)\u001b[0m \u001b[0;34m)\u001b[0m\u001b[0;34m)\u001b[0m\u001b[0;34m)\u001b[0m\u001b[0;34m\u001b[0m\u001b[0;34m\u001b[0m\u001b[0m\n\u001b[0m\u001b[1;32m     57\u001b[0m \u001b[0;31m\\\u001b[0m\u001b[0mend\u001b[0m\u001b[0;34m{\u001b[0m\u001b[0mVerbatim\u001b[0m\u001b[0;34m}\u001b[0m\u001b[0;34m\u001b[0m\u001b[0;34m\u001b[0m\u001b[0m\n\u001b[1;32m     58\u001b[0m \u001b[0;34m(\u001b[0m\u001b[0;34m(\u001b[0m\u001b[0;34m*\u001b[0m\u001b[0;34m-\u001b[0m \u001b[0mendmacro\u001b[0m \u001b[0;34m*\u001b[0m\u001b[0;34m)\u001b[0m\u001b[0;34m)\u001b[0m\u001b[0;34m\u001b[0m\u001b[0;34m\u001b[0m\u001b[0m\n",
      "\u001b[0;32m/Users/monicawilkinson/anaconda3/lib/python3.6/site-packages/nbconvert/exporters/../templates/latex/base.tplx\u001b[0m in \u001b[0;36mtop-level template code\u001b[0;34m()\u001b[0m\n\u001b[1;32m    226\u001b[0m \u001b[0;34m(\u001b[0m\u001b[0;34m(\u001b[0m\u001b[0;34m*\u001b[0m \u001b[0mmacro\u001b[0m \u001b[0mdraw_figure\u001b[0m\u001b[0;34m(\u001b[0m\u001b[0mfilename\u001b[0m\u001b[0;34m)\u001b[0m \u001b[0;34m-\u001b[0m\u001b[0;34m*\u001b[0m\u001b[0;34m)\u001b[0m\u001b[0;34m)\u001b[0m\u001b[0;34m\u001b[0m\u001b[0;34m\u001b[0m\u001b[0m\n\u001b[1;32m    227\u001b[0m \u001b[0;34m(\u001b[0m\u001b[0;34m(\u001b[0m\u001b[0;34m*\u001b[0m \u001b[0mset\u001b[0m \u001b[0mfilename\u001b[0m \u001b[0;34m=\u001b[0m \u001b[0mfilename\u001b[0m \u001b[0;34m|\u001b[0m \u001b[0mposix_path\u001b[0m \u001b[0;34m*\u001b[0m\u001b[0;34m)\u001b[0m\u001b[0;34m)\u001b[0m\u001b[0;34m\u001b[0m\u001b[0;34m\u001b[0m\u001b[0m\n\u001b[0;32m--> 228\u001b[0;31m \u001b[0;34m(\u001b[0m\u001b[0;34m(\u001b[0m\u001b[0;34m*\u001b[0m\u001b[0;34m-\u001b[0m \u001b[0mblock\u001b[0m \u001b[0mfigure\u001b[0m \u001b[0mscoped\u001b[0m \u001b[0;34m-\u001b[0m\u001b[0;34m*\u001b[0m\u001b[0;34m)\u001b[0m\u001b[0;34m)\u001b[0m\u001b[0;34m\u001b[0m\u001b[0;34m\u001b[0m\u001b[0m\n\u001b[0m\u001b[1;32m    229\u001b[0m     \u001b[0;31m\\\u001b[0m\u001b[0mbegin\u001b[0m\u001b[0;34m{\u001b[0m\u001b[0mcenter\u001b[0m\u001b[0;34m}\u001b[0m\u001b[0;34m\u001b[0m\u001b[0;34m\u001b[0m\u001b[0m\n\u001b[1;32m    230\u001b[0m     \u001b[0;31m\\\u001b[0m\u001b[0madjustimage\u001b[0m\u001b[0;34m{\u001b[0m\u001b[0mmax\u001b[0m \u001b[0msize\u001b[0m\u001b[0;34m=\u001b[0m\u001b[0;34m{\u001b[0m\u001b[0;36m0.9\u001b[0m\u001b[0;31m\\\u001b[0m\u001b[0mlinewidth\u001b[0m\u001b[0;34m}\u001b[0m\u001b[0;34m{\u001b[0m\u001b[0;36m0.9\u001b[0m\u001b[0;31m\\\u001b[0m\u001b[0mpaperheight\u001b[0m\u001b[0;34m}\u001b[0m\u001b[0;34m}\u001b[0m\u001b[0;34m{\u001b[0m\u001b[0;34m(\u001b[0m\u001b[0;34m(\u001b[0m\u001b[0;34m(\u001b[0m \u001b[0mfilename\u001b[0m \u001b[0;34m)\u001b[0m\u001b[0;34m)\u001b[0m\u001b[0;34m)\u001b[0m\u001b[0;34m}\u001b[0m\u001b[0;34m\u001b[0m\u001b[0;34m\u001b[0m\u001b[0m\n",
      "\u001b[0;32m/Users/monicawilkinson/anaconda3/lib/python3.6/site-packages/nbconvert/exporters/../templates/latex/skeleton/display_priority.tplx\u001b[0m in \u001b[0;36mtop-level template code\u001b[0;34m()\u001b[0m\n\u001b[1;32m      3\u001b[0m \u001b[0;34m\u001b[0m\u001b[0m\n\u001b[1;32m      4\u001b[0m \u001b[0;34m\u001b[0m\u001b[0m\n\u001b[0;32m----> 5\u001b[0;31m \u001b[0;34m(\u001b[0m\u001b[0;34m(\u001b[0m\u001b[0;34m*\u001b[0m\u001b[0;34m-\u001b[0m \u001b[0mextends\u001b[0m \u001b[0;34m'null.tplx'\u001b[0m \u001b[0;34m-\u001b[0m\u001b[0;34m*\u001b[0m\u001b[0;34m)\u001b[0m\u001b[0;34m)\u001b[0m\u001b[0;34m\u001b[0m\u001b[0;34m\u001b[0m\u001b[0m\n\u001b[0m\u001b[1;32m      6\u001b[0m \u001b[0;34m\u001b[0m\u001b[0m\n\u001b[1;32m      7\u001b[0m \u001b[0;34m(\u001b[0m\u001b[0;34m(\u001b[0m\u001b[0;34m=\u001b[0m\u001b[0mdisplay\u001b[0m \u001b[0mdata\u001b[0m \u001b[0mpriority\u001b[0m\u001b[0;34m=\u001b[0m\u001b[0;34m)\u001b[0m\u001b[0;34m)\u001b[0m\u001b[0;34m\u001b[0m\u001b[0;34m\u001b[0m\u001b[0m\n",
      "\u001b[0;32m/Users/monicawilkinson/anaconda3/lib/python3.6/site-packages/nbconvert/exporters/../templates/latex/skeleton/null.tplx\u001b[0m in \u001b[0;36mtop-level template code\u001b[0;34m()\u001b[0m\n\u001b[1;32m     28\u001b[0m \u001b[0;34m(\u001b[0m\u001b[0;34m(\u001b[0m\u001b[0;34m*\u001b[0m\u001b[0;34m-\u001b[0m \u001b[0mblock\u001b[0m \u001b[0mheader\u001b[0m \u001b[0;34m-\u001b[0m\u001b[0;34m*\u001b[0m\u001b[0;34m)\u001b[0m\u001b[0;34m)\u001b[0m\u001b[0;34m\u001b[0m\u001b[0;34m\u001b[0m\u001b[0m\n\u001b[1;32m     29\u001b[0m \u001b[0;34m(\u001b[0m\u001b[0;34m(\u001b[0m\u001b[0;34m*\u001b[0m\u001b[0;34m-\u001b[0m \u001b[0mendblock\u001b[0m \u001b[0mheader\u001b[0m \u001b[0;34m-\u001b[0m\u001b[0;34m*\u001b[0m\u001b[0;34m)\u001b[0m\u001b[0;34m)\u001b[0m\u001b[0;34m\u001b[0m\u001b[0;34m\u001b[0m\u001b[0m\n\u001b[0;32m---> 30\u001b[0;31m \u001b[0;34m(\u001b[0m\u001b[0;34m(\u001b[0m\u001b[0;34m*\u001b[0m\u001b[0;34m-\u001b[0m \u001b[0mblock\u001b[0m \u001b[0mbody\u001b[0m \u001b[0;34m-\u001b[0m\u001b[0;34m*\u001b[0m\u001b[0;34m)\u001b[0m\u001b[0;34m)\u001b[0m\u001b[0;34m\u001b[0m\u001b[0;34m\u001b[0m\u001b[0m\n\u001b[0m\u001b[1;32m     31\u001b[0m \u001b[0;34m(\u001b[0m\u001b[0;34m(\u001b[0m\u001b[0;34m*\u001b[0m\u001b[0;34m-\u001b[0m \u001b[0;32mfor\u001b[0m \u001b[0mcell\u001b[0m \u001b[0;32min\u001b[0m \u001b[0mnb\u001b[0m\u001b[0;34m.\u001b[0m\u001b[0mcells\u001b[0m \u001b[0;34m-\u001b[0m\u001b[0;34m*\u001b[0m\u001b[0;34m)\u001b[0m\u001b[0;34m)\u001b[0m\u001b[0;34m\u001b[0m\u001b[0;34m\u001b[0m\u001b[0m\n\u001b[1;32m     32\u001b[0m     \u001b[0;34m(\u001b[0m\u001b[0;34m(\u001b[0m\u001b[0;34m*\u001b[0m\u001b[0;34m-\u001b[0m \u001b[0mblock\u001b[0m \u001b[0many_cell\u001b[0m \u001b[0mscoped\u001b[0m \u001b[0;34m-\u001b[0m\u001b[0;34m*\u001b[0m\u001b[0;34m)\u001b[0m\u001b[0;34m)\u001b[0m\u001b[0;34m\u001b[0m\u001b[0;34m\u001b[0m\u001b[0m\n",
      "\u001b[0;32m/Users/monicawilkinson/anaconda3/lib/python3.6/site-packages/nbconvert/exporters/../templates/latex/base.tplx\u001b[0m in \u001b[0;36mblock \"body\"\u001b[0;34m()\u001b[0m\n\u001b[1;32m    170\u001b[0m     \u001b[0;34m(\u001b[0m\u001b[0;34m(\u001b[0m\u001b[0;34m*\u001b[0m \u001b[0mendblock\u001b[0m \u001b[0mpredoc\u001b[0m \u001b[0;34m*\u001b[0m\u001b[0;34m)\u001b[0m\u001b[0;34m)\u001b[0m\u001b[0;34m\u001b[0m\u001b[0;34m\u001b[0m\u001b[0m\n\u001b[1;32m    171\u001b[0m \u001b[0;34m\u001b[0m\u001b[0m\n\u001b[0;32m--> 172\u001b[0;31m     \u001b[0;34m(\u001b[0m\u001b[0;34m(\u001b[0m\u001b[0;34m(\u001b[0m \u001b[0msuper\u001b[0m\u001b[0;34m(\u001b[0m\u001b[0;34m)\u001b[0m \u001b[0;34m)\u001b[0m\u001b[0;34m)\u001b[0m\u001b[0;34m)\u001b[0m\u001b[0;34m\u001b[0m\u001b[0;34m\u001b[0m\u001b[0m\n\u001b[0m\u001b[1;32m    173\u001b[0m \u001b[0;34m\u001b[0m\u001b[0m\n\u001b[1;32m    174\u001b[0m     \u001b[0;34m%\u001b[0m \u001b[0mAdd\u001b[0m \u001b[0ma\u001b[0m \u001b[0mbibliography\u001b[0m \u001b[0mblock\u001b[0m \u001b[0mto\u001b[0m \u001b[0mthe\u001b[0m \u001b[0mpostdoc\u001b[0m\u001b[0;34m\u001b[0m\u001b[0;34m\u001b[0m\u001b[0m\n",
      "\u001b[0;32m/Users/monicawilkinson/anaconda3/lib/python3.6/site-packages/nbconvert/exporters/../templates/latex/skeleton/null.tplx\u001b[0m in \u001b[0;36mblock \"body\"\u001b[0;34m()\u001b[0m\n\u001b[1;32m     30\u001b[0m \u001b[0;34m(\u001b[0m\u001b[0;34m(\u001b[0m\u001b[0;34m*\u001b[0m\u001b[0;34m-\u001b[0m \u001b[0mblock\u001b[0m \u001b[0mbody\u001b[0m \u001b[0;34m-\u001b[0m\u001b[0;34m*\u001b[0m\u001b[0;34m)\u001b[0m\u001b[0;34m)\u001b[0m\u001b[0;34m\u001b[0m\u001b[0;34m\u001b[0m\u001b[0m\n\u001b[1;32m     31\u001b[0m \u001b[0;34m(\u001b[0m\u001b[0;34m(\u001b[0m\u001b[0;34m*\u001b[0m\u001b[0;34m-\u001b[0m \u001b[0;32mfor\u001b[0m \u001b[0mcell\u001b[0m \u001b[0;32min\u001b[0m \u001b[0mnb\u001b[0m\u001b[0;34m.\u001b[0m\u001b[0mcells\u001b[0m \u001b[0;34m-\u001b[0m\u001b[0;34m*\u001b[0m\u001b[0;34m)\u001b[0m\u001b[0;34m)\u001b[0m\u001b[0;34m\u001b[0m\u001b[0;34m\u001b[0m\u001b[0m\n\u001b[0;32m---> 32\u001b[0;31m     \u001b[0;34m(\u001b[0m\u001b[0;34m(\u001b[0m\u001b[0;34m*\u001b[0m\u001b[0;34m-\u001b[0m \u001b[0mblock\u001b[0m \u001b[0many_cell\u001b[0m \u001b[0mscoped\u001b[0m \u001b[0;34m-\u001b[0m\u001b[0;34m*\u001b[0m\u001b[0;34m)\u001b[0m\u001b[0;34m)\u001b[0m\u001b[0;34m\u001b[0m\u001b[0;34m\u001b[0m\u001b[0m\n\u001b[0m\u001b[1;32m     33\u001b[0m         \u001b[0;34m(\u001b[0m\u001b[0;34m(\u001b[0m\u001b[0;34m*\u001b[0m\u001b[0;34m-\u001b[0m \u001b[0;32mif\u001b[0m \u001b[0mcell\u001b[0m\u001b[0;34m.\u001b[0m\u001b[0mcell_type\u001b[0m \u001b[0;34m==\u001b[0m \u001b[0;34m'code'\u001b[0m \u001b[0;34m-\u001b[0m\u001b[0;34m*\u001b[0m\u001b[0;34m)\u001b[0m\u001b[0;34m)\u001b[0m\u001b[0;34m\u001b[0m\u001b[0;34m\u001b[0m\u001b[0m\n\u001b[1;32m     34\u001b[0m             \u001b[0;34m(\u001b[0m\u001b[0;34m(\u001b[0m\u001b[0;34m*\u001b[0m\u001b[0;34m-\u001b[0m \u001b[0mblock\u001b[0m \u001b[0mcodecell\u001b[0m \u001b[0mscoped\u001b[0m \u001b[0;34m-\u001b[0m\u001b[0;34m*\u001b[0m\u001b[0;34m)\u001b[0m\u001b[0;34m)\u001b[0m\u001b[0;34m\u001b[0m\u001b[0;34m\u001b[0m\u001b[0m\n",
      "\u001b[0;32m/Users/monicawilkinson/anaconda3/lib/python3.6/site-packages/nbconvert/exporters/../templates/latex/skeleton/null.tplx\u001b[0m in \u001b[0;36mblock \"any_cell\"\u001b[0;34m()\u001b[0m\n\u001b[1;32m     74\u001b[0m             \u001b[0;34m(\u001b[0m\u001b[0;34m(\u001b[0m\u001b[0;34m*\u001b[0m\u001b[0;34m-\u001b[0m \u001b[0mendblock\u001b[0m \u001b[0mcodecell\u001b[0m \u001b[0;34m-\u001b[0m\u001b[0;34m*\u001b[0m\u001b[0;34m)\u001b[0m\u001b[0;34m)\u001b[0m\u001b[0;34m\u001b[0m\u001b[0;34m\u001b[0m\u001b[0m\n\u001b[1;32m     75\u001b[0m         \u001b[0;34m(\u001b[0m\u001b[0;34m(\u001b[0m\u001b[0;34m*\u001b[0m\u001b[0;34m-\u001b[0m \u001b[0;32melif\u001b[0m \u001b[0mcell\u001b[0m\u001b[0;34m.\u001b[0m\u001b[0mcell_type\u001b[0m \u001b[0;32min\u001b[0m \u001b[0;34m[\u001b[0m\u001b[0;34m'markdown'\u001b[0m\u001b[0;34m]\u001b[0m \u001b[0;34m-\u001b[0m\u001b[0;34m*\u001b[0m\u001b[0;34m)\u001b[0m\u001b[0;34m)\u001b[0m\u001b[0;34m\u001b[0m\u001b[0;34m\u001b[0m\u001b[0m\n\u001b[0;32m---> 76\u001b[0;31m             \u001b[0;34m(\u001b[0m\u001b[0;34m(\u001b[0m\u001b[0;34m*\u001b[0m\u001b[0;34m-\u001b[0m \u001b[0mblock\u001b[0m \u001b[0mmarkdowncell\u001b[0m \u001b[0mscoped\u001b[0m\u001b[0;34m-\u001b[0m\u001b[0;34m*\u001b[0m\u001b[0;34m)\u001b[0m\u001b[0;34m)\u001b[0m\u001b[0;34m\u001b[0m\u001b[0;34m\u001b[0m\u001b[0m\n\u001b[0m\u001b[1;32m     77\u001b[0m             \u001b[0;34m(\u001b[0m\u001b[0;34m(\u001b[0m\u001b[0;34m*\u001b[0m\u001b[0;34m-\u001b[0m \u001b[0mendblock\u001b[0m \u001b[0mmarkdowncell\u001b[0m \u001b[0;34m-\u001b[0m\u001b[0;34m*\u001b[0m\u001b[0;34m)\u001b[0m\u001b[0;34m)\u001b[0m\u001b[0;34m\u001b[0m\u001b[0;34m\u001b[0m\u001b[0m\n\u001b[1;32m     78\u001b[0m         \u001b[0;34m(\u001b[0m\u001b[0;34m(\u001b[0m\u001b[0;34m*\u001b[0m\u001b[0;34m-\u001b[0m \u001b[0;32melif\u001b[0m \u001b[0mcell\u001b[0m\u001b[0;34m.\u001b[0m\u001b[0mcell_type\u001b[0m \u001b[0;32min\u001b[0m \u001b[0;34m[\u001b[0m\u001b[0;34m'raw'\u001b[0m\u001b[0;34m]\u001b[0m \u001b[0;34m-\u001b[0m\u001b[0;34m*\u001b[0m\u001b[0;34m)\u001b[0m\u001b[0;34m)\u001b[0m\u001b[0;34m\u001b[0m\u001b[0;34m\u001b[0m\u001b[0m\n",
      "\u001b[0;32m/Users/monicawilkinson/Desktop/modules/fa19/IB-ESPM-105/test.tplx\u001b[0m in \u001b[0;36mblock \"markdowncell\"\u001b[0;34m()\u001b[0m\n\u001b[1;32m     24\u001b[0m                 \u001b[0;31m\\\u001b[0m\u001b[0mcleartooddpage\u001b[0m\u001b[0;34m\u001b[0m\u001b[0;34m\u001b[0m\u001b[0m\n\u001b[1;32m     25\u001b[0m         \u001b[0;34m(\u001b[0m\u001b[0;34m(\u001b[0m\u001b[0;34m*\u001b[0m\u001b[0;34m-\u001b[0m \u001b[0mendif\u001b[0m \u001b[0;34m-\u001b[0m\u001b[0;34m*\u001b[0m\u001b[0;34m)\u001b[0m\u001b[0;34m)\u001b[0m\u001b[0;34m\u001b[0m\u001b[0;34m\u001b[0m\u001b[0m\n\u001b[0;32m---> 26\u001b[0;31m \u001b[0;34m(\u001b[0m\u001b[0;34m(\u001b[0m\u001b[0;34m(\u001b[0m \u001b[0msuper\u001b[0m\u001b[0;34m(\u001b[0m\u001b[0;34m)\u001b[0m \u001b[0;34m)\u001b[0m\u001b[0;34m)\u001b[0m\u001b[0;34m)\u001b[0m\u001b[0;34m\u001b[0m\u001b[0;34m\u001b[0m\u001b[0m\n\u001b[0m\u001b[1;32m     27\u001b[0m \u001b[0;34m(\u001b[0m\u001b[0;34m(\u001b[0m\u001b[0;34m*\u001b[0m \u001b[0mendblock\u001b[0m \u001b[0mmarkdowncell\u001b[0m \u001b[0;34m*\u001b[0m\u001b[0;34m)\u001b[0m\u001b[0;34m)\u001b[0m\u001b[0;34m\u001b[0m\u001b[0;34m\u001b[0m\u001b[0m\n\u001b[1;32m     28\u001b[0m \u001b[0;34m\u001b[0m\u001b[0m\n",
      "\u001b[0;32m/Users/monicawilkinson/anaconda3/lib/python3.6/site-packages/nbconvert/exporters/../templates/latex/base.tplx\u001b[0m in \u001b[0;36mblock \"markdowncell\"\u001b[0;34m()\u001b[0m\n\u001b[1;32m    243\u001b[0m \u001b[0;34m%\u001b[0m \u001b[0mRender\u001b[0m \u001b[0mmarkdown\u001b[0m\u001b[0;34m\u001b[0m\u001b[0;34m\u001b[0m\u001b[0m\n\u001b[1;32m    244\u001b[0m \u001b[0;34m(\u001b[0m\u001b[0;34m(\u001b[0m\u001b[0;34m*\u001b[0m \u001b[0mblock\u001b[0m \u001b[0mmarkdowncell\u001b[0m \u001b[0mscoped\u001b[0m \u001b[0;34m*\u001b[0m\u001b[0;34m)\u001b[0m\u001b[0;34m)\u001b[0m\u001b[0;34m\u001b[0m\u001b[0;34m\u001b[0m\u001b[0m\n\u001b[0;32m--> 245\u001b[0;31m     \u001b[0;34m(\u001b[0m\u001b[0;34m(\u001b[0m\u001b[0;34m(\u001b[0m \u001b[0mcell\u001b[0m\u001b[0;34m.\u001b[0m\u001b[0msource\u001b[0m \u001b[0;34m|\u001b[0m \u001b[0mcitation2latex\u001b[0m \u001b[0;34m|\u001b[0m \u001b[0mstrip_files_prefix\u001b[0m \u001b[0;34m|\u001b[0m \u001b[0mmarkdown2latex\u001b[0m \u001b[0;34m)\u001b[0m\u001b[0;34m)\u001b[0m\u001b[0;34m)\u001b[0m\u001b[0;34m\u001b[0m\u001b[0;34m\u001b[0m\u001b[0m\n\u001b[0m\u001b[1;32m    246\u001b[0m \u001b[0;34m(\u001b[0m\u001b[0;34m(\u001b[0m\u001b[0;34m*\u001b[0m \u001b[0mendblock\u001b[0m \u001b[0mmarkdowncell\u001b[0m \u001b[0;34m*\u001b[0m\u001b[0;34m)\u001b[0m\u001b[0;34m)\u001b[0m\u001b[0;34m\u001b[0m\u001b[0;34m\u001b[0m\u001b[0m\n\u001b[1;32m    247\u001b[0m \u001b[0;34m\u001b[0m\u001b[0m\n",
      "\u001b[0;32m/Users/monicawilkinson/anaconda3/lib/python3.6/site-packages/nbconvert/filters/markdown.py\u001b[0m in \u001b[0;36mmarkdown2latex\u001b[0;34m(source, markup, extra_args)\u001b[0m\n\u001b[1;32m     57\u001b[0m       \u001b[0mOutput\u001b[0m \u001b[0;32mas\u001b[0m \u001b[0mreturned\u001b[0m \u001b[0mby\u001b[0m \u001b[0mpandoc\u001b[0m\u001b[0;34m.\u001b[0m\u001b[0;34m\u001b[0m\u001b[0;34m\u001b[0m\u001b[0m\n\u001b[1;32m     58\u001b[0m     \"\"\"\n\u001b[0;32m---> 59\u001b[0;31m     \u001b[0;32mreturn\u001b[0m \u001b[0mpandoc\u001b[0m\u001b[0;34m(\u001b[0m\u001b[0msource\u001b[0m\u001b[0;34m,\u001b[0m \u001b[0mmarkup\u001b[0m\u001b[0;34m,\u001b[0m \u001b[0;34m'latex'\u001b[0m\u001b[0;34m,\u001b[0m \u001b[0mextra_args\u001b[0m\u001b[0;34m=\u001b[0m\u001b[0mextra_args\u001b[0m\u001b[0;34m)\u001b[0m\u001b[0;34m\u001b[0m\u001b[0;34m\u001b[0m\u001b[0m\n\u001b[0m\u001b[1;32m     60\u001b[0m \u001b[0;34m\u001b[0m\u001b[0m\n\u001b[1;32m     61\u001b[0m \u001b[0;34m\u001b[0m\u001b[0m\n",
      "\u001b[0;32m/Users/monicawilkinson/anaconda3/lib/python3.6/site-packages/nbconvert/utils/pandoc.py\u001b[0m in \u001b[0;36mpandoc\u001b[0;34m(source, fmt, to, extra_args, encoding)\u001b[0m\n\u001b[1;32m     49\u001b[0m \u001b[0;34m\u001b[0m\u001b[0m\n\u001b[1;32m     50\u001b[0m     \u001b[0;31m# this will raise an exception that will pop us out of here\u001b[0m\u001b[0;34m\u001b[0m\u001b[0;34m\u001b[0m\u001b[0;34m\u001b[0m\u001b[0m\n\u001b[0;32m---> 51\u001b[0;31m     \u001b[0mcheck_pandoc_version\u001b[0m\u001b[0;34m(\u001b[0m\u001b[0;34m)\u001b[0m\u001b[0;34m\u001b[0m\u001b[0;34m\u001b[0m\u001b[0m\n\u001b[0m\u001b[1;32m     52\u001b[0m \u001b[0;34m\u001b[0m\u001b[0m\n\u001b[1;32m     53\u001b[0m     \u001b[0;31m# we can safely continue\u001b[0m\u001b[0;34m\u001b[0m\u001b[0;34m\u001b[0m\u001b[0;34m\u001b[0m\u001b[0m\n",
      "\u001b[0;32m/Users/monicawilkinson/anaconda3/lib/python3.6/site-packages/nbconvert/utils/pandoc.py\u001b[0m in \u001b[0;36mcheck_pandoc_version\u001b[0;34m()\u001b[0m\n\u001b[1;32m     95\u001b[0m       \u001b[0mIf\u001b[0m \u001b[0mpandoc\u001b[0m \u001b[0;32mis\u001b[0m \u001b[0munavailable\u001b[0m\u001b[0;34m.\u001b[0m\u001b[0;34m\u001b[0m\u001b[0;34m\u001b[0m\u001b[0m\n\u001b[1;32m     96\u001b[0m     \"\"\"\n\u001b[0;32m---> 97\u001b[0;31m     \u001b[0mv\u001b[0m \u001b[0;34m=\u001b[0m \u001b[0mget_pandoc_version\u001b[0m\u001b[0;34m(\u001b[0m\u001b[0;34m)\u001b[0m\u001b[0;34m\u001b[0m\u001b[0;34m\u001b[0m\u001b[0m\n\u001b[0m\u001b[1;32m     98\u001b[0m     \u001b[0;32mif\u001b[0m \u001b[0mv\u001b[0m \u001b[0;32mis\u001b[0m \u001b[0;32mNone\u001b[0m\u001b[0;34m:\u001b[0m\u001b[0;34m\u001b[0m\u001b[0;34m\u001b[0m\u001b[0m\n\u001b[1;32m     99\u001b[0m         warnings.warn(\"Sorry, we cannot determine the version of pandoc.\\n\"\n",
      "\u001b[0;32m/Users/monicawilkinson/anaconda3/lib/python3.6/site-packages/nbconvert/utils/pandoc.py\u001b[0m in \u001b[0;36mget_pandoc_version\u001b[0;34m()\u001b[0m\n\u001b[1;32m     74\u001b[0m     \u001b[0;32mif\u001b[0m \u001b[0m__version\u001b[0m \u001b[0;32mis\u001b[0m \u001b[0;32mNone\u001b[0m\u001b[0;34m:\u001b[0m\u001b[0;34m\u001b[0m\u001b[0;34m\u001b[0m\u001b[0m\n\u001b[1;32m     75\u001b[0m         \u001b[0;32mif\u001b[0m \u001b[0;32mnot\u001b[0m \u001b[0mwhich\u001b[0m\u001b[0;34m(\u001b[0m\u001b[0;34m'pandoc'\u001b[0m\u001b[0;34m)\u001b[0m\u001b[0;34m:\u001b[0m\u001b[0;34m\u001b[0m\u001b[0;34m\u001b[0m\u001b[0m\n\u001b[0;32m---> 76\u001b[0;31m             \u001b[0;32mraise\u001b[0m \u001b[0mPandocMissing\u001b[0m\u001b[0;34m(\u001b[0m\u001b[0;34m)\u001b[0m\u001b[0;34m\u001b[0m\u001b[0;34m\u001b[0m\u001b[0m\n\u001b[0m\u001b[1;32m     77\u001b[0m \u001b[0;34m\u001b[0m\u001b[0m\n\u001b[1;32m     78\u001b[0m         out = subprocess.check_output(['pandoc', '-v'],\n",
      "\u001b[0;31mPandocMissing\u001b[0m: Pandoc wasn't found.\nPlease check that pandoc is installed:\nhttp://pandoc.org/installing.html"
     ]
    }
   ],
   "source": [
    "import gsExport\n",
    "gsExport.generateSubmission(\"biogeography_notebook1.ipynb\")"
   ]
  },
  {
   "cell_type": "markdown",
   "metadata": {
    "#student": false
   },
   "source": [
    "---\n",
    "\n",
    "Notebook developed by: Nina Koo, Natalie Graham, Monica Wilkinson\n",
    "\n",
    "[Data Science Modules](http://data.berkeley.edu/education/modules)"
   ]
  }
 ],
 "metadata": {
  "anaconda-cloud": {},
  "checksums": [
   "c23469c48a2295c7ffe4b412f87dfae9",
   "3dcb190386ffe7bf65e2b1a4b5b5b229",
   "cc029a5ef0f58a28f7561088179662b1",
   "44bacf57cd16e64ac83554bb75a62208",
   "9ac6aca79683d3b735595a945aac7aac",
   "50bdea8623c3a9d599358244fee3de6f",
   "047d77a7fdec55cf903fe9936b4e25ae",
   "b5f32362384dfcc93f5d38351a019533",
   "93cff136f0735e12bd399afd6eb91a92",
   "52fe40f96c4b7d0951e7e88a8a17593f",
   "6b37da965821a111a019d0f71c3ff994",
   "fdf4dc02203a065568d46ee8a429124b",
   "729b2fd269628bf194226ba3dccee595",
   "f937888014d36a74142c3d7682499cb3",
   "4d7a3b0dde85307907966ad910c22396",
   "dbe869a77a85312dfc1a3ad454354578",
   "1d0a4d61abf319ae8b1f1ef360c7c58c",
   "ba730ba02fc5c68543d976ee47379cbe",
   "e086c485bbb099eda10e1d99eb7d8083",
   "332d3f597a87a41d058e1d2785b2c758",
   "69c599522ddcc3620bdd0712a77699b4",
   "2163ff6a1ea6f9ba80fbd31aff5becdf",
   "071ad810c297bc347f0bef6a11e27645",
   "2e0fb5c8ed2a2eb6be58427f36e5a182",
   "45cd11d379598a149a2bd1c7815bf63d",
   "5f29e02df5c115ab3907ca7af0977021",
   "7f8ad0ed026bca18ab0e6cf8aed43267",
   "074e418aa7b0b48fd40424c87f9df310",
   "d1bd61960db7a42b42aeb8678ff53e91",
   "4f40d0f3a9a24754b8b38a96f288802c",
   "8cc91fe81f4e9ec93995a06ec59975e2",
   "6d8e27ae0ecd7510d7a8d01731ca4abe",
   "97d5532797deaacfefcd5528578a5945",
   "42a7929bf149d872294acb1d7178dd50",
   "4f12e14afce35e0f745055018e05808b",
   "8708ed288b363c38a000dabc59c820b2",
   "abafef6b1d45bb022c4465448a926ab9",
   "daed95495ea130bfb8ddce5eb6a85370",
   "8cc91fe81f4e9ec93995a06ec59975e2",
   "e7d0968ad40b5ab954a7853d6bda5ba7",
   "8cc91fe81f4e9ec93995a06ec59975e2",
   "8a7ffb1b7b0104de6a209ef28e1d0713",
   "8cc91fe81f4e9ec93995a06ec59975e2",
   "2179d5a2e96f4a9b0f7e1e6462aa488d",
   "e0a8f100b63d9b37e9981fe18b683c58",
   "db95816068de6defc4bb609ed40b0d94",
   "d85e9df4222fa39bc52e5b0def5a29d0",
   "268909c9bf5dfb9a6363f4f4041af17a",
   "eabe9a19e53ae735c3b5c4d629c447e0",
   "cc17c584a30717781c9410a825b07c6d",
   "67186a93b7a3ab0616e9ef239cd509c8",
   "db5c8d6ed19b848053c8e1dc43b08a23",
   "aba338a6d0fd23248cc994856f78f724",
   "91636c1d07cd0db4b0355bc6786ce46e",
   "8cc91fe81f4e9ec93995a06ec59975e2",
   "1ec6c506e3cd0027e5e8e2fc83e66052",
   "8cc91fe81f4e9ec93995a06ec59975e2",
   "c3dbd65431b7901c40c0b70cccb86904",
   "4c9b7d764047dcca065e541a6eea59dd",
   "8cc91fe81f4e9ec93995a06ec59975e2",
   "cc85f1b02f4c3ca39bec803653e88acf",
   "c6a4bc5f5031e7514117f9bb85ee5458",
   "8cc91fe81f4e9ec93995a06ec59975e2",
   "687e08ca21d64f412effaaf2cb968246",
   "df45ca44f6061b1ec345708351a819f7",
   "13bd081a224122a52edc5a75b8822fa4",
   "721376a4a23be7062948139a597e8154",
   "d5f5c5e187a3ee3c3df8536ca309945a",
   "f5e06e97dab7727280193d108063918c",
   "8cc91fe81f4e9ec93995a06ec59975e2",
   "518310039f63d45ddf695dc6afd67f6b",
   "ae3a04ca40fef83f29a10f69b272c84f",
   "0842da36091036eab4e5fd21e90712e4",
   "3e30d5cf7d42acd4ac90558d533fb502",
   "7e3ce341bd9bcdd8d0639f53b4d6ac42",
   "8cc91fe81f4e9ec93995a06ec59975e2",
   "009fa5fb052636407453da819e3fff3f",
   "fb8e37283e47d0b72c664cbd7e9f6428",
   "8cc91fe81f4e9ec93995a06ec59975e2",
   "c6d80b2700a57e506c692a365f9a1707",
   "6af74c7bf7d980b5595971932c463c0f",
   "8cc91fe81f4e9ec93995a06ec59975e2",
   "9a7fdc021f97b730e92be97ef33c7f75",
   "9bdb2dd568708d631cc0531bfdec49cc",
   "a8fd83430b8ece7eb7dc9722f76340d2"
  ],
  "kernelspec": {
   "display_name": "Python 3",
   "language": "python",
   "name": "python3"
  },
  "language_info": {
   "codemirror_mode": {
    "name": "ipython",
    "version": 3
   },
   "file_extension": ".py",
   "mimetype": "text/x-python",
   "name": "python",
   "nbconvert_exporter": "python",
   "pygments_lexer": "ipython3",
   "version": "3.6.8"
  },
  "number_of_pagebreaks": 0
 },
 "nbformat": 4,
 "nbformat_minor": 1
}
