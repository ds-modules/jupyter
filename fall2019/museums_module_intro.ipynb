{
 "cells": [
  {
   "cell_type": "markdown",
   "metadata": {
    "#student": false
   },
   "source": [
    "# Natural History Museums and Biodiversity Science Data Science Module Pre-lab\n",
    "\n",
    "The goal of this data science module is to access and integrate diverse data sets to visualize correlations and discover patterns to address questions of species’ responses to environmental change. We will use programmatic tools to show how to use Berkeley resources such as the biodiversity data from biocollections and online databases, field stations, climate models, and other environmental data. If you have any questions getting the Jupyter notebook to run, try dropping into [data peer consulting](https://data.berkeley.edu/education/data-peer-consulting).\n",
    "\n",
    "Before we begin analyzing and visualizing biodiversity data next class, this introductory notebook will help familiarize you with the basics of programming in Python.\n",
    "\n",
    "## Table of Contents\n",
    "\n",
    "Please complete sections 0 and 1 before coming to class.\n",
    "\n",
    "1 - [Jupyter Notebooks](#jupyter)\n",
    "    \n",
    "2 - [Python Basics](#python)"
   ]
  },
  {
   "cell_type": "markdown",
   "metadata": {
    "#student": false
   },
   "source": [
    "# Part 1: Our Computing Environment, Jupyter notebooks  <a id='jupyter'></a>\n",
    "This webpage is called a Jupyter notebook. A notebook is a place to write programs and view their results. \n",
    "\n",
    "### Text cells\n",
    "In a notebook, each rectangle containing text or code is called a *cell*.\n",
    "\n",
    "Text cells (like this one) can be edited by double-clicking on them. They're written in a simple format called [Markdown](http://daringfireball.net/projects/markdown/syntax) to add formatting and section headings.  You don't need to learn Markdown, but you might want to.\n",
    "\n",
    "After you edit a text cell, click the \"run cell\" button at the top that looks like ▶| to confirm any changes. You can also hold `shift` and then press `enter` or `return`. (Try not to delete the instructions of the lab.)"
   ]
  },
  {
   "cell_type": "markdown",
   "metadata": {
    "#student": false
   },
   "source": [
    "### Code cells\n",
    "Other cells contain code in the Python 3 language. Running a code cell will execute all of the code it contains.\n",
    "\n",
    "To run the code in a code cell, first click on that cell to activate it.  It'll be highlighted with a little green or blue rectangle.  Next, either press ▶| or hold down the `shift` key and press `return` or `enter`.\n",
    "\n",
    "Try running this cell:"
   ]
  },
  {
   "cell_type": "code",
   "execution_count": null,
   "metadata": {
    "#student": false
   },
   "outputs": [],
   "source": [
    "print(\"Hello, World!\")"
   ]
  },
  {
   "cell_type": "markdown",
   "metadata": {
    "#student": false
   },
   "source": [
    "And this one:"
   ]
  },
  {
   "cell_type": "code",
   "execution_count": null,
   "metadata": {
    "#student": false
   },
   "outputs": [],
   "source": [
    "print(\"\\N{WAVING HAND SIGN}, \\N{EARTH GLOBE ASIA-AUSTRALIA}!\")"
   ]
  },
  {
   "cell_type": "markdown",
   "metadata": {
    "#student": false
   },
   "source": [
    "In order to finish the setup for this notebook, run the following cell:"
   ]
  },
  {
   "cell_type": "code",
   "execution_count": null,
   "metadata": {
    "#student": false
   },
   "outputs": [],
   "source": [
    "import matplotlib.pyplot as plt\n",
    "import numpy as np\n",
    "import pandas as pd\n",
    "from scripts.espm_module import *\n",
    "import json\n",
    "from IPython.core.display import display, HTML\n",
    "plt.style.use('seaborn')\n",
    "%matplotlib inline"
   ]
  },
  {
   "cell_type": "markdown",
   "metadata": {
    "#student": false
   },
   "source": [
    "# Part 2: Python basics <a id='python'></a>\n",
    "Before getting into the more high level analyses we will do on the GBIF and Cal-Adapt data, we need to cover a few of the foundational elements of programming in Python.\n",
    "\n",
    "#### A. Expressions\n",
    "The departure point for all programming is the concept of the __expression__. An expression is a combination of variables, operators, and other Python elements that the language interprets and acts upon. Expressions act as a set of instructions to be fed through the interpreter, with the goal of generating specific outcomes. See below for some examples of basic expressions. Keep in mind that most of these just map to your understanding of mathematical expressions:"
   ]
  },
  {
   "cell_type": "code",
   "execution_count": 1,
   "metadata": {
    "#student": false
   },
   "outputs": [
    {
     "data": {
      "text/plain": [
       "10"
      ]
     },
     "execution_count": 1,
     "metadata": {},
     "output_type": "execute_result"
    }
   ],
   "source": [
    "2 + 2\n",
    "\n",
    "'me' + ' and I'\n",
    "\n",
    "12 ** 2\n",
    "\n",
    "6 + 4"
   ]
  },
  {
   "cell_type": "markdown",
   "metadata": {
    "#student": false
   },
   "source": [
    "You will notice that only the last line in a cell gets printed out. If you want to see the values of previous expressions, you need to call the `print` function on that expression. Functions use parenthesis around their parameters, just like in math!"
   ]
  },
  {
   "cell_type": "code",
   "execution_count": null,
   "metadata": {
    "#student": false
   },
   "outputs": [],
   "source": [
    "print(2 + 2)\n",
    "\n",
    "print('you' + ' and I')\n",
    "\n",
    "print(12 ** 2)\n",
    "\n",
    "print(6 + 4)"
   ]
  },
  {
   "cell_type": "markdown",
   "metadata": {
    "#student": false
   },
   "source": [
    "#### B. Variables\n",
    "In the example below, `a` and `b` are Python objects known as __variables__. We are giving an object (in this case, an `integer` and a `float`, two Python data types) a name that we can store for later use. To use that value, we can simply type the name that we stored the value as. Variables are stored within the notebook's environment, meaning stored variable values carry over from cell to cell."
   ]
  },
  {
   "cell_type": "code",
   "execution_count": null,
   "metadata": {
    "#student": false
   },
   "outputs": [],
   "source": [
    "a = 4\n",
    "b = 10/5"
   ]
  },
  {
   "cell_type": "markdown",
   "metadata": {
    "#student": false
   },
   "source": [
    "Notice that when you create a variable, unlike what you previously saw with the expressions, it does not print anything out.\n",
    "\n",
    "We can continue to perform mathematical operations on these variables, which are now placeholders for what we've assigned:"
   ]
  },
  {
   "cell_type": "code",
   "execution_count": null,
   "metadata": {
    "#student": false
   },
   "outputs": [],
   "source": [
    "print(a + b)"
   ]
  },
  {
   "cell_type": "markdown",
   "metadata": {
    "#student": false
   },
   "source": [
    "#### C. Lists\n",
    "The following few cells will introduce the concept of __lists__.\n",
    "\n",
    "A list is an ordered collection of objects. They allow us to store and access groups of variables and other objects for easy access and analysis. Check out this [documentation](https://www.tutorialspoint.com/python/python_lists.htm) for an in-depth look at the capabilities of lists.\n",
    "\n",
    "To initialize a list, you use brackets. Putting objects separated by commas in between the brackets will add them to the list. \n",
    "\n",
    "We use `lst` as the variable name because `list` is a reserved keyword in Python (meaning it has special functionality and shouldn't be used as a variable name)."
   ]
  },
  {
   "cell_type": "code",
   "execution_count": null,
   "metadata": {
    "#student": false
   },
   "outputs": [],
   "source": [
    "# an empty list\n",
    "lst = []\n",
    "print(lst)\n",
    "\n",
    "# reassigning our empty list to a new list\n",
    "lst = [1, 3, 6, 'lists', 'are' 'fun', 4]\n",
    "print(lst)"
   ]
  },
  {
   "cell_type": "markdown",
   "metadata": {
    "#student": false
   },
   "source": [
    "To access a value in the list, put the index of the item you wish to access in brackets following the variable that stores the list. Lists in Python are zero-indexed, so the indicies for `lst` are 0, 1, 2, 3, 4, 5, and 6."
   ]
  },
  {
   "cell_type": "code",
   "execution_count": null,
   "metadata": {
    "#student": false
   },
   "outputs": [],
   "source": [
    "# Elements are selected like this:\n",
    "example = lst[2]\n",
    "\n",
    "# The above line selects the 3rd element of lst (list indices are 0-offset) and sets it to a variable named example.\n",
    "print(example)"
   ]
  },
  {
   "cell_type": "markdown",
   "metadata": {
    "#student": false
   },
   "source": [
    "#### D. Dictionaries\n",
    "\n",
    "Dictionaries are `key`-`value` pairs. Just like a word dictinary, you have a key that will index a specific definition."
   ]
  },
  {
   "cell_type": "code",
   "execution_count": null,
   "metadata": {
    "#student": false
   },
   "outputs": [],
   "source": [
    "my_dict = {'python': 'a large heavy-bodied nonvenomous constrictor snake occurring throughout the Old World tropics.'}"
   ]
  },
  {
   "cell_type": "markdown",
   "metadata": {
    "#student": false
   },
   "source": [
    "We can get a `value` back out by indexing the `key`:"
   ]
  },
  {
   "cell_type": "code",
   "execution_count": null,
   "metadata": {
    "#student": false
   },
   "outputs": [],
   "source": [
    "my_dict['python']"
   ]
  },
  {
   "cell_type": "markdown",
   "metadata": {
    "#student": false
   },
   "source": [
    "But like real dictionaries, there can be more than one definition. You can keep a `list`, or even another dictionary within a specific `key`:"
   ]
  },
  {
   "cell_type": "code",
   "execution_count": null,
   "metadata": {
    "#student": false
   },
   "outputs": [],
   "source": [
    "my_dict = {'python': ['a large heavy-bodied nonvenomous constrictor snake occurring throughout the Old World tropics.',\n",
    "                      'a high-level general-purpose programming language.']}"
   ]
  },
  {
   "cell_type": "markdown",
   "metadata": {
    "#student": false
   },
   "source": [
    "We can index the `list` after the `key`:"
   ]
  },
  {
   "cell_type": "code",
   "execution_count": null,
   "metadata": {
    "#student": false
   },
   "outputs": [],
   "source": [
    "my_dict['python'][0]"
   ]
  },
  {
   "cell_type": "code",
   "execution_count": null,
   "metadata": {
    "#student": false
   },
   "outputs": [],
   "source": [
    "my_dict['python'][1]"
   ]
  },
  {
   "cell_type": "markdown",
   "metadata": {
    "#student": false
   },
   "source": [
    "**E: Functions**"
   ]
  },
  {
   "cell_type": "markdown",
   "metadata": {
    "#student": false
   },
   "source": [
    "In programming, we often reuse chunks of code. So instead of copy/pasting it and repeating the same code over and over again, we have something called a function, which gives a name to a block of code. This allows us to just call the function instead of rewriting code we used before.\n",
    "\n",
    "For example, this is a function that squares an input."
   ]
  },
  {
   "cell_type": "code",
   "execution_count": null,
   "metadata": {
    "#student": false
   },
   "outputs": [],
   "source": [
    "# This code creates a function named square\n",
    "def square(n):\n",
    "    return n * n"
   ]
  },
  {
   "cell_type": "code",
   "execution_count": null,
   "metadata": {
    "#student": false
   },
   "outputs": [],
   "source": [
    "# Let's find the square of 5\n",
    "square(5)"
   ]
  },
  {
   "cell_type": "code",
   "execution_count": null,
   "metadata": {
    "#student": false
   },
   "outputs": [],
   "source": [
    "# Let's try it with -3\n",
    "square(-3)"
   ]
  },
  {
   "cell_type": "markdown",
   "metadata": {
    "#student": false
   },
   "source": [
    "Our use of functions later in the notebook you will see in class is more complex than this example. We will use them in order to reduce the amount of code in this notebook. For now, you can just ignore the details and structure of how functions work. Just remember that a **function** is a shortcut to easily re-run old code and that the `def` keyword means we are creating a function."
   ]
  },
  {
   "cell_type": "markdown",
   "metadata": {
    "#student": false
   },
   "source": [
    "## You're done!\n",
    "\n",
    "You have completed the pre-lab! Please fill out this [Google Form](https://forms.gle/h4fuE4k9Nv5nQ5wm6) to show that you completed this notebook.\n",
    "\n",
    "---\n",
    "\n",
    "Notebook developed by: Michelle Koo, Nina Pak, Natalie Graham, Monica Wilkinson, Andy Sheu, Harry Li\n",
    "\n",
    "[Data Science Modules](http://data.berkeley.edu/education/modules)"
   ]
  },
  {
   "cell_type": "code",
   "execution_count": null,
   "metadata": {},
   "outputs": [],
   "source": []
  }
 ],
 "metadata": {
  "anaconda-cloud": {},
  "checksums": [
   "532f808da66a1f2e70620e74a58a90a2",
   "abe4f69e655de81a116cb4f2685fff21",
   "89226a25ddec4f1c72d15b81ecc1b1da",
   "cc029a5ef0f58a28f7561088179662b1",
   "44bacf57cd16e64ac83554bb75a62208",
   "9ac6aca79683d3b735595a945aac7aac",
   "50bdea8623c3a9d599358244fee3de6f",
   "047d77a7fdec55cf903fe9936b4e25ae",
   "c8cb0616edfae6649ba4c43e5a4b23bd",
   "4a9705962836d02eb5dc91a40d33562a",
   "52fe40f96c4b7d0951e7e88a8a17593f",
   "6b37da965821a111a019d0f71c3ff994",
   "fdf4dc02203a065568d46ee8a429124b",
   "729b2fd269628bf194226ba3dccee595",
   "f937888014d36a74142c3d7682499cb3",
   "4d7a3b0dde85307907966ad910c22396",
   "dbe869a77a85312dfc1a3ad454354578",
   "c1dbe5c6c304bfe95fd924e10693d87c",
   "ba730ba02fc5c68543d976ee47379cbe",
   "e086c485bbb099eda10e1d99eb7d8083",
   "332d3f597a87a41d058e1d2785b2c758",
   "69c599522ddcc3620bdd0712a77699b4",
   "2163ff6a1ea6f9ba80fbd31aff5becdf",
   "071ad810c297bc347f0bef6a11e27645",
   "2e0fb5c8ed2a2eb6be58427f36e5a182",
   "45cd11d379598a149a2bd1c7815bf63d",
   "5f29e02df5c115ab3907ca7af0977021",
   "7f8ad0ed026bca18ab0e6cf8aed43267",
   "074e418aa7b0b48fd40424c87f9df310",
   "d1bd61960db7a42b42aeb8678ff53e91",
   "2ebd83d084a27debdf16783fdfe428ec",
   "f847e0364e4a4baa4a9b4f90cc8a0943",
   "efcf93e5236dfa283c086b7aa9431c4f",
   "0f9fb7f1d59ab440dfb2110d02b0d8b4",
   "6b09e903fb132eeb4f3ee90e917af912",
   "7c61fe201b549a73c1de99c888c41f5c",
   "1895de76fb4e816b983c2c53498a5e09",
   "96ecfe8e82bc2decee2f2690e5083f8d",
   "8cc91fe81f4e9ec93995a06ec59975e2",
   "6d8e27ae0ecd7510d7a8d01731ca4abe",
   "97d5532797deaacfefcd5528578a5945",
   "42a7929bf149d872294acb1d7178dd50",
   "4f12e14afce35e0f745055018e05808b",
   "8708ed288b363c38a000dabc59c820b2",
   "abafef6b1d45bb022c4465448a926ab9",
   "ef5a2425526506c38ca8863deb038691",
   "027c907803d90ccd4259516e8c9ecda2",
   "58e8a94c36f600ae5deb457a0d295d5e",
   "d8ae7b94af8db7e0b95a73adb005299d",
   "8a4652287ce6a52564ddabc55e44232b",
   "8cc91fe81f4e9ec93995a06ec59975e2",
   "4c60f467f06f2f649298b8929274772f",
   "8cc91fe81f4e9ec93995a06ec59975e2",
   "d1ed325d3831e8fd6348acfbaf47c4b2",
   "8cc91fe81f4e9ec93995a06ec59975e2",
   "9efc314b65237d5d646e1b817372afc6",
   "6301994af42e0b0a42afc4aff221c46e",
   "e0a8f100b63d9b37e9981fe18b683c58",
   "cce4deff3f5a8f4a6c8a5db2500e48d4",
   "b709dc2e0f8c196d3d96476886b88267",
   "0dad8a8b5334e4c4310489b93b878f4e",
   "f402a7f897f4869b355903f81b9160ef",
   "baa3169a8917f35a009758d6502603d9",
   "dc56340983a1814206360f7004486991",
   "b05bf309241b9cde24c089204ecfc85f",
   "9d0ae9c03830e445b69800a36052e748",
   "7f89b6ec61f8852caade710f105698df",
   "54647b68e905c45e7ff5efb838afa812",
   "e7c4826a57db47780c69daf0b7427802",
   "b4272c9eb90581187fe596e48c203f2a",
   "e1bee78ff0e260292d217e6e05610c2f",
   "ba57e03a1edc4ceba1dd6fd1d06ca9ee",
   "8cc91fe81f4e9ec93995a06ec59975e2",
   "c555d5c33c53749b91308a680e8dfc25",
   "90fee3fb738f4200e8152bff3eccef94",
   "b2454988b8bfcdad4ea1e218e47e4f30",
   "8cc91fe81f4e9ec93995a06ec59975e2",
   "96f1a741ccf06f9628314ba0c089fd56",
   "0a80eda726d32531018d0d5fbd72a02f",
   "26d76940319918f91dbcf1b4dfeef6e0",
   "8cc91fe81f4e9ec93995a06ec59975e2",
   "099abaa178d2ae754d8d1d11867c14ba",
   "87c974981ab7dada643dbb08b72b58c9",
   "8cc91fe81f4e9ec93995a06ec59975e2",
   "d40e66cda8f42b75ae28d3f45e723afa",
   "1db7131a794320cd9b563e60e2f2f4c6",
   "9efc314b65237d5d646e1b817372afc6",
   "9388bdba5e86e7849e4429049a4b0856",
   "f50f1b65747a04e00ad52965c31db16d",
   "0cf5ee50c2e9a2b1a46db9e9e8f572f3",
   "b2026c13de5b79ddeced14943bf6319f",
   "721376a4a23be7062948139a597e8154",
   "d0072d4081b3dc374b6464f746e78e61",
   "a0b48c99bb3c31ff56e566aafb0da316",
   "8cc91fe81f4e9ec93995a06ec59975e2",
   "9efc314b65237d5d646e1b817372afc6",
   "773cc4e23982f87ef3c90940df94e342",
   "060f38a57455b7bda1a002f58cb219ea",
   "f17398f15d1af59b2b7417ee7fe6e636",
   "397015d02ce652dcbbaebf540ee7d65a",
   "9ab53b3ba3280bad9c11b12839838f9b",
   "4fbfeadf387ea342d1ea9f39fc6fffd1",
   "7924c4b6b2ec14cc20e4bdb0154582a0",
   "b7e0f8582daeb21ab2afdb153ae54590",
   "8cc91fe81f4e9ec93995a06ec59975e2",
   "aa4f3bed0b2656733be4dc9c3c6d54bb",
   "2433b28eb0b50f12a437cfeb0fb53b87",
   "8cc91fe81f4e9ec93995a06ec59975e2",
   "0585947ff1a484048735f192379f01ea",
   "632f5048faf5b4661e7d2c5d3c301751",
   "8cc91fe81f4e9ec93995a06ec59975e2",
   "b13c9fb1513bc978be7460c6a5fe06bc",
   "566d0f216350c453f1a48457b3767772",
   "774ccd28601ceede28a9da776a1858ec",
   "bf663d83d976949a726630851e14b79a",
   "857376666163241ad20f110be2ed83b4",
   "de643d0b025146726923f8285844edef",
   "f83a24f771ec63ebef351b2ef38f802b",
   "e81d9b7cd73064ee9bedccb805a00fab",
   "757d79552bb468da41c550314bb48b94",
   "e8027b071ab1b1fddb1da88b2cdce68d",
   "174645ba399b848a641307cf8111c1f2",
   "7e143f2acc9b8c9b1b49d9c95cf68558",
   "9efc314b65237d5d646e1b817372afc6",
   "6b00c271df544611c1f344fd2d3295bb",
   "b8bea47495544f351fe24b6808f9ed85",
   "0827307fa7398b351d55a85de12743a0",
   "ba970b629914601d94c1761a0f892449",
   "9a43a529deba1e3a429947a28afae8aa",
   "145f2b8f6d0081337e2f25f898334713",
   "148c91f4c7815963eb9fc61e30103b27",
   "102fa63477f3b19ce552afd7650227c4",
   "f1ddb2a419e769195176f0166a530ba9",
   "b56a12f87e7a0d912708a255d2878fd4",
   "8cc91fe81f4e9ec93995a06ec59975e2",
   "9efc314b65237d5d646e1b817372afc6",
   "ec04e26ec0a4ced9091de2d01a9be32a",
   "e069a8639bb25b3d0c00bc057e362424",
   "bb4e37bf9b02689b8bd4f621ad5dff39",
   "888310fd319888a7828036a6884869a8",
   "0219ac16ae9749c650db9aa2a9866a19",
   "59aee10b82712847649cadc2aedf1b24",
   "7cc6b5b15b3cced802b963752c0652af",
   "dc69edc33d31c723f0cb7124a29c3a73",
   "6d9613404fc4d8bd61430b398a6c7e4a",
   "98e83132ac0685e96ca2a83187efd6a1",
   "8cc91fe81f4e9ec93995a06ec59975e2",
   "9efc314b65237d5d646e1b817372afc6",
   "84156a57b63c5d14c6b082abb6c2a8bc",
   "34a4a7976106dcb632e6152bd5b413fb",
   "66d2ff5233cfbe0bc6530e8219e29d08",
   "b05b4f21c8ff37ba3b6307a162fd095a",
   "3b3ac48f4250836991e54525ed90e57a",
   "1012681ed59b13620b04a075cf18b6ed",
   "9efc314b65237d5d646e1b817372afc6",
   "7857988532b8e0e588b39e0424a12335",
   "9d3dad15e294889910338bd2ffec91e9",
   "5d1d5ef2f0a472244f0df53e5ff5ec9d",
   "be587f5114f39633409b171fda0fb319",
   "69845fd31d6157b348289d64605c157c",
   "a001afa1a103b1d1abcec663fdfa5cc6",
   "6ed38a898a63100b67fc7324f8fc6475",
   "666f7b35087f2807a432936983c516ab",
   "98c4fed65ea393fddde8c9adeefed04b",
   "a0b7ec97eb40f9aa482be2cd2140d276",
   "93215f5b9b4172f0bc1ad55fb87370a2",
   "dc95ba45e1e980df966b885a4a456718",
   "40be6a843baf867d90744f2c030d1fb2",
   "651e8ae583d4be18823cb633ad6251df",
   "8cc91fe81f4e9ec93995a06ec59975e2",
   "9efc314b65237d5d646e1b817372afc6",
   "5d39f310079729e502d404b88ce9b7ed",
   "bc404a0827d6ff1d4860785db684c5f5",
   "93cb58218dd193854c278e815a02ef7e",
   "072834927f075b2b4afb8c7150e78d24",
   "d242f689c99548cca3e3f64191595d62",
   "022490bac6ca25f6e4ca64f3aa99c851",
   "8cc91fe81f4e9ec93995a06ec59975e2",
   "174d6b84f5ea7ccd84cc5821c00de2a3",
   "49b957912ac75e8518f0989fe2890189",
   "793d8bfbabac0baea1a1fb49727fcb3a",
   "71437bf7c3c1637d072c3f54cf09d384",
   "293a810e8959b581861bf05cea5e04c8",
   "9c0a94a333e7e06400ce0a057886ef92",
   "b932b825cc1d9ef317c3f2ac8f41e31a",
   "8cc91fe81f4e9ec93995a06ec59975e2",
   "bdb112eabe15e39aec51119f501efa5a",
   "8cc91fe81f4e9ec93995a06ec59975e2",
   "9ee9981f5bb6f56df56d2f5ed0f94c3b",
   "3e323802bbebedd408950ab31b20437a",
   "1a0884e98e322e85a9863d83c6687ba8"
  ],
  "kernelspec": {
   "display_name": "Python 3",
   "language": "python",
   "name": "python3"
  },
  "language_info": {
   "codemirror_mode": {
    "name": "ipython",
    "version": 3
   },
   "file_extension": ".py",
   "mimetype": "text/x-python",
   "name": "python",
   "nbconvert_exporter": "python",
   "pygments_lexer": "ipython3",
   "version": "3.6.8"
  },
  "number_of_pagebreaks": 0
 },
 "nbformat": 4,
 "nbformat_minor": 1
}
