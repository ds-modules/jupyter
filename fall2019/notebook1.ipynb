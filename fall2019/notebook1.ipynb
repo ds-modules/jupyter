{
 "cells": [
  {
   "cell_type": "markdown",
   "metadata": {
    "#student": false
   },
   "source": [
    "# Biogeography Notebook 1\n",
    "\n",
    "The goal of this notebook is to access and integrate diverse data sets to visualize correlations and discover patterns to address questions of species’ responses to environmental change. We will use programmatic tools to show how to use Berkeley resources such as the biodiversity data from biocollections and online databases, field stations, climate models, and other environmental data. If you have any questions getting the Jupyter notebook to run, try dropping into [data peer consulting](https://data.berkeley.edu/education/data-peer-consulting).\n",
    "\n",
    "Before we begin analyzing and visualizing biodiversity data, this introductory notebook will help familiarize you with the basics of programming in Python.\n",
    "\n",
    "## Table of Contents\n",
    "\n",
    "Please complete sections 0 and 1 before coming to class.\n",
    "\n",
    "0 - [Jupyter Notebooks](#jupyter)\n",
    "    \n",
    "1 - [Python Basics](#python)\n",
    "\n",
    "2 - [GBIF API](#gbif)\n"
   ]
  },
  {
   "cell_type": "markdown",
   "metadata": {
    "#student": false
   },
   "source": [
    "# Part 0: Our Computing Environment, Jupyter notebooks  <a id='jupyter'></a>\n",
    "This webpage is called a Jupyter notebook. A notebook is a place to write programs and view their results. \n",
    "\n",
    "### Text cells\n",
    "In a notebook, each rectangle containing text or code is called a *cell*.\n",
    "\n",
    "Text cells (like this one) can be edited by double-clicking on them. They're written in a simple format called [Markdown](http://daringfireball.net/projects/markdown/syntax) to add formatting and section headings.  You don't need to learn Markdown, but you might want to.\n",
    "\n",
    "After you edit a text cell, click the \"run cell\" button at the top that looks like ▶| to confirm any changes. (Try not to delete the instructions of the lab.)"
   ]
  },
  {
   "cell_type": "markdown",
   "metadata": {
    "#student": false
   },
   "source": [
    "### Code cells\n",
    "Other cells contain code in the Python 3 language. Running a code cell will execute all of the code it contains.\n",
    "\n",
    "To run the code in a code cell, first click on that cell to activate it.  It'll be highlighted with a little green or blue rectangle.  Next, either press ▶| or hold down the `shift` key and press `return` or `enter`.\n",
    "\n",
    "Try running this cell:"
   ]
  },
  {
   "cell_type": "code",
   "execution_count": null,
   "metadata": {
    "#student": false
   },
   "outputs": [],
   "source": [
    "print(\"Hello, World!\")"
   ]
  },
  {
   "cell_type": "markdown",
   "metadata": {
    "#student": false
   },
   "source": [
    "And this one:"
   ]
  },
  {
   "cell_type": "code",
   "execution_count": null,
   "metadata": {
    "#student": false
   },
   "outputs": [],
   "source": [
    "print(\"\\N{WAVING HAND SIGN}, \\N{EARTH GLOBE ASIA-AUSTRALIA}!\")"
   ]
  },
  {
   "cell_type": "markdown",
   "metadata": {
    "#student": false
   },
   "source": [
    "In order to finish the setup for this notebook, run the following cell:"
   ]
  },
  {
   "cell_type": "code",
   "execution_count": null,
   "metadata": {
    "#student": false,
    "collapsed": true
   },
   "outputs": [],
   "source": [
    "import matplotlib.pyplot as plt\n",
    "import numpy as np\n",
    "import pandas as pd\n",
    "from scripts.espm_module import *\n",
    "import json\n",
    "from IPython.core.display import display, HTML\n",
    "plt.style.use('seaborn')\n",
    "%matplotlib inline"
   ]
  },
  {
   "cell_type": "markdown",
   "metadata": {
    "#student": false
   },
   "source": [
    "# Part 1: Python basics <a id='python'></a>\n",
    "Before getting into the more high level analyses we will do on the GBIF and Cal-Adapt data, we need to cover a few of the foundational elements of programming in Python.\n",
    "\n",
    "#### A. Expressions\n",
    "The departure point for all programming is the concept of the __expression__. An expression is a combination of variables, operators, and other Python elements that the language interprets and acts upon. Expressions act as a set of instructions to be fed through the interpreter, with the goal of generating specific outcomes. See below for some examples of basic expressions. Keep in mind that most of these just map to your understanding of mathematical expressions:"
   ]
  },
  {
   "cell_type": "code",
   "execution_count": null,
   "metadata": {
    "#student": false
   },
   "outputs": [],
   "source": [
    "2 + 2\n",
    "\n",
    "'me' + ' and I'\n",
    "\n",
    "12 ** 2\n",
    "\n",
    "6 + 4"
   ]
  },
  {
   "cell_type": "markdown",
   "metadata": {
    "#student": false
   },
   "source": [
    "You will notice that only the last line in a cell gets printed out. If you want to see the values of previous expressions, you need to call the `print` function on that expression. Functions use parenthesis around their parameters, just like in math!"
   ]
  },
  {
   "cell_type": "code",
   "execution_count": null,
   "metadata": {
    "#student": false
   },
   "outputs": [],
   "source": [
    "print(2 + 2)\n",
    "\n",
    "print('you' + ' and I')\n",
    "\n",
    "print(12 ** 2)\n",
    "\n",
    "print(6 + 4)"
   ]
  },
  {
   "cell_type": "markdown",
   "metadata": {
    "#student": false
   },
   "source": [
    "#### B. Variables\n",
    "In the example below, `a` and `b` are Python objects known as __variables__. We are giving an object (in this case, an `integer` and a `float`, two Python data types) a name that we can store for later use. To use that value, we can simply type the name that we stored the value as. Variables are stored within the notebook's environment, meaning stored variable values carry over from cell to cell."
   ]
  },
  {
   "cell_type": "code",
   "execution_count": null,
   "metadata": {
    "#student": false,
    "collapsed": true
   },
   "outputs": [],
   "source": [
    "a = 4\n",
    "b = 10/5"
   ]
  },
  {
   "cell_type": "markdown",
   "metadata": {
    "#student": false
   },
   "source": [
    "Notice that when you create a variable, unlike what you previously saw with the expressions, it does not print anything out.\n",
    "\n",
    "We can continue to perform mathematical operations on these variables, which are now placeholders for what we've assigned:"
   ]
  },
  {
   "cell_type": "code",
   "execution_count": null,
   "metadata": {
    "#student": false
   },
   "outputs": [],
   "source": [
    "print(a + b)"
   ]
  },
  {
   "cell_type": "markdown",
   "metadata": {
    "#student": false
   },
   "source": [
    "#### C. Lists\n",
    "The following few cells will introduce the concept of __lists__.\n",
    "\n",
    "A list is an ordered collection of objects. They allow us to store and access groups of variables and other objects for easy access and analysis. Check out this [documentation](https://www.tutorialspoint.com/python/python_lists.htm) for an in-depth look at the capabilities of lists.\n",
    "\n",
    "To initialize a list, you use brackets. Putting objects separated by commas in between the brackets will add them to the list. "
   ]
  },
  {
   "cell_type": "code",
   "execution_count": null,
   "metadata": {
    "#student": false
   },
   "outputs": [],
   "source": [
    "# an empty list\n",
    "lst = []\n",
    "print(lst)\n",
    "\n",
    "# reassigning our empty list to a new list\n",
    "lst = [1, 3, 6, 'lists', 'are' 'fun', 4]\n",
    "print(lst)"
   ]
  },
  {
   "cell_type": "markdown",
   "metadata": {
    "#student": false
   },
   "source": [
    "To access a value in the list, put the index of the item you wish to access in brackets following the variable that stores the list. Lists in Python are zero-indexed, so the indicies for `lst` are 0, 1, 2, 3, 4, 5, and 6."
   ]
  },
  {
   "cell_type": "code",
   "execution_count": null,
   "metadata": {
    "#student": false
   },
   "outputs": [],
   "source": [
    "# Elements are selected like this:\n",
    "example = lst[2]\n",
    "\n",
    "# The above line selects the 3rd element of lst (list indices are 0-offset) and sets it to a variable named example.\n",
    "print(example)"
   ]
  },
  {
   "cell_type": "markdown",
   "metadata": {
    "#student": false
   },
   "source": [
    "#### D. Dictionaries\n",
    "\n",
    "Dictionaries are `key`-`value` pairs. Just like a word dictinary, you have a key that will index a specific definition."
   ]
  },
  {
   "cell_type": "code",
   "execution_count": null,
   "metadata": {
    "#student": false,
    "collapsed": true
   },
   "outputs": [],
   "source": [
    "my_dict = {'python': 'a large heavy-bodied nonvenomous constrictor snake occurring throughout the Old World tropics.'}"
   ]
  },
  {
   "cell_type": "markdown",
   "metadata": {
    "#student": false
   },
   "source": [
    "We can get a `value` back out by indexing the `key`:"
   ]
  },
  {
   "cell_type": "code",
   "execution_count": null,
   "metadata": {
    "#student": false
   },
   "outputs": [],
   "source": [
    "my_dict['python']"
   ]
  },
  {
   "cell_type": "markdown",
   "metadata": {
    "#student": false
   },
   "source": [
    "But like real dictionaries, there can be more than one definition. You can keep a `list`, or even another dictionary within a specific `key`:"
   ]
  },
  {
   "cell_type": "code",
   "execution_count": null,
   "metadata": {
    "#student": false,
    "collapsed": true
   },
   "outputs": [],
   "source": [
    "my_dict = {'python': ['a large heavy-bodied nonvenomous constrictor snake occurring throughout the Old World tropics.',\n",
    "                      'a high-level general-purpose programming language.']}"
   ]
  },
  {
   "cell_type": "markdown",
   "metadata": {
    "#student": false
   },
   "source": [
    "We can index the `list` after the `key`:"
   ]
  },
  {
   "cell_type": "code",
   "execution_count": null,
   "metadata": {
    "#student": false
   },
   "outputs": [],
   "source": [
    "my_dict['python'][0]"
   ]
  },
  {
   "cell_type": "code",
   "execution_count": null,
   "metadata": {
    "#student": false
   },
   "outputs": [],
   "source": [
    "my_dict['python'][1]"
   ]
  },
  {
   "cell_type": "markdown",
   "metadata": {
    "#student": false
   },
   "source": [
    "---\n",
    "\n",
    "# Part 2: GBIF API<a id='gbif'></a>\n",
    "\n",
    "Click on the [link](http://www.gbif.org/) to the GBIF website to discover what GBIF can do!\n",
    "\n",
    "<div class=\"alert alert-block alert-warning\">\n",
    "    <b>QUESTION 1:</b> What does GBIF stand for and who is it coordinated by?\n",
    "</div>"
   ]
  },
  {
   "cell_type": "markdown",
   "metadata": {
    "#student": true
   },
   "source": [
    "\n",
    "YOUR RESPONSE HERE"
   ]
  },
  {
   "cell_type": "markdown",
   "metadata": {
    "#student": false
   },
   "source": [
    "The Global Biodiversity Information Facility has created an API that we can use to get data about different species at the [GBIF Web API](http://www.gbif.org/developer/summary).\n",
    "\n",
    "You can think of a Web API call as a fancy URL. What do you think the end of this URL means?\n",
    "\n",
    "http://api.gbif.org/v1/occurrence/search?year=1800,1899\n",
    "\n",
    "If you're guessing that it limits the search to the years 1800-1899, you're right! Go ahead and click the URL above. You should see something like this:\n",
    "\n",
    "```\n",
    "{\"offset\":0,\"limit\":20,\"endOfRecords\":false,\"count\":5711947,\"results\":[{\"key\":14339704,\"datasetKey\":\"857aa892-f762-11e1-a439-00145eb45e9a\",\"publishingOrgKey\":\"6bcc0290-6e76-11db-bcd5-b8a03c50a862\",\"publishingCountry\":\"FR\",\"protocol\":\"BIOCASE\",\"lastCrawled\":\"2013-09-07T07:06:34.000+0000\",\"crawlId\":1,\"extensions\":{},\"basisOfRecord\":\"OBSERVATION\",\"taxonKey\":2809968,\"kingdomKey\":6,\"phylumKey\":7707728,\"classKey\":196,\"orderKey\":1169,\"familyKey\":7689,\"genusKey\":2849312,\"speciesKey\":2809968,\"scientificName\":\"Orchis militaris L.\",\"kingdom\":\"Plantae\",\"phylum\":\"Tracheophyta\",\"order\":\"Asparagales\",\"family\":\"Orchidaceae\",\"genus\":\"Orchis\",\"species\":\"Orchis \n",
    "```\n",
    "\n",
    "It might look like a mess, but it's not! This is actually very structured data, and can easily be put into a table like format, though often programmers don't do this because it's just as easy to keep it as is.\n",
    "\n",
    "You might be able to pick out the curly braces `{` and think this it's a dictionary. You'd be right, except in this format we call it [JSON](https://en.wikipedia.org/wiki/JSON).\n",
    "\n",
    "---\n",
    "\n",
    "## *Argia arioides*\n",
    "\n",
    "![argia arioides](https://upload.wikimedia.org/wikipedia/commons/thumb/b/bd/Argia_agrioides-Male-1.jpg/220px-Argia_agrioides-Male-1.jpg)\n",
    "\n",
    "When performing data analysis, it is always important to define a question that you seek the answer to. *The goal of finding the answer to this question will ultimately drive the queries and analysis styles you choose to use/write.*\n",
    "\n",
    "For this example, we are going to ask: **where have [*Argia agrioides*](https://www.google.com/search?q=Argia+agrioides&rlz=1C1CHBF_enUS734US734&source=lnms&tbm=isch&sa=X&ved=0ahUKEwji9t29kNTWAhVBymMKHWJ-ANcQ_AUICygC&biw=1536&bih=694) (the California Dancer dragonfly) been documented? Are there records at any of our field stations?**\n",
    "\n",
    "The code to ask the API has already been written for us! This is often the case with programming, someone has already written the code, so we don't have to. We'll just set up the `GBIFRequest` object and assign that to the variable `req`, short for \"request\":"
   ]
  },
  {
   "cell_type": "code",
   "execution_count": null,
   "metadata": {
    "#student": false,
    "collapsed": true
   },
   "outputs": [],
   "source": [
    "req = GBIFRequest()  # creating a request to the API"
   ]
  },
  {
   "cell_type": "markdown",
   "metadata": {
    "#student": false
   },
   "source": [
    "Great, so how do we make searches? We can use a Python `dictionary` to create our query parameters. We'll ask for the `scientificName` of the California Dancer (*Argia arioides*):"
   ]
  },
  {
   "cell_type": "code",
   "execution_count": null,
   "metadata": {
    "#student": false,
    "collapsed": true
   },
   "outputs": [],
   "source": [
    "params = {'scientificName': 'Argia agrioides'}  # setting our parameters (the specific species we want)"
   ]
  },
  {
   "cell_type": "markdown",
   "metadata": {
    "#student": false
   },
   "source": [
    "Now that we have the parameters, we can feed this to our `req` variable to get back all the pages of data. We'll then make sure that each record has a `decimalLatitude`, otherwise we'll thow it out for now. Lastly, we'll print out the first five records:"
   ]
  },
  {
   "cell_type": "code",
   "execution_count": null,
   "metadata": {
    "#student": false,
    "scrolled": true
   },
   "outputs": [],
   "source": [
    "params = {'scientificName': 'Argia agrioides'}  # setting our parameters (the specific species we want)\n",
    "pages = req.get_pages(params)  # using those parameters to complete the request\n",
    "records = [rec for page in pages for rec in page['results'] if rec.get('decimalLatitude')]  # sift out valid records\n",
    "records[:5]  # print first 5 records"
   ]
  },
  {
   "cell_type": "markdown",
   "metadata": {
    "#student": false
   },
   "source": [
    "<div class=\"alert alert-block alert-warning\">\n",
    "<b>QUESTION 2</b> Why might it be useful to know the documented occurences of a species? Name one organization which would find this information useful.\n",
    "</div>"
   ]
  },
  {
   "cell_type": "markdown",
   "metadata": {
    "#student": true
   },
   "source": [
    "\n",
    "YOUR RESPONSE HERE"
   ]
  },
  {
   "cell_type": "markdown",
   "metadata": {
    "#student": false
   },
   "source": [
    "<div class=\"alert alert-block alert-warning\">\n",
    "    <b>QUESTION 3:</b> What is the <i>geographic range</i> of an organism\n",
    "</div>"
   ]
  },
  {
   "cell_type": "markdown",
   "metadata": {
    "#student": true
   },
   "source": [
    "\n",
    "YOUR RESPONSE HERE"
   ]
  },
  {
   "cell_type": "markdown",
   "metadata": {
    "#student": false
   },
   "source": [
    "<div class=\"alert alert-block alert-warning\">\n",
    "<b>QUESTION 4:</b> How do museum records help us to understand how populations are changing?\n",
    "</div>"
   ]
  },
  {
   "cell_type": "markdown",
   "metadata": {
    "#student": true
   },
   "source": [
    "\n",
    "YOUR RESPONSE HERE"
   ]
  },
  {
   "cell_type": "markdown",
   "metadata": {
    "#student": false
   },
   "source": [
    "### DataFrames\n",
    "\n",
    "JSON is great, but it might be conceptually easier to make this a table. We'll use the popular [`pandas`](http://pandas.pydata.org/) Python library. In `pandas`, a DataFrame is a table that has several convenient features. For example, we can access the columns of the table like we would `dict`ionaries, and we can also treat the columns and rows themselves as Python `list`s."
   ]
  },
  {
   "cell_type": "code",
   "execution_count": null,
   "metadata": {
    "#student": false
   },
   "outputs": [],
   "source": [
    "records_df = pd.read_json(json.dumps(records))  # converts the JSON above to a dataframe\n",
    "records_df.head()  # prints the first five rows of the dataframe"
   ]
  },
  {
   "cell_type": "markdown",
   "metadata": {
    "#student": false
   },
   "source": [
    "Since each column (or row) above can be thought of as a `list`, that means we can use list functions to interact with them! One such function is the `len` function to get the number of elements in a `list`:"
   ]
  },
  {
   "cell_type": "code",
   "execution_count": null,
   "metadata": {
    "#student": false
   },
   "outputs": [],
   "source": [
    "len(records_df.columns), len(records_df)"
   ]
  },
  {
   "cell_type": "markdown",
   "metadata": {
    "#student": false
   },
   "source": [
    "So we have 115 columns and 301 rows! That's a lot of information. What variables do we have in the columns?"
   ]
  },
  {
   "cell_type": "code",
   "execution_count": null,
   "metadata": {
    "#student": false
   },
   "outputs": [],
   "source": [
    "records_df.columns"
   ]
  },
  {
   "cell_type": "markdown",
   "metadata": {
    "#student": false
   },
   "source": [
    "We can use two methods from `pandas` to do a lot more. The `value_counts()` method will tabulate the frequency of the row value in a column, and the `plot.barh()` will plot us a horizontal bar chart:"
   ]
  },
  {
   "cell_type": "code",
   "execution_count": null,
   "metadata": {
    "#student": false
   },
   "outputs": [],
   "source": [
    "records_df['country'].value_counts()"
   ]
  },
  {
   "cell_type": "code",
   "execution_count": null,
   "metadata": {
    "#student": false
   },
   "outputs": [],
   "source": [
    "records_df['country'].value_counts().plot.barh();"
   ]
  },
  {
   "cell_type": "code",
   "execution_count": null,
   "metadata": {
    "#student": false
   },
   "outputs": [],
   "source": [
    "records_df['county'].value_counts().plot.barh();"
   ]
  },
  {
   "cell_type": "markdown",
   "metadata": {
    "#student": false
   },
   "source": [
    "<div class=\"alert alert-block alert-warning\">\n",
    "    <b>QUESTION 5:</b> How many counties have only one record of <i>Argia agrioides</i>? \n",
    "</div>"
   ]
  },
  {
   "cell_type": "markdown",
   "metadata": {
    "#student": true
   },
   "source": [
    "\n",
    "YOUR RESPONSE HERE"
   ]
  },
  {
   "cell_type": "markdown",
   "metadata": {
    "#student": false
   },
   "source": [
    "<div class=\"alert alert-block alert-warning\">\n",
    "<b>QUESTION 6:</b> Stanislaus County has the highest record of <i>Argia agrioides</i>. Other than high abundance in this county, why else might there be a high number of records here?\n",
    "</div>"
   ]
  },
  {
   "cell_type": "markdown",
   "metadata": {
    "#student": true
   },
   "source": [
    "\n",
    "YOUR RESPONSE HERE"
   ]
  },
  {
   "cell_type": "code",
   "execution_count": null,
   "metadata": {
    "#student": false
   },
   "outputs": [],
   "source": [
    "records_df['basisOfRecord'].value_counts().plot.barh();"
   ]
  },
  {
   "cell_type": "markdown",
   "metadata": {
    "#student": false
   },
   "source": [
    "<div class=\"alert alert-block alert-warning\">\n",
    "<b>QUESTION 7:</b> What are some cautions that should be taken when including human observations? What are the benefits? \n",
    "</div>"
   ]
  },
  {
   "cell_type": "markdown",
   "metadata": {
    "#student": true
   },
   "source": [
    "\n",
    "YOUR RESPONSE HERE"
   ]
  },
  {
   "cell_type": "code",
   "execution_count": null,
   "metadata": {
    "#student": false
   },
   "outputs": [],
   "source": [
    "records_df['collectionCode'].value_counts().plot.barh();"
   ]
  },
  {
   "cell_type": "markdown",
   "metadata": {
    "#student": false
   },
   "source": [
    "<div class=\"alert alert-block alert-warning\">\n",
    "<b>QUESTION 8:</b> Each museum has a unique institution code (called a collection code). How many records belong to the Essig Museum of Entomology Collection?\n",
    "</div>"
   ]
  },
  {
   "cell_type": "markdown",
   "metadata": {
    "#student": true
   },
   "source": [
    "\n",
    "YOUR RESPONSE HERE"
   ]
  },
  {
   "cell_type": "markdown",
   "metadata": {
    "#student": false
   },
   "source": [
    "The `groupby()` method allows us to count based one column based on another, and then color the bar chart differently depending on a variable of our choice:"
   ]
  },
  {
   "cell_type": "code",
   "execution_count": null,
   "metadata": {
    "#student": false
   },
   "outputs": [],
   "source": [
    "records_df.groupby([\"collectionCode\", \"basisOfRecord\"])['basisOfRecord'].count();"
   ]
  },
  {
   "cell_type": "code",
   "execution_count": null,
   "metadata": {
    "#student": false
   },
   "outputs": [],
   "source": [
    "records_df.groupby([\"collectionCode\", \"basisOfRecord\"])['basisOfRecord'].count().unstack().plot.barh(stacked=True);"
   ]
  },
  {
   "cell_type": "markdown",
   "metadata": {
    "#student": false
   },
   "source": [
    "And we can use `plot.hist()` to make a histogram:"
   ]
  },
  {
   "cell_type": "code",
   "execution_count": null,
   "metadata": {
    "#student": false
   },
   "outputs": [],
   "source": [
    "records_df['elevation'].plot.hist();"
   ]
  },
  {
   "cell_type": "markdown",
   "metadata": {
    "#student": false
   },
   "source": [
    "<div class=\"alert alert-block alert-warning\">\n",
    "<b>QUESTION 9:</b> What does plotting the elevation indicate about the distribution of <i>Argia agrioides</i>? Can you infer anything about the biology of the organism from this information?\n",
    "</div>"
   ]
  },
  {
   "cell_type": "markdown",
   "metadata": {
    "#student": true
   },
   "source": [
    "\n",
    "YOUR RESPONSE HERE"
   ]
  },
  {
   "cell_type": "markdown",
   "metadata": {
    "#student": false
   },
   "source": [
    "---\n",
    "\n",
    "<div class=\"alert alert-block alert-info\">\n",
    "<b>EXERCISE:</b> Edit the code below to search for a different species you're interested in, then use  the graphing cells below to explore your data!\n",
    "</div>"
   ]
  },
  {
   "cell_type": "code",
   "execution_count": null,
   "metadata": {
    "#student": false
   },
   "outputs": [],
   "source": [
    "my_req = GBIFRequest()  # creating a request to the API\n",
    "my_params = {'scientificName': ...}  # setting our parameters (the specific species we want)\n",
    "my_pages = my_req.get_pages(my_params)  # using those parameters to complete the request\n",
    "my_records = [rec for page in my_pages for rec in page['results'] if rec.get('decimalLatitude')]  # sift out valid records\n",
    "my_records_df = pd.read_json(json.dumps(my_records))  # make a dataframe\n",
    "my_records_df.head()  # print first 5 rows"
   ]
  },
  {
   "cell_type": "code",
   "execution_count": null,
   "metadata": {
    "#student": false
   },
   "outputs": [],
   "source": [
    "my_records_df['year'].plot.hist();"
   ]
  },
  {
   "cell_type": "code",
   "execution_count": null,
   "metadata": {
    "#student": false
   },
   "outputs": [],
   "source": [
    "my_records_df['county'].value_counts().plot.barh();"
   ]
  },
  {
   "cell_type": "markdown",
   "metadata": {
    "#student": false
   },
   "source": [
    "<div class=\"alert alert-block alert-warning\">\n",
    "<b>QUESTION 10:</b> What county has the highest number records?\n",
    "</div>"
   ]
  },
  {
   "cell_type": "markdown",
   "metadata": {
    "#student": true
   },
   "source": [
    "\n",
    "YOUR RESPONSE HERE"
   ]
  },
  {
   "cell_type": "code",
   "execution_count": null,
   "metadata": {
    "#student": false
   },
   "outputs": [],
   "source": [
    "my_records_df['elevation'].plot.hist();"
   ]
  },
  {
   "cell_type": "markdown",
   "metadata": {
    "#student": false
   },
   "source": [
    "<div class=\"alert alert-block alert-warning\">\n",
    "<b>QUESTION 11:</b> What is the elevation range of your organism?\n",
    "</div>"
   ]
  },
  {
   "cell_type": "markdown",
   "metadata": {
    "#student": true
   },
   "source": [
    "\n",
    "YOUR RESPONSE HERE"
   ]
  },
  {
   "cell_type": "code",
   "execution_count": null,
   "metadata": {
    "#student": false
   },
   "outputs": [],
   "source": [
    "my_records_df['basisOfRecord'].value_counts().plot.barh();"
   ]
  },
  {
   "cell_type": "markdown",
   "metadata": {
    "#student": false
   },
   "source": [
    "<div class=\"alert alert-block alert-warning\">\n",
    "<b>QUESTION 12:</b> Which has more: observations or preserved specimens? Why might this be?\n",
    "</div>"
   ]
  },
  {
   "cell_type": "markdown",
   "metadata": {
    "#student": true
   },
   "source": [
    "\n",
    "YOUR RESPONSE HERE"
   ]
  },
  {
   "cell_type": "markdown",
   "metadata": {
    "#student": false
   },
   "source": [
    "---\n",
    "\n",
    "You are finished with this notebook! Please run the following cell to generate a download link for your submission file.\n",
    "\n",
    "If the download link does not work, open a new tab and go to https://datahub.berkeley.edu, click the box next to `notebook1_submission.pdf`, then click the \"Download\" link below the menu bar."
   ]
  },
  {
   "cell_type": "code",
   "execution_count": null,
   "metadata": {
    "#student": false,
    "collapsed": true
   },
   "outputs": [],
   "source": [
    "!pip install gsexport -q\n",
    "import gsExport\n",
    "gsExport.generateSubmission(\"notebook1.ipynb\")"
   ]
  },
  {
   "cell_type": "markdown",
   "metadata": {
    "#student": false
   },
   "source": [
    "---\n",
    "\n",
    "Notebook developed by: Michelle Koo, Nina Pak, Natalie Graham, Monica Wilkinson\n",
    "\n",
    "[Data Science Modules](http://data.berkeley.edu/education/modules)"
   ]
  }
 ],
 "metadata": {
  "anaconda-cloud": {},
  "checksums": [
   "1eb36c1e0fe6d10f00727260c224fd63",
   "3dcb190386ffe7bf65e2b1a4b5b5b229",
   "cc029a5ef0f58a28f7561088179662b1",
   "44bacf57cd16e64ac83554bb75a62208",
   "9ac6aca79683d3b735595a945aac7aac",
   "50bdea8623c3a9d599358244fee3de6f",
   "047d77a7fdec55cf903fe9936b4e25ae",
   "c8cb0616edfae6649ba4c43e5a4b23bd",
   "4a9705962836d02eb5dc91a40d33562a",
   "52fe40f96c4b7d0951e7e88a8a17593f",
   "6b37da965821a111a019d0f71c3ff994",
   "fdf4dc02203a065568d46ee8a429124b",
   "729b2fd269628bf194226ba3dccee595",
   "f937888014d36a74142c3d7682499cb3",
   "4d7a3b0dde85307907966ad910c22396",
   "dbe869a77a85312dfc1a3ad454354578",
   "1d0a4d61abf319ae8b1f1ef360c7c58c",
   "ba730ba02fc5c68543d976ee47379cbe",
   "e086c485bbb099eda10e1d99eb7d8083",
   "332d3f597a87a41d058e1d2785b2c758",
   "69c599522ddcc3620bdd0712a77699b4",
   "2163ff6a1ea6f9ba80fbd31aff5becdf",
   "071ad810c297bc347f0bef6a11e27645",
   "2e0fb5c8ed2a2eb6be58427f36e5a182",
   "45cd11d379598a149a2bd1c7815bf63d",
   "5f29e02df5c115ab3907ca7af0977021",
   "7f8ad0ed026bca18ab0e6cf8aed43267",
   "074e418aa7b0b48fd40424c87f9df310",
   "d1bd61960db7a42b42aeb8678ff53e91",
   "4f40d0f3a9a24754b8b38a96f288802c",
   "8cc91fe81f4e9ec93995a06ec59975e2",
   "6d8e27ae0ecd7510d7a8d01731ca4abe",
   "97d5532797deaacfefcd5528578a5945",
   "42a7929bf149d872294acb1d7178dd50",
   "4f12e14afce35e0f745055018e05808b",
   "8708ed288b363c38a000dabc59c820b2",
   "abafef6b1d45bb022c4465448a926ab9",
   "daed95495ea130bfb8ddce5eb6a85370",
   "8cc91fe81f4e9ec93995a06ec59975e2",
   "e7d0968ad40b5ab954a7853d6bda5ba7",
   "8cc91fe81f4e9ec93995a06ec59975e2",
   "8a7ffb1b7b0104de6a209ef28e1d0713",
   "8cc91fe81f4e9ec93995a06ec59975e2",
   "2179d5a2e96f4a9b0f7e1e6462aa488d",
   "e0a8f100b63d9b37e9981fe18b683c58",
   "db95816068de6defc4bb609ed40b0d94",
   "d85e9df4222fa39bc52e5b0def5a29d0",
   "268909c9bf5dfb9a6363f4f4041af17a",
   "eabe9a19e53ae735c3b5c4d629c447e0",
   "cc17c584a30717781c9410a825b07c6d",
   "67186a93b7a3ab0616e9ef239cd509c8",
   "db5c8d6ed19b848053c8e1dc43b08a23",
   "aba338a6d0fd23248cc994856f78f724",
   "91636c1d07cd0db4b0355bc6786ce46e",
   "8cc91fe81f4e9ec93995a06ec59975e2",
   "1ec6c506e3cd0027e5e8e2fc83e66052",
   "8cc91fe81f4e9ec93995a06ec59975e2",
   "c3dbd65431b7901c40c0b70cccb86904",
   "4c9b7d764047dcca065e541a6eea59dd",
   "8cc91fe81f4e9ec93995a06ec59975e2",
   "cc85f1b02f4c3ca39bec803653e88acf",
   "c6a4bc5f5031e7514117f9bb85ee5458",
   "8cc91fe81f4e9ec93995a06ec59975e2",
   "687e08ca21d64f412effaaf2cb968246",
   "df45ca44f6061b1ec345708351a819f7",
   "13bd081a224122a52edc5a75b8822fa4",
   "721376a4a23be7062948139a597e8154",
   "d5f5c5e187a3ee3c3df8536ca309945a",
   "f5e06e97dab7727280193d108063918c",
   "8cc91fe81f4e9ec93995a06ec59975e2",
   "518310039f63d45ddf695dc6afd67f6b",
   "ae3a04ca40fef83f29a10f69b272c84f",
   "0842da36091036eab4e5fd21e90712e4",
   "3e30d5cf7d42acd4ac90558d533fb502",
   "7e3ce341bd9bcdd8d0639f53b4d6ac42",
   "8cc91fe81f4e9ec93995a06ec59975e2",
   "009fa5fb052636407453da819e3fff3f",
   "fb8e37283e47d0b72c664cbd7e9f6428",
   "8cc91fe81f4e9ec93995a06ec59975e2",
   "c6d80b2700a57e506c692a365f9a1707",
   "6af74c7bf7d980b5595971932c463c0f",
   "8cc91fe81f4e9ec93995a06ec59975e2",
   "6fbafc2704f9174d685fda5e7241448c",
   "f0df37175da9072396c2f16ac3dd6a46",
   "a8fd83430b8ece7eb7dc9722f76340d2"
  ],
  "kernelspec": {
   "display_name": "Python 3",
   "language": "python",
   "name": "python3"
  },
  "language_info": {
   "codemirror_mode": {
    "name": "ipython",
    "version": 3
   },
   "file_extension": ".py",
   "mimetype": "text/x-python",
   "name": "python",
   "nbconvert_exporter": "python",
   "pygments_lexer": "ipython3",
   "version": "3.6.8"
  },
  "number_of_pagebreaks": 0
 },
 "nbformat": 4,
 "nbformat_minor": 1
}
