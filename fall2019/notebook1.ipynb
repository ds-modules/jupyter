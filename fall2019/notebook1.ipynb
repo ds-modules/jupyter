{
 "cells": [
  {
   "cell_type": "markdown",
   "metadata": {
    "#student": false
   },
   "source": [
    "# Biogeography Notebook 1\n",
    "\n",
    "The goal of this notebook is to access and integrate diverse data sets to visualize correlations and discover patterns to address questions of species’ responses to environmental change. We will use programmatic tools to show how to use Berkeley resources such as the biodiversity data from biocollections and online databases, field stations, climate models, and other environmental data. If you have any questions getting the Jupyter notebook to run, try dropping into [data peer consulting](https://data.berkeley.edu/education/data-peer-consulting).\n",
    "\n",
    "Before we begin analyzing and visualizing biodiversity data, this introductory notebook will help familiarize you with the basics of programming in Python.\n",
    "\n",
    "## Table of Contents\n",
    "\n",
    "Please complete sections 0 and 1 before coming to class.\n",
    "\n",
    "0 - [Jupyter Notebooks](#jupyter)\n",
    "    \n",
    "1 - [Python Basics](#python)\n",
    "\n",
    "2 - [GBIF API](#gbif)\n"
   ]
  },
  {
   "cell_type": "markdown",
   "metadata": {
    "#student": false
   },
   "source": [
    "# Part 0: Our Computing Environment, Jupyter notebooks  <a id='jupyter'></a>\n",
    "This webpage is called a Jupyter notebook. A notebook is a place to write programs and view their results. \n",
    "\n",
    "### Text cells\n",
    "In a notebook, each rectangle containing text or code is called a *cell*.\n",
    "\n",
    "Text cells (like this one) can be edited by double-clicking on them. They're written in a simple format called [Markdown](http://daringfireball.net/projects/markdown/syntax) to add formatting and section headings.  You don't need to learn Markdown, but you might want to.\n",
    "\n",
    "After you edit a text cell, click the \"run cell\" button at the top that looks like ▶| to confirm any changes. You can also hold `shift` and then press `enter` or `return`. (Try not to delete the instructions of the lab.)"
   ]
  },
  {
   "cell_type": "markdown",
   "metadata": {
    "#student": false
   },
   "source": [
    "### Code cells\n",
    "Other cells contain code in the Python 3 language. Running a code cell will execute all of the code it contains.\n",
    "\n",
    "To run the code in a code cell, first click on that cell to activate it.  It'll be highlighted with a little green or blue rectangle.  Next, either press ▶| or hold down the `shift` key and press `return` or `enter`.\n",
    "\n",
    "Try running this cell:"
   ]
  },
  {
   "cell_type": "code",
   "execution_count": null,
   "metadata": {
    "#student": false
   },
   "outputs": [],
   "source": [
    "print(\"Hello, World!\")"
   ]
  },
  {
   "cell_type": "markdown",
   "metadata": {
    "#student": false
   },
   "source": [
    "And this one:"
   ]
  },
  {
   "cell_type": "code",
   "execution_count": null,
   "metadata": {
    "#student": false
   },
   "outputs": [],
   "source": [
    "print(\"\\N{WAVING HAND SIGN}, \\N{EARTH GLOBE ASIA-AUSTRALIA}!\")"
   ]
  },
  {
   "cell_type": "markdown",
   "metadata": {
    "#student": false
   },
   "source": [
    "In order to finish the setup for this notebook, run the following cell:"
   ]
  },
  {
   "cell_type": "code",
   "execution_count": null,
   "metadata": {
    "#student": false
   },
   "outputs": [],
   "source": [
    "import matplotlib.pyplot as plt\n",
    "import numpy as np\n",
    "import pandas as pd\n",
    "from scripts.espm_module import *\n",
    "import json\n",
    "from IPython.core.display import display, HTML\n",
    "plt.style.use('seaborn')\n",
    "%matplotlib inline"
   ]
  },
  {
   "cell_type": "markdown",
   "metadata": {
    "#student": false
   },
   "source": [
    "# Part 1: Python basics <a id='python'></a>\n",
    "Before getting into the more high level analyses we will do on the GBIF and Cal-Adapt data, we need to cover a few of the foundational elements of programming in Python.\n",
    "\n",
    "#### A. Expressions\n",
    "The departure point for all programming is the concept of the __expression__. An expression is a combination of variables, operators, and other Python elements that the language interprets and acts upon. Expressions act as a set of instructions to be fed through the interpreter, with the goal of generating specific outcomes. See below for some examples of basic expressions. Keep in mind that most of these just map to your understanding of mathematical expressions:"
   ]
  },
  {
   "cell_type": "code",
   "execution_count": null,
   "metadata": {
    "#student": false
   },
   "outputs": [],
   "source": [
    "2 + 2\n",
    "\n",
    "'me' + ' and I'\n",
    "\n",
    "12 ** 2\n",
    "\n",
    "6 + 4"
   ]
  },
  {
   "cell_type": "markdown",
   "metadata": {
    "#student": false
   },
   "source": [
    "You will notice that only the last line in a cell gets printed out. If you want to see the values of previous expressions, you need to call the `print` function on that expression. Functions use parenthesis around their parameters, just like in math!"
   ]
  },
  {
   "cell_type": "code",
   "execution_count": null,
   "metadata": {
    "#student": false
   },
   "outputs": [],
   "source": [
    "print(2 + 2)\n",
    "\n",
    "print('you' + ' and I')\n",
    "\n",
    "print(12 ** 2)\n",
    "\n",
    "print(6 + 4)"
   ]
  },
  {
   "cell_type": "markdown",
   "metadata": {
    "#student": false
   },
   "source": [
    "#### B. Variables\n",
    "In the example below, `a` and `b` are Python objects known as __variables__. We are giving an object (in this case, an `integer` and a `float`, two Python data types) a name that we can store for later use. To use that value, we can simply type the name that we stored the value as. Variables are stored within the notebook's environment, meaning stored variable values carry over from cell to cell."
   ]
  },
  {
   "cell_type": "code",
   "execution_count": null,
   "metadata": {
    "#student": false
   },
   "outputs": [],
   "source": [
    "a = 4\n",
    "b = 10/5"
   ]
  },
  {
   "cell_type": "markdown",
   "metadata": {
    "#student": false
   },
   "source": [
    "Notice that when you create a variable, unlike what you previously saw with the expressions, it does not print anything out.\n",
    "\n",
    "We can continue to perform mathematical operations on these variables, which are now placeholders for what we've assigned:"
   ]
  },
  {
   "cell_type": "code",
   "execution_count": null,
   "metadata": {
    "#student": false
   },
   "outputs": [],
   "source": [
    "print(a + b)"
   ]
  },
  {
   "cell_type": "markdown",
   "metadata": {
    "#student": false
   },
   "source": [
    "#### C. Lists\n",
    "The following few cells will introduce the concept of __lists__.\n",
    "\n",
    "A list is an ordered collection of objects. They allow us to store and access groups of variables and other objects for easy access and analysis. Check out this [documentation](https://www.tutorialspoint.com/python/python_lists.htm) for an in-depth look at the capabilities of lists.\n",
    "\n",
    "To initialize a list, you use brackets. Putting objects separated by commas in between the brackets will add them to the list. \n",
    "\n",
    "We use `lst` as the variable name because `list` is a reserved keyword in Python (meaning it has special functionality and shouldn't be used as a variable name)."
   ]
  },
  {
   "cell_type": "code",
   "execution_count": null,
   "metadata": {
    "#student": false
   },
   "outputs": [],
   "source": [
    "# an empty list\n",
    "lst = []\n",
    "print(lst)\n",
    "\n",
    "# reassigning our empty list to a new list\n",
    "lst = [1, 3, 6, 'lists', 'are' 'fun', 4]\n",
    "print(lst)"
   ]
  },
  {
   "cell_type": "markdown",
   "metadata": {
    "#student": false
   },
   "source": [
    "To access a value in the list, put the index of the item you wish to access in brackets following the variable that stores the list. Lists in Python are zero-indexed, so the indicies for `lst` are 0, 1, 2, 3, 4, 5, and 6."
   ]
  },
  {
   "cell_type": "code",
   "execution_count": null,
   "metadata": {
    "#student": false
   },
   "outputs": [],
   "source": [
    "# Elements are selected like this:\n",
    "example = lst[2]\n",
    "\n",
    "# The above line selects the 3rd element of lst (list indices are 0-offset) and sets it to a variable named example.\n",
    "print(example)"
   ]
  },
  {
   "cell_type": "markdown",
   "metadata": {
    "#student": false
   },
   "source": [
    "#### D. Dictionaries\n",
    "\n",
    "Dictionaries are `key`-`value` pairs. Just like a word dictinary, you have a key that will index a specific definition."
   ]
  },
  {
   "cell_type": "code",
   "execution_count": null,
   "metadata": {
    "#student": false
   },
   "outputs": [],
   "source": [
    "my_dict = {'python': 'a large heavy-bodied nonvenomous constrictor snake occurring throughout the Old World tropics.'}"
   ]
  },
  {
   "cell_type": "markdown",
   "metadata": {
    "#student": false
   },
   "source": [
    "We can get a `value` back out by indexing the `key`:"
   ]
  },
  {
   "cell_type": "code",
   "execution_count": null,
   "metadata": {
    "#student": false
   },
   "outputs": [],
   "source": [
    "my_dict['python']"
   ]
  },
  {
   "cell_type": "markdown",
   "metadata": {
    "#student": false
   },
   "source": [
    "But like real dictionaries, there can be more than one definition. You can keep a `list`, or even another dictionary within a specific `key`:"
   ]
  },
  {
   "cell_type": "code",
   "execution_count": null,
   "metadata": {
    "#student": false
   },
   "outputs": [],
   "source": [
    "my_dict = {'python': ['a large heavy-bodied nonvenomous constrictor snake occurring throughout the Old World tropics.',\n",
    "                      'a high-level general-purpose programming language.']}"
   ]
  },
  {
   "cell_type": "markdown",
   "metadata": {
    "#student": false
   },
   "source": [
    "We can index the `list` after the `key`:"
   ]
  },
  {
   "cell_type": "code",
   "execution_count": null,
   "metadata": {
    "#student": false
   },
   "outputs": [],
   "source": [
    "my_dict['python'][0]"
   ]
  },
  {
   "cell_type": "code",
   "execution_count": null,
   "metadata": {
    "#student": false
   },
   "outputs": [],
   "source": [
    "my_dict['python'][1]"
   ]
  },
  {
   "cell_type": "markdown",
   "metadata": {
    "#student": false
   },
   "source": [
    "**E: Functions**"
   ]
  },
  {
   "cell_type": "markdown",
   "metadata": {
    "#student": false
   },
   "source": [
    "In programming, we often reuse chunks of code. So instead of copy/pasting it and repeating the same code over and over again, we have something called a function, which gives a name to a block of code. This allows us to just call the function instead of rewriting code we used before.\n",
    "\n",
    "For example, this is a function that squares an input."
   ]
  },
  {
   "cell_type": "code",
   "execution_count": null,
   "metadata": {
    "#student": false
   },
   "outputs": [],
   "source": [
    "# This code creates a function named square\n",
    "def square(n):\n",
    "    return n * n"
   ]
  },
  {
   "cell_type": "code",
   "execution_count": null,
   "metadata": {
    "#student": false
   },
   "outputs": [],
   "source": [
    "# Let's find the square of 5\n",
    "square(5)"
   ]
  },
  {
   "cell_type": "code",
   "execution_count": null,
   "metadata": {
    "#student": false
   },
   "outputs": [],
   "source": [
    "# Let's try it with -3\n",
    "square(-3)"
   ]
  },
  {
   "cell_type": "markdown",
   "metadata": {
    "#student": false
   },
   "source": [
    "Our use of functions later in the notebook is more complex than this example. We will use them in order to reduce the amount of code in this notebook. For now, you can just ignore the details and structure of how functions work. Just remember that a **function** is a shortcut to easily re-run old code and that the `def` keyword means we are creating a function."
   ]
  },
  {
   "cell_type": "markdown",
   "metadata": {
    "#student": false
   },
   "source": [
    "---\n",
    "\n",
    "# Part 2: GBIF API<a id='gbif'></a>\n",
    "\n",
    "Click on the [link](http://www.gbif.org/) to the GBIF website to discover what GBIF can do!"
   ]
  },
  {
   "cell_type": "markdown",
   "metadata": {
    "#student": false
   },
   "source": [
    "<div class=\"alert alert-block alert-warning\">\n",
    "    <b>QUESTION 1:</b>\n",
    "    <br />\n",
    "    What does GBIF stand for and who is it coordinated by?\n",
    "</div>"
   ]
  },
  {
   "cell_type": "markdown",
   "metadata": {
    "#student": true
   },
   "source": [
    "\n",
    "YOUR RESPONSE HERE"
   ]
  },
  {
   "cell_type": "markdown",
   "metadata": {
    "#student": false
   },
   "source": [
    "The Global Biodiversity Information Facility has created an API that we can use to get data about different species at the [GBIF Web API](http://www.gbif.org/developer/summary).\n",
    "\n",
    "You can think of a Web API call as a fancy URL. What do you think the end of this URL means?\n",
    "\n",
    "http://api.gbif.org/v1/occurrence/search?year=1800,1899\n",
    "\n",
    "If you're guessing that it limits the search to the years 1800-1899, you're right! Go ahead and click the URL above. You should see something like this:\n",
    "\n",
    "```\n",
    "{\"offset\":0,\"limit\":20,\"endOfRecords\":false,\"count\":5711947,\"results\":[{\"key\":14339704,\"datasetKey\":\"857aa892-f762-11e1-a439-00145eb45e9a\",\"publishingOrgKey\":\"6bcc0290-6e76-11db-bcd5-b8a03c50a862\",\"publishingCountry\":\"FR\",\"protocol\":\"BIOCASE\",\"lastCrawled\":\"2013-09-07T07:06:34.000+0000\",\"crawlId\":1,\"extensions\":{},\"basisOfRecord\":\"OBSERVATION\",\"taxonKey\":2809968,\"kingdomKey\":6,\"phylumKey\":7707728,\"classKey\":196,\"orderKey\":1169,\"familyKey\":7689,\"genusKey\":2849312,\"speciesKey\":2809968,\"scientificName\":\"Orchis militaris L.\",\"kingdom\":\"Plantae\",\"phylum\":\"Tracheophyta\",\"order\":\"Asparagales\",\"family\":\"Orchidaceae\",\"genus\":\"Orchis\",\"species\":\"Orchis \n",
    "```\n",
    "\n",
    "It might look like a mess, but it's not! This is actually very structured data, and can easily be put into a table like format, though often programmers don't do this because it's just as easy to keep it as is.\n",
    "\n",
    "You might be able to pick out the curly braces `{` and think this it's a dictionary. You'd be right, except in this format we call it [JSON](https://en.wikipedia.org/wiki/JSON).\n",
    "\n",
    "---\n",
    "\n",
    "## *Argia arioides*\n",
    "\n",
    "![argia arioides](https://upload.wikimedia.org/wikipedia/commons/thumb/b/bd/Argia_agrioides-Male-1.jpg/220px-Argia_agrioides-Male-1.jpg)\n",
    "\n",
    "When performing data analysis, it is always important to define a question that you seek the answer to. *The goal of finding the answer to this question will ultimately drive the queries and analysis styles you choose to use/write.*\n",
    "\n",
    "For this example, we are going to ask: **where have [*Argia agrioides*](https://www.google.com/search?q=Argia+agrioides&rlz=1C1CHBF_enUS734US734&source=lnms&tbm=isch&sa=X&ved=0ahUKEwji9t29kNTWAhVBymMKHWJ-ANcQ_AUICygC&biw=1536&bih=694) (the California Dancer dragonfly) been documented? Are there records at any of our field stations?**\n",
    "\n",
    "The code to ask the API has already been written for us! This is often the case with programming, someone has already written the code, so we don't have to. We'll just set up the `GBIFRequest` object and assign that to the variable `req`, short for \"request\":"
   ]
  },
  {
   "cell_type": "code",
   "execution_count": null,
   "metadata": {
    "#student": false
   },
   "outputs": [],
   "source": [
    "req = GBIFRequest()  # creating a request to the API"
   ]
  },
  {
   "cell_type": "markdown",
   "metadata": {
    "#student": false
   },
   "source": [
    "Great, so how do we make searches? We can use a Python `dictionary` to create our query parameters. We'll ask for the `scientificName` of the California Dancer (*Argia arioides*):"
   ]
  },
  {
   "cell_type": "code",
   "execution_count": null,
   "metadata": {
    "#student": false
   },
   "outputs": [],
   "source": [
    "params = {'scientificName': 'Argia agrioides'}  # setting our parameters (the specific species we want)"
   ]
  },
  {
   "cell_type": "markdown",
   "metadata": {
    "#student": false
   },
   "source": [
    "Now that we have the parameters, we can feed this to our `req` variable to get back all the pages of data. We'll then make sure that each record has a `decimalLatitude`, otherwise we'll thow it out for now. Lastly, we'll print out the first five records:"
   ]
  },
  {
   "cell_type": "code",
   "execution_count": null,
   "metadata": {
    "#student": false,
    "scrolled": true
   },
   "outputs": [],
   "source": [
    "params = {'scientificName': 'Argia agrioides'}  # setting our parameters (the specific species we want)\n",
    "pages = req.get_pages(params)  # using those parameters to complete the request\n",
    "records = [rec for page in pages for rec in page['results'] if rec.get('decimalLatitude')]  # sift out valid records\n",
    "records[:5]  # print first 5 records"
   ]
  },
  {
   "cell_type": "markdown",
   "metadata": {
    "#student": false
   },
   "source": [
    "That was a lot of code for something that we will be doing multiple times. Instead of copy/pasting that code when we want to get more species records, we can just create something called a function to get the records for us. For now, think of a function as a shortcut to re-run larger chunks of code as one command. The following code cell defines a function to get a given species' records. Notice how almost all of the indented code is the same code we ran above."
   ]
  },
  {
   "cell_type": "code",
   "execution_count": null,
   "metadata": {
    "#student": false
   },
   "outputs": [],
   "source": [
    "def get_species_records(scientific_name):\n",
    "    req = GBIFRequest()  # creating a request to the API\n",
    "    params = {'scientificName': scientific_name}  # setting our parameters (the specific species we want)\n",
    "    pages = req.get_pages(params)  # using those parameters to complete the request\n",
    "    records = [rec for page in pages for rec in page['results'] if rec.get('decimalLatitude')]  # sift out valid records\n",
    "    return records"
   ]
  },
  {
   "cell_type": "markdown",
   "metadata": {
    "#student": false
   },
   "source": [
    "Because we have defined a function, we can get the records of a species in just one line!"
   ]
  },
  {
   "cell_type": "code",
   "execution_count": null,
   "metadata": {
    "#student": false
   },
   "outputs": [],
   "source": [
    "records = get_species_records('Argia agrioides') # Get the species records using the function we defined\n",
    "records[:5] # Show the first five rows of the records we obtained"
   ]
  },
  {
   "cell_type": "markdown",
   "metadata": {
    "#student": false
   },
   "source": [
    "<div class=\"alert alert-block alert-warning\">\n",
    "    <b>QUESTION 2:</b>\n",
    "    <br />\n",
    "    Why might it be useful to know the documented occurences of a species? Name one organization which would find this information useful.\n",
    "</div>"
   ]
  },
  {
   "cell_type": "markdown",
   "metadata": {
    "#student": true
   },
   "source": [
    "\n",
    "YOUR RESPONSE HERE"
   ]
  },
  {
   "cell_type": "markdown",
   "metadata": {
    "#student": false
   },
   "source": [
    "<div class=\"alert alert-block alert-warning\">\n",
    "    <b>QUESTION 3:</b>\n",
    "    <br />\n",
    "    What is the geographic range of an organism.\n",
    "</div>"
   ]
  },
  {
   "cell_type": "markdown",
   "metadata": {
    "#student": true
   },
   "source": [
    "\n",
    "YOUR RESPONSE HERE"
   ]
  },
  {
   "cell_type": "markdown",
   "metadata": {
    "#student": false
   },
   "source": [
    "<div class=\"alert alert-block alert-warning\">\n",
    "    <b>QUESTION 4:</b>\n",
    "    <br />\n",
    "    How do museum records help us to understand how populations are changing?\n",
    "</div>"
   ]
  },
  {
   "cell_type": "markdown",
   "metadata": {
    "#student": true
   },
   "source": [
    "\n",
    "YOUR RESPONSE HERE"
   ]
  },
  {
   "cell_type": "markdown",
   "metadata": {
    "#student": false
   },
   "source": [
    "---"
   ]
  },
  {
   "cell_type": "markdown",
   "metadata": {
    "#student": false
   },
   "source": [
    "### DataFrames\n",
    "\n",
    "The JSON-format data we looked at above contains helpful information but it's really hard to see look through. The text we saw above was just the first 5 entries! Instead, let's create a table that organizes this data for us. We'll use the popular [Pandas](http://pandas.pydata.org/) Python library. In `pandas`, a DataFrame is a table that has several convenient features that make it much easier to read, access, and analyze data."
   ]
  },
  {
   "cell_type": "code",
   "execution_count": null,
   "metadata": {
    "#student": false,
    "scrolled": false
   },
   "outputs": [],
   "source": [
    "records_df = pd.read_json(json.dumps(records))  # converts the JSON above to a dataframe\n",
    "records_df.head()                               # prints the first five rows of the dataframe"
   ]
  },
  {
   "cell_type": "markdown",
   "metadata": {
    "#student": false
   },
   "source": [
    "Since we're going to want to get DataFrames of species records several times in the future, let's also create function that does this for us."
   ]
  },
  {
   "cell_type": "code",
   "execution_count": null,
   "metadata": {
    "#student": false
   },
   "outputs": [],
   "source": [
    "def get_species_records_df(scientific_name):\n",
    "    records = get_species_records(scientific_name) # Get the records using the function we defined earlier\n",
    "    records_df = pd.read_json(json.dumps(records)) # Convert the raw records into a DataFrame\n",
    "    return records_df"
   ]
  },
  {
   "cell_type": "code",
   "execution_count": null,
   "metadata": {
    "#student": false
   },
   "outputs": [],
   "source": [
    "records_df = get_species_records_df('Argia agrioides')"
   ]
  },
  {
   "cell_type": "markdown",
   "metadata": {
    "#student": false
   },
   "source": [
    "DataFrames have a shape attribute which describes its row and column count."
   ]
  },
  {
   "cell_type": "code",
   "execution_count": null,
   "metadata": {
    "#student": false
   },
   "outputs": [],
   "source": [
    "records_df.shape"
   ]
  },
  {
   "cell_type": "markdown",
   "metadata": {
    "#student": false
   },
   "source": [
    "So we have 302 rows and 115 columns! That's a lot of information. What variables do we have in the columns?"
   ]
  },
  {
   "cell_type": "code",
   "execution_count": null,
   "metadata": {
    "#student": false,
    "scrolled": true
   },
   "outputs": [],
   "source": [
    "list(records_df.columns) # Show a list containing the names of every column in our DataFrame"
   ]
  },
  {
   "cell_type": "markdown",
   "metadata": {
    "#student": false
   },
   "source": [
    "We can also use Pandas to analyze and visualize our data. The `value_counts()` function groups our data by a specified column and counts the number of occurrences of each column value."
   ]
  },
  {
   "cell_type": "code",
   "execution_count": null,
   "metadata": {
    "#student": false
   },
   "outputs": [],
   "source": [
    "# How many records are there from every country\n",
    "records_df['country'].value_counts()"
   ]
  },
  {
   "cell_type": "markdown",
   "metadata": {
    "#student": false
   },
   "source": [
    "This tells us that we're looking at data from the US and Mexico. For small examples, this is sufficient, but for columns with more unique values, it might be helpful to look at a bar graph instead. Pandas has a `bar` function that does that for us. Don't worry about the specific syntax of how we do this."
   ]
  },
  {
   "cell_type": "markdown",
   "metadata": {
    "#student": false
   },
   "source": [
    "In the following series of graphps, you might notice that we switch between horizontal and vertical bar graphs. We are going to pick whichever one we think makes our graph easier to read. There isn't much of a difference beyond that."
   ]
  },
  {
   "cell_type": "code",
   "execution_count": null,
   "metadata": {
    "#student": false
   },
   "outputs": [],
   "source": [
    "# Group the data by country and then plot it\n",
    "records_df['country'].value_counts().plot.bar();\n",
    "\n",
    "# This makes the graph easier to read\n",
    "plt.title(r\"${Argia}$\" + r\" ${agrioides}$\" + ' Distribution by Country');\n",
    "plt.xticks(rotation=0);\n",
    "plt.xlabel('Country');\n",
    "plt.ylabel('Count');"
   ]
  },
  {
   "cell_type": "code",
   "execution_count": null,
   "metadata": {
    "#student": false
   },
   "outputs": [],
   "source": [
    "# Code to quickly clean up county names\n",
    "# You can ignore this\n",
    "def clean_up_county(col):\n",
    "    if type(col) == float and np.isnan(col):\n",
    "        return None\n",
    "    else:\n",
    "        return col.replace(' Co.', '').replace(' County', '') + ' County'\n",
    "\n",
    "# Use the function defined above to clean up county names\n",
    "records_df['county_cleaned'] = records_df['county'].apply(clean_up_county)\n",
    "\n",
    "# Make graph easier to read\n",
    "plt.figure(figsize=(10,10)) # Change graph size\n",
    "plt.title(r\"${Argia}$\" + r\" ${agrioides}$\" + ' Distribution by County')\n",
    "plt.xlabel('Count')\n",
    "plt.ylabel('County')\n",
    "\n",
    "# Horizontal Bar Plot so that county names fit\n",
    "records_df['county_cleaned'].value_counts().plot.barh();"
   ]
  },
  {
   "cell_type": "markdown",
   "metadata": {
    "#student": false
   },
   "source": [
    "<div class=\"alert alert-block alert-warning\">\n",
    "    <b>QUESTION 5:</b>\n",
    "    <br />\n",
    "    How many counties have only one record of <i>Argia agrioides</i>? \n",
    "</div>"
   ]
  },
  {
   "cell_type": "markdown",
   "metadata": {
    "#student": true
   },
   "source": [
    "\n",
    "YOUR RESPONSE HERE"
   ]
  },
  {
   "cell_type": "markdown",
   "metadata": {
    "#student": false
   },
   "source": [
    "Here's an example of Pandas code that can calculate it for you. It's kind of confusing so don't sweat the details. Compare this with your answer above."
   ]
  },
  {
   "cell_type": "code",
   "execution_count": null,
   "metadata": {
    "#student": false
   },
   "outputs": [],
   "source": [
    "sum(records_df['county_cleaned'].value_counts() == 1)"
   ]
  },
  {
   "cell_type": "markdown",
   "metadata": {
    "#student": false
   },
   "source": [
    "<div class=\"alert alert-block alert-warning\">\n",
    "    <b>QUESTION 6:</b>\n",
    "    <br />\n",
    "    Stanislaus County has the highest record of <i>Argia agrioides</i>. Other than high abundance in this county, why else might there be a high number of records here?\n",
    "</div>"
   ]
  },
  {
   "cell_type": "markdown",
   "metadata": {
    "#student": true
   },
   "source": [
    "\n",
    "YOUR RESPONSE HERE"
   ]
  },
  {
   "cell_type": "markdown",
   "metadata": {
    "#student": false
   },
   "source": [
    "Let's take a look at how each record was obtained."
   ]
  },
  {
   "cell_type": "code",
   "execution_count": null,
   "metadata": {
    "#student": false
   },
   "outputs": [],
   "source": [
    "records_df['basisOfRecord'].value_counts().plot.bar();\n",
    "\n",
    "# This makes the graph easier to read\n",
    "plt.title(r\"${Argia}$\" + r\" ${agrioides}$\" + ' Distribution by Source');\n",
    "plt.xticks(rotation=0);\n",
    "plt.xlabel('Source');\n",
    "plt.ylabel('Count');"
   ]
  },
  {
   "cell_type": "markdown",
   "metadata": {
    "#student": false
   },
   "source": [
    "<div class=\"alert alert-block alert-warning\">\n",
    "    <b>QUESTION 7:</b>\n",
    "    <br />\n",
    "    What are some cautions that should be taken when including human observations? What are the benefits? \n",
    "</div>"
   ]
  },
  {
   "cell_type": "markdown",
   "metadata": {
    "#student": true
   },
   "source": [
    "\n",
    "YOUR RESPONSE HERE"
   ]
  },
  {
   "cell_type": "code",
   "execution_count": null,
   "metadata": {
    "#student": false
   },
   "outputs": [],
   "source": [
    "records_df['collectionCode'].value_counts().plot.barh();\n",
    "\n",
    "# This makes the graph easier to read\n",
    "plt.title(r\"${Argia}$\" + r\" ${agrioides}$\" + ' Distribution by Collection');\n",
    "plt.xlabel('Collection');\n",
    "plt.ylabel('Count');"
   ]
  },
  {
   "cell_type": "markdown",
   "metadata": {
    "#student": false
   },
   "source": [
    "<div class=\"alert alert-block alert-warning\">\n",
    "    <b>QUESTION 8:</b>\n",
    "    <br />\n",
    "    Each museum has a unique institution code (called a collection code). How many records belong to the Essig Museum of Entomology Collection?\n",
    "</div>"
   ]
  },
  {
   "cell_type": "markdown",
   "metadata": {
    "#student": true
   },
   "source": [
    "\n",
    "YOUR RESPONSE HERE"
   ]
  },
  {
   "cell_type": "markdown",
   "metadata": {
    "#student": false
   },
   "source": [
    "It's harder to check the exact number of records this time because the scale is larger. Let's check how close your answer was to the true amount."
   ]
  },
  {
   "cell_type": "code",
   "execution_count": null,
   "metadata": {
    "#student": false
   },
   "outputs": [],
   "source": [
    "sum(records_df['collectionCode'] == 'EMEC')"
   ]
  },
  {
   "cell_type": "markdown",
   "metadata": {
    "#student": false
   },
   "source": [
    "---"
   ]
  },
  {
   "cell_type": "markdown",
   "metadata": {
    "#student": false
   },
   "source": [
    "The `groupby()` method allows us to group our data by the values in a specified column. We can then graph our data."
   ]
  },
  {
   "cell_type": "code",
   "execution_count": null,
   "metadata": {
    "#student": false
   },
   "outputs": [],
   "source": [
    "records_df.groupby([\"collectionCode\", \"basisOfRecord\"])['basisOfRecord'].count().unstack().plot.barh(stacked=True);\n",
    "\n",
    "# This makes the graph easier to read\n",
    "plt.title(r\"${Argia}$\" + r\" ${agrioides}$\" + ' Distribution by Collection Code and Source');\n",
    "plt.xticks(rotation=0);\n",
    "plt.xlabel('Count');\n",
    "plt.ylabel('Collection');"
   ]
  },
  {
   "cell_type": "markdown",
   "metadata": {
    "#student": false
   },
   "source": [
    "Here's another example using County and Collection Code."
   ]
  },
  {
   "cell_type": "code",
   "execution_count": null,
   "metadata": {
    "#student": false
   },
   "outputs": [],
   "source": [
    "records_df.groupby([\"county_cleaned\", \"collectionCode\"])['collectionCode'].count().unstack().plot.barh(stacked=True, figsize=(10, 10));\n",
    "\n",
    "# Make graph easier to read\n",
    "plt.title(r\"${Argia}$\" + r\" ${agrioides}$\" + ' Distribution by County and Collection');\n",
    "plt.xlabel('Count');\n",
    "plt.ylabel('County');"
   ]
  },
  {
   "cell_type": "markdown",
   "metadata": {
    "#student": false
   },
   "source": [
    "And we can use `plot.hist()` to make a histogram:"
   ]
  },
  {
   "cell_type": "code",
   "execution_count": null,
   "metadata": {
    "#student": false
   },
   "outputs": [],
   "source": [
    "records_df['elevation'].plot.hist();\n",
    "\n",
    "# Make graph easier to read\n",
    "plt.title(r\"${Argia}$\" + r\" ${agrioides}$\" + ' Distribution by Elevation')\n",
    "plt.xlabel('Elevation (m)');"
   ]
  },
  {
   "cell_type": "markdown",
   "metadata": {
    "#student": false
   },
   "source": [
    "<div class=\"alert alert-block alert-warning\">\n",
    "    <b>QUESTION 9:</b>\n",
    "    <br />\n",
    "    What does plotting the elevation indicate about the distribution of <i>Argia agrioides</i>? Can you infer anything about the biology of the organism from this information?\n",
    "</div>"
   ]
  },
  {
   "cell_type": "markdown",
   "metadata": {
    "#student": true
   },
   "source": [
    "\n",
    "YOUR RESPONSE HERE"
   ]
  },
  {
   "cell_type": "markdown",
   "metadata": {
    "#student": false
   },
   "source": [
    "---"
   ]
  },
  {
   "cell_type": "markdown",
   "metadata": {
    "#student": false
   },
   "source": [
    "<div class=\"alert alert-block alert-info\">\n",
    "    <b>EXERCISE 1:</b>\n",
    "    <br />\n",
    "    Edit the code below to search for a different species you're interested in, then use  the graphing cells below to explore your data! Pick a species and replace ... with its scientific name. Make sure to add quotation marks around the name!\n",
    "</div>\n",
    "\n",
    "**Hint:** Here's what the code looks like if we used _Argia agrioides_ again:\n",
    "```\n",
    "my_records_df = get_species_records_df('Argia agrioides')\n",
    "my_records_df.head()\n",
    "```"
   ]
  },
  {
   "cell_type": "code",
   "execution_count": null,
   "metadata": {
    "#student": false
   },
   "outputs": [],
   "source": [
    "my_records_df = get_species_records_df(...)\n",
    "my_records_df.head() # Show the first 5 records"
   ]
  },
  {
   "cell_type": "markdown",
   "metadata": {
    "#student": false
   },
   "source": [
    "If the output above doesn't contain a table, that means either you didn't enter a name or the scientific name isn't in the database. Make sure you typed it correctly without abbreviating the species name. You might also have to use a different capitalization."
   ]
  },
  {
   "cell_type": "code",
   "execution_count": null,
   "metadata": {
    "#student": false
   },
   "outputs": [],
   "source": [
    "my_records_df['year'].plot.hist();\n",
    "\n",
    "# Make graph easier to read\n",
    "plt.title('Species Distribution by Year')\n",
    "plt.xlabel('Year');"
   ]
  },
  {
   "cell_type": "code",
   "execution_count": null,
   "metadata": {
    "#student": false
   },
   "outputs": [],
   "source": [
    "# Alternative plot to use if there isn't a collection code\n",
    "# my_records_df['county'].value_counts().plot.barh();\n",
    "\n",
    "my_records_df['county_cleaned'] = my_records_df['county'].apply(clean_up_county)\n",
    "my_records_df.groupby([\"county_cleaned\", \"collectionCode\"])['collectionCode'].count().unstack().plot.barh(stacked=True, figsize=(10, 10));\n",
    "\n",
    "# Make graph easier to read\n",
    "plt.title('Species Distribution by County and Collection');\n",
    "plt.xlabel('Count');\n",
    "plt.ylabel('County');"
   ]
  },
  {
   "cell_type": "markdown",
   "metadata": {
    "#student": false
   },
   "source": [
    "<div class=\"alert alert-block alert-warning\">\n",
    "    <b>QUESTION 10:</b>\n",
    "    <br />\n",
    "    What county has the highest number records?\n",
    "</div>"
   ]
  },
  {
   "cell_type": "markdown",
   "metadata": {
    "#student": true
   },
   "source": [
    "\n",
    "YOUR RESPONSE HERE"
   ]
  },
  {
   "cell_type": "code",
   "execution_count": null,
   "metadata": {
    "#student": false
   },
   "outputs": [],
   "source": [
    "my_records_df['elevation'].plot.hist();\n",
    "\n",
    "# Make graph easier to read\n",
    "plt.title('Species Distribution by Elevation')\n",
    "plt.xlabel('Elevation (m)');"
   ]
  },
  {
   "cell_type": "markdown",
   "metadata": {
    "#student": false
   },
   "source": [
    "<div class=\"alert alert-block alert-warning\">\n",
    "    <b>QUESTION 11:</b>\n",
    "    <br />\n",
    "    What is the elevation range of your organism?\n",
    "</div>"
   ]
  },
  {
   "cell_type": "markdown",
   "metadata": {
    "#student": true
   },
   "source": [
    "\n",
    "YOUR RESPONSE HERE"
   ]
  },
  {
   "cell_type": "code",
   "execution_count": null,
   "metadata": {
    "#student": false
   },
   "outputs": [],
   "source": [
    "my_records_df['basisOfRecord'].value_counts().plot.bar();\n",
    "\n",
    "# This makes the graph easier to read\n",
    "plt.title('Species Distribution by Source');\n",
    "plt.xticks(rotation=0);\n",
    "plt.xlabel('Source');\n",
    "plt.ylabel('Count');"
   ]
  },
  {
   "cell_type": "markdown",
   "metadata": {
    "#student": false
   },
   "source": [
    "<div class=\"alert alert-block alert-warning\">\n",
    "    <b>QUESTION 12:</b>\n",
    "    <br />\n",
    "    Which has more: observations or preserved specimens? Why might this be?\n",
    "</div>"
   ]
  },
  {
   "cell_type": "markdown",
   "metadata": {
    "#student": true
   },
   "source": [
    "\n",
    "YOUR RESPONSE HERE"
   ]
  },
  {
   "cell_type": "markdown",
   "metadata": {
    "#student": false
   },
   "source": [
    "---\n",
    "\n",
    "**Make sure that you've answered questions 1-12. Also make sure you've done the 1 code exercise.**\n",
    "\n",
    "You are finished with this notebook! Please run the following cell to generate a download link for your submission file.\n",
    "\n",
    "If the download link does not work, open a new tab and go to https://datahub.berkeley.edu, click the box next to `notebook1_submission.pdf`, then click the \"Download\" link below the menu bar.\n",
    "\n",
    "**Check the PDF before submitting and make sure all of your answers & code changes are shown.**"
   ]
  },
  {
   "cell_type": "code",
   "execution_count": null,
   "metadata": {
    "#student": false
   },
   "outputs": [],
   "source": [
    "!pip install gsexport -q\n",
    "import gsExport\n",
    "gsExport.generateSubmission(\"notebook1.ipynb\")"
   ]
  },
  {
   "cell_type": "markdown",
   "metadata": {
    "#student": false
   },
   "source": [
    "---\n",
    "\n",
    "Notebook developed by: Michelle Koo, Nina Pak, Natalie Graham, Monica Wilkinson, Andy Sheu, Harry Li\n",
    "\n",
    "[Data Science Modules](http://data.berkeley.edu/education/modules)"
   ]
  }
 ],
 "metadata": {
  "anaconda-cloud": {},
  "checksums": [
   "7c2afa2dc78429f5ca7b18d4c21da155",
   "1eb36c1e0fe6d10f00727260c224fd63",
   "89226a25ddec4f1c72d15b81ecc1b1da",
   "cc029a5ef0f58a28f7561088179662b1",
   "44bacf57cd16e64ac83554bb75a62208",
   "9ac6aca79683d3b735595a945aac7aac",
   "50bdea8623c3a9d599358244fee3de6f",
   "047d77a7fdec55cf903fe9936b4e25ae",
   "c8cb0616edfae6649ba4c43e5a4b23bd",
   "4a9705962836d02eb5dc91a40d33562a",
   "52fe40f96c4b7d0951e7e88a8a17593f",
   "6b37da965821a111a019d0f71c3ff994",
   "fdf4dc02203a065568d46ee8a429124b",
   "729b2fd269628bf194226ba3dccee595",
   "f937888014d36a74142c3d7682499cb3",
   "4d7a3b0dde85307907966ad910c22396",
   "dbe869a77a85312dfc1a3ad454354578",
   "c1dbe5c6c304bfe95fd924e10693d87c",
   "ba730ba02fc5c68543d976ee47379cbe",
   "e086c485bbb099eda10e1d99eb7d8083",
   "332d3f597a87a41d058e1d2785b2c758",
   "69c599522ddcc3620bdd0712a77699b4",
   "2163ff6a1ea6f9ba80fbd31aff5becdf",
   "071ad810c297bc347f0bef6a11e27645",
   "2e0fb5c8ed2a2eb6be58427f36e5a182",
   "45cd11d379598a149a2bd1c7815bf63d",
   "5f29e02df5c115ab3907ca7af0977021",
   "7f8ad0ed026bca18ab0e6cf8aed43267",
   "074e418aa7b0b48fd40424c87f9df310",
   "d1bd61960db7a42b42aeb8678ff53e91",
   "2ebd83d084a27debdf16783fdfe428ec",
   "f847e0364e4a4baa4a9b4f90cc8a0943",
   "efcf93e5236dfa283c086b7aa9431c4f",
   "0f9fb7f1d59ab440dfb2110d02b0d8b4",
   "6b09e903fb132eeb4f3ee90e917af912",
   "7c61fe201b549a73c1de99c888c41f5c",
   "1895de76fb4e816b983c2c53498a5e09",
   "96ecfe8e82bc2decee2f2690e5083f8d",
   "8cc91fe81f4e9ec93995a06ec59975e2",
   "6d8e27ae0ecd7510d7a8d01731ca4abe",
   "97d5532797deaacfefcd5528578a5945",
   "42a7929bf149d872294acb1d7178dd50",
   "4f12e14afce35e0f745055018e05808b",
   "8708ed288b363c38a000dabc59c820b2",
   "abafef6b1d45bb022c4465448a926ab9",
   "ef5a2425526506c38ca8863deb038691",
   "027c907803d90ccd4259516e8c9ecda2",
   "58e8a94c36f600ae5deb457a0d295d5e",
   "d8ae7b94af8db7e0b95a73adb005299d",
   "8a4652287ce6a52564ddabc55e44232b",
   "8cc91fe81f4e9ec93995a06ec59975e2",
   "4c60f467f06f2f649298b8929274772f",
   "8cc91fe81f4e9ec93995a06ec59975e2",
   "d1ed325d3831e8fd6348acfbaf47c4b2",
   "8cc91fe81f4e9ec93995a06ec59975e2",
   "9efc314b65237d5d646e1b817372afc6",
   "6301994af42e0b0a42afc4aff221c46e",
   "e0a8f100b63d9b37e9981fe18b683c58",
   "cce4deff3f5a8f4a6c8a5db2500e48d4",
   "b709dc2e0f8c196d3d96476886b88267",
   "0dad8a8b5334e4c4310489b93b878f4e",
   "f402a7f897f4869b355903f81b9160ef",
   "baa3169a8917f35a009758d6502603d9",
   "dc56340983a1814206360f7004486991",
   "b05bf309241b9cde24c089204ecfc85f",
   "9d0ae9c03830e445b69800a36052e748",
   "7f89b6ec61f8852caade710f105698df",
   "54647b68e905c45e7ff5efb838afa812",
   "e7c4826a57db47780c69daf0b7427802",
   "b4272c9eb90581187fe596e48c203f2a",
   "e1bee78ff0e260292d217e6e05610c2f",
   "ba57e03a1edc4ceba1dd6fd1d06ca9ee",
   "8cc91fe81f4e9ec93995a06ec59975e2",
   "c555d5c33c53749b91308a680e8dfc25",
   "90fee3fb738f4200e8152bff3eccef94",
   "b2454988b8bfcdad4ea1e218e47e4f30",
   "8cc91fe81f4e9ec93995a06ec59975e2",
   "96f1a741ccf06f9628314ba0c089fd56",
   "0a80eda726d32531018d0d5fbd72a02f",
   "26d76940319918f91dbcf1b4dfeef6e0",
   "8cc91fe81f4e9ec93995a06ec59975e2",
   "099abaa178d2ae754d8d1d11867c14ba",
   "87c974981ab7dada643dbb08b72b58c9",
   "8cc91fe81f4e9ec93995a06ec59975e2",
   "d40e66cda8f42b75ae28d3f45e723afa",
   "1db7131a794320cd9b563e60e2f2f4c6",
   "9efc314b65237d5d646e1b817372afc6",
   "9388bdba5e86e7849e4429049a4b0856",
   "f50f1b65747a04e00ad52965c31db16d",
   "0cf5ee50c2e9a2b1a46db9e9e8f572f3",
   "b2026c13de5b79ddeced14943bf6319f",
   "721376a4a23be7062948139a597e8154",
   "d0072d4081b3dc374b6464f746e78e61",
   "a0b48c99bb3c31ff56e566aafb0da316",
   "8cc91fe81f4e9ec93995a06ec59975e2",
   "9efc314b65237d5d646e1b817372afc6",
   "f4acd69e0030b09a86e68150ba166069",
   "79d5e4f4125c673732c58cf75f4966a7",
   "888310fd319888a7828036a6884869a8",
   "397015d02ce652dcbbaebf540ee7d65a",
   "9ab53b3ba3280bad9c11b12839838f9b",
   "4e025e465763e879e1b4ee5da5338768",
   "8cc91fe81f4e9ec93995a06ec59975e2",
   "aa4f3bed0b2656733be4dc9c3c6d54bb",
   "f272bb22769cc28ca96ebd8306750b37",
   "8cc91fe81f4e9ec93995a06ec59975e2",
   "0585947ff1a484048735f192379f01ea",
   "632f5048faf5b4661e7d2c5d3c301751",
   "8cc91fe81f4e9ec93995a06ec59975e2",
   "c36d19ad08856bcd258ba8d9b1994d05",
   "f0df37175da9072396c2f16ac3dd6a46",
   "1a0884e98e322e85a9863d83c6687ba8"
  ],
  "kernelspec": {
   "display_name": "Python 3",
   "language": "python",
   "name": "python3"
  },
  "language_info": {
   "codemirror_mode": {
    "name": "ipython",
    "version": 3
   },
   "file_extension": ".py",
   "mimetype": "text/x-python",
   "name": "python",
   "nbconvert_exporter": "python",
   "pygments_lexer": "ipython3",
   "version": "3.6.8"
  },
  "number_of_pagebreaks": 0
 },
 "nbformat": 4,
 "nbformat_minor": 1
}
